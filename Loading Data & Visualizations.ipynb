{
 "cells": [
  {
   "cell_type": "markdown",
   "id": "b1000c98-ef28-4474-813b-956b0772fcf8",
   "metadata": {},
   "source": [
    "## Loading Data & Visualizations"
   ]
  },
  {
   "cell_type": "markdown",
   "id": "2445985e-31bc-42e7-8792-25ce7ce3483d",
   "metadata": {},
   "source": [
    "Goals:\n",
    "- Get data\n",
    "- Inspect data\n",
    "- The .pipe method"
   ]
  },
  {
   "cell_type": "markdown",
   "id": "74ee42d7-59a1-4117-aceb-08cefe612411",
   "metadata": {},
   "source": [
    "#### Loading Data"
   ]
  },
  {
   "cell_type": "code",
   "execution_count": 1,
   "id": "3c105e62-0b34-48c4-8008-8d4eb89b17fb",
   "metadata": {},
   "outputs": [
    {
     "name": "stdout",
     "output_type": "stream",
     "text": [
      "Requirement already satisfied: matplotlib in d:\\python\\lib\\site-packages (3.10.0)\n",
      "Requirement already satisfied: contourpy>=1.0.1 in d:\\python\\lib\\site-packages (from matplotlib) (1.3.1)\n",
      "Requirement already satisfied: cycler>=0.10 in d:\\python\\lib\\site-packages (from matplotlib) (0.12.1)\n",
      "Requirement already satisfied: fonttools>=4.22.0 in d:\\python\\lib\\site-packages (from matplotlib) (4.56.0)\n",
      "Requirement already satisfied: kiwisolver>=1.3.1 in d:\\python\\lib\\site-packages (from matplotlib) (1.4.8)\n",
      "Requirement already satisfied: numpy>=1.23 in d:\\python\\lib\\site-packages (from matplotlib) (1.26.4)\n",
      "Requirement already satisfied: packaging>=20.0 in d:\\python\\lib\\site-packages (from matplotlib) (24.1)\n",
      "Requirement already satisfied: pillow>=8 in d:\\python\\lib\\site-packages (from matplotlib) (10.4.0)\n",
      "Requirement already satisfied: pyparsing>=2.3.1 in d:\\python\\lib\\site-packages (from matplotlib) (3.2.1)\n",
      "Requirement already satisfied: python-dateutil>=2.7 in d:\\python\\lib\\site-packages (from matplotlib) (2.9.0.post0)\n",
      "Requirement already satisfied: six>=1.5 in d:\\python\\lib\\site-packages (from python-dateutil>=2.7->matplotlib) (1.16.0)\n"
     ]
    },
    {
     "name": "stderr",
     "output_type": "stream",
     "text": [
      "\n",
      "[notice] A new release of pip is available: 24.0 -> 25.0.1\n",
      "[notice] To update, run: python.exe -m pip install --upgrade pip\n"
     ]
    }
   ],
   "source": [
    "!pip install matplotlib"
   ]
  },
  {
   "cell_type": "code",
   "execution_count": 2,
   "id": "8a13fc46-d77e-4ba6-ad4a-7d6a6c55680e",
   "metadata": {},
   "outputs": [
    {
     "name": "stdout",
     "output_type": "stream",
     "text": [
      "Requirement already satisfied: yfinance in d:\\python\\lib\\site-packages (0.2.52)\n",
      "Requirement already satisfied: pandas>=1.3.0 in d:\\python\\lib\\site-packages (from yfinance) (2.2.2)\n",
      "Requirement already satisfied: numpy>=1.16.5 in d:\\python\\lib\\site-packages (from yfinance) (1.26.4)\n",
      "Requirement already satisfied: requests>=2.31 in d:\\python\\lib\\site-packages (from yfinance) (2.32.3)\n",
      "Requirement already satisfied: multitasking>=0.0.7 in d:\\python\\lib\\site-packages (from yfinance) (0.0.11)\n",
      "Requirement already satisfied: lxml>=4.9.1 in d:\\python\\lib\\site-packages (from yfinance) (5.2.2)\n",
      "Requirement already satisfied: platformdirs>=2.0.0 in d:\\python\\lib\\site-packages (from yfinance) (4.3.2)\n",
      "Requirement already satisfied: pytz>=2022.5 in d:\\python\\lib\\site-packages (from yfinance) (2024.1)\n",
      "Requirement already satisfied: frozendict>=2.3.4 in d:\\python\\lib\\site-packages (from yfinance) (2.4.6)\n",
      "Requirement already satisfied: peewee>=3.16.2 in d:\\python\\lib\\site-packages (from yfinance) (3.17.9)\n",
      "Requirement already satisfied: beautifulsoup4>=4.11.1 in d:\\python\\lib\\site-packages (from yfinance) (4.12.3)\n",
      "Requirement already satisfied: html5lib>=1.1 in d:\\python\\lib\\site-packages (from yfinance) (1.1)\n",
      "Requirement already satisfied: soupsieve>1.2 in d:\\python\\lib\\site-packages (from beautifulsoup4>=4.11.1->yfinance) (2.5)\n",
      "Requirement already satisfied: six>=1.9 in d:\\python\\lib\\site-packages (from html5lib>=1.1->yfinance) (1.16.0)\n",
      "Requirement already satisfied: webencodings in d:\\python\\lib\\site-packages (from html5lib>=1.1->yfinance) (0.5.1)\n",
      "Requirement already satisfied: python-dateutil>=2.8.2 in d:\\python\\lib\\site-packages (from pandas>=1.3.0->yfinance) (2.9.0.post0)\n",
      "Requirement already satisfied: tzdata>=2022.7 in d:\\python\\lib\\site-packages (from pandas>=1.3.0->yfinance) (2024.1)\n",
      "Requirement already satisfied: charset-normalizer<4,>=2 in d:\\python\\lib\\site-packages (from requests>=2.31->yfinance) (3.3.2)\n",
      "Requirement already satisfied: idna<4,>=2.5 in d:\\python\\lib\\site-packages (from requests>=2.31->yfinance) (3.7)\n",
      "Requirement already satisfied: urllib3<3,>=1.21.1 in d:\\python\\lib\\site-packages (from requests>=2.31->yfinance) (2.2.2)\n",
      "Requirement already satisfied: certifi>=2017.4.17 in d:\\python\\lib\\site-packages (from requests>=2.31->yfinance) (2024.7.4)\n"
     ]
    },
    {
     "name": "stderr",
     "output_type": "stream",
     "text": [
      "\n",
      "[notice] A new release of pip is available: 24.0 -> 25.0.1\n",
      "[notice] To update, run: python.exe -m pip install --upgrade pip\n"
     ]
    }
   ],
   "source": [
    "!pip install yfinance"
   ]
  },
  {
   "cell_type": "code",
   "execution_count": 3,
   "id": "772b692c-330e-4a64-a5c6-3f05a9ee0a0a",
   "metadata": {},
   "outputs": [],
   "source": [
    "from matplotlib import dates\n",
    "import matplotlib.pyplot as plt\n",
    "import numpy as np\n",
    "import pandas as pd\n",
    "import yfinance as yf"
   ]
  },
  {
   "cell_type": "code",
   "execution_count": 4,
   "id": "7d6d3107-38d3-4f62-93f4-71065e278504",
   "metadata": {},
   "outputs": [
    {
     "name": "stderr",
     "output_type": "stream",
     "text": [
      "[*********************100%***********************]  2 of 2 completed\n"
     ]
    }
   ],
   "source": [
    "raw = yf.download('SPY AAPL', start='2010-01-01', end='2019-12-31')"
   ]
  },
  {
   "cell_type": "code",
   "execution_count": 5,
   "id": "fee3ac71-5c2c-4a2d-b290-512be7470d45",
   "metadata": {},
   "outputs": [
    {
     "data": {
      "text/html": [
       "<div>\n",
       "<style scoped>\n",
       "    .dataframe tbody tr th:only-of-type {\n",
       "        vertical-align: middle;\n",
       "    }\n",
       "\n",
       "    .dataframe tbody tr th {\n",
       "        vertical-align: top;\n",
       "    }\n",
       "\n",
       "    .dataframe thead tr th {\n",
       "        text-align: left;\n",
       "    }\n",
       "\n",
       "    .dataframe thead tr:last-of-type th {\n",
       "        text-align: right;\n",
       "    }\n",
       "</style>\n",
       "<table border=\"1\" class=\"dataframe\">\n",
       "  <thead>\n",
       "    <tr>\n",
       "      <th>Price</th>\n",
       "      <th colspan=\"2\" halign=\"left\">Close</th>\n",
       "      <th colspan=\"2\" halign=\"left\">High</th>\n",
       "      <th colspan=\"2\" halign=\"left\">Low</th>\n",
       "      <th colspan=\"2\" halign=\"left\">Open</th>\n",
       "      <th colspan=\"2\" halign=\"left\">Volume</th>\n",
       "    </tr>\n",
       "    <tr>\n",
       "      <th>Ticker</th>\n",
       "      <th>AAPL</th>\n",
       "      <th>SPY</th>\n",
       "      <th>AAPL</th>\n",
       "      <th>SPY</th>\n",
       "      <th>AAPL</th>\n",
       "      <th>SPY</th>\n",
       "      <th>AAPL</th>\n",
       "      <th>SPY</th>\n",
       "      <th>AAPL</th>\n",
       "      <th>SPY</th>\n",
       "    </tr>\n",
       "    <tr>\n",
       "      <th>Date</th>\n",
       "      <th></th>\n",
       "      <th></th>\n",
       "      <th></th>\n",
       "      <th></th>\n",
       "      <th></th>\n",
       "      <th></th>\n",
       "      <th></th>\n",
       "      <th></th>\n",
       "      <th></th>\n",
       "      <th></th>\n",
       "    </tr>\n",
       "  </thead>\n",
       "  <tbody>\n",
       "    <tr>\n",
       "      <th>2010-01-04</th>\n",
       "      <td>6.440333</td>\n",
       "      <td>86.026459</td>\n",
       "      <td>6.455079</td>\n",
       "      <td>86.072002</td>\n",
       "      <td>6.391280</td>\n",
       "      <td>84.644935</td>\n",
       "      <td>6.422879</td>\n",
       "      <td>85.297743</td>\n",
       "      <td>493729600</td>\n",
       "      <td>118944600</td>\n",
       "    </tr>\n",
       "    <tr>\n",
       "      <th>2010-01-05</th>\n",
       "      <td>6.451467</td>\n",
       "      <td>86.254189</td>\n",
       "      <td>6.487880</td>\n",
       "      <td>86.292145</td>\n",
       "      <td>6.417460</td>\n",
       "      <td>85.662108</td>\n",
       "      <td>6.458087</td>\n",
       "      <td>85.973333</td>\n",
       "      <td>601904800</td>\n",
       "      <td>111579900</td>\n",
       "    </tr>\n",
       "    <tr>\n",
       "      <th>2010-01-06</th>\n",
       "      <td>6.348847</td>\n",
       "      <td>86.314873</td>\n",
       "      <td>6.477046</td>\n",
       "      <td>86.527414</td>\n",
       "      <td>6.342226</td>\n",
       "      <td>86.102332</td>\n",
       "      <td>6.451466</td>\n",
       "      <td>86.170646</td>\n",
       "      <td>552160000</td>\n",
       "      <td>116074400</td>\n",
       "    </tr>\n",
       "    <tr>\n",
       "      <th>2010-01-07</th>\n",
       "      <td>6.337108</td>\n",
       "      <td>86.679268</td>\n",
       "      <td>6.379841</td>\n",
       "      <td>86.785539</td>\n",
       "      <td>6.291065</td>\n",
       "      <td>85.912596</td>\n",
       "      <td>6.372318</td>\n",
       "      <td>86.155501</td>\n",
       "      <td>477131200</td>\n",
       "      <td>131091100</td>\n",
       "    </tr>\n",
       "    <tr>\n",
       "      <th>2010-01-08</th>\n",
       "      <td>6.379241</td>\n",
       "      <td>86.967728</td>\n",
       "      <td>6.379844</td>\n",
       "      <td>87.005684</td>\n",
       "      <td>6.291369</td>\n",
       "      <td>86.276968</td>\n",
       "      <td>6.328684</td>\n",
       "      <td>86.451553</td>\n",
       "      <td>447610800</td>\n",
       "      <td>126402800</td>\n",
       "    </tr>\n",
       "    <tr>\n",
       "      <th>...</th>\n",
       "      <td>...</td>\n",
       "      <td>...</td>\n",
       "      <td>...</td>\n",
       "      <td>...</td>\n",
       "      <td>...</td>\n",
       "      <td>...</td>\n",
       "      <td>...</td>\n",
       "      <td>...</td>\n",
       "      <td>...</td>\n",
       "      <td>...</td>\n",
       "    </tr>\n",
       "    <tr>\n",
       "      <th>2019-12-23</th>\n",
       "      <td>68.757652</td>\n",
       "      <td>297.810944</td>\n",
       "      <td>68.818178</td>\n",
       "      <td>298.209600</td>\n",
       "      <td>67.878812</td>\n",
       "      <td>297.662600</td>\n",
       "      <td>67.917550</td>\n",
       "      <td>298.153975</td>\n",
       "      <td>98572000</td>\n",
       "      <td>52990000</td>\n",
       "    </tr>\n",
       "    <tr>\n",
       "      <th>2019-12-24</th>\n",
       "      <td>68.823036</td>\n",
       "      <td>297.820190</td>\n",
       "      <td>68.973147</td>\n",
       "      <td>298.089036</td>\n",
       "      <td>68.496201</td>\n",
       "      <td>297.514224</td>\n",
       "      <td>68.924723</td>\n",
       "      <td>298.042691</td>\n",
       "      <td>48478800</td>\n",
       "      <td>20270000</td>\n",
       "    </tr>\n",
       "    <tr>\n",
       "      <th>2019-12-26</th>\n",
       "      <td>70.188469</td>\n",
       "      <td>299.405548</td>\n",
       "      <td>70.205418</td>\n",
       "      <td>299.414828</td>\n",
       "      <td>68.927107</td>\n",
       "      <td>298.200298</td>\n",
       "      <td>68.956159</td>\n",
       "      <td>298.209550</td>\n",
       "      <td>93121200</td>\n",
       "      <td>30911200</td>\n",
       "    </tr>\n",
       "    <tr>\n",
       "      <th>2019-12-27</th>\n",
       "      <td>70.161858</td>\n",
       "      <td>299.331390</td>\n",
       "      <td>71.171436</td>\n",
       "      <td>300.202890</td>\n",
       "      <td>69.755124</td>\n",
       "      <td>298.793671</td>\n",
       "      <td>70.481437</td>\n",
       "      <td>300.147264</td>\n",
       "      <td>146266000</td>\n",
       "      <td>42528800</td>\n",
       "    </tr>\n",
       "    <tr>\n",
       "      <th>2019-12-30</th>\n",
       "      <td>70.578293</td>\n",
       "      <td>297.681091</td>\n",
       "      <td>70.861558</td>\n",
       "      <td>299.553901</td>\n",
       "      <td>69.053038</td>\n",
       "      <td>297.189717</td>\n",
       "      <td>70.079558</td>\n",
       "      <td>299.414838</td>\n",
       "      <td>144114400</td>\n",
       "      <td>49729100</td>\n",
       "    </tr>\n",
       "  </tbody>\n",
       "</table>\n",
       "<p>2515 rows × 10 columns</p>\n",
       "</div>"
      ],
      "text/plain": [
       "Price           Close                   High                    Low  \\\n",
       "Ticker           AAPL         SPY       AAPL         SPY       AAPL   \n",
       "Date                                                                  \n",
       "2010-01-04   6.440333   86.026459   6.455079   86.072002   6.391280   \n",
       "2010-01-05   6.451467   86.254189   6.487880   86.292145   6.417460   \n",
       "2010-01-06   6.348847   86.314873   6.477046   86.527414   6.342226   \n",
       "2010-01-07   6.337108   86.679268   6.379841   86.785539   6.291065   \n",
       "2010-01-08   6.379241   86.967728   6.379844   87.005684   6.291369   \n",
       "...               ...         ...        ...         ...        ...   \n",
       "2019-12-23  68.757652  297.810944  68.818178  298.209600  67.878812   \n",
       "2019-12-24  68.823036  297.820190  68.973147  298.089036  68.496201   \n",
       "2019-12-26  70.188469  299.405548  70.205418  299.414828  68.927107   \n",
       "2019-12-27  70.161858  299.331390  71.171436  300.202890  69.755124   \n",
       "2019-12-30  70.578293  297.681091  70.861558  299.553901  69.053038   \n",
       "\n",
       "Price                        Open                 Volume             \n",
       "Ticker             SPY       AAPL         SPY       AAPL        SPY  \n",
       "Date                                                                 \n",
       "2010-01-04   84.644935   6.422879   85.297743  493729600  118944600  \n",
       "2010-01-05   85.662108   6.458087   85.973333  601904800  111579900  \n",
       "2010-01-06   86.102332   6.451466   86.170646  552160000  116074400  \n",
       "2010-01-07   85.912596   6.372318   86.155501  477131200  131091100  \n",
       "2010-01-08   86.276968   6.328684   86.451553  447610800  126402800  \n",
       "...                ...        ...         ...        ...        ...  \n",
       "2019-12-23  297.662600  67.917550  298.153975   98572000   52990000  \n",
       "2019-12-24  297.514224  68.924723  298.042691   48478800   20270000  \n",
       "2019-12-26  298.200298  68.956159  298.209550   93121200   30911200  \n",
       "2019-12-27  298.793671  70.481437  300.147264  146266000   42528800  \n",
       "2019-12-30  297.189717  70.079558  299.414838  144114400   49729100  \n",
       "\n",
       "[2515 rows x 10 columns]"
      ]
     },
     "execution_count": 5,
     "metadata": {},
     "output_type": "execute_result"
    }
   ],
   "source": [
    "raw"
   ]
  },
  {
   "cell_type": "code",
   "execution_count": 6,
   "id": "c2d5d6b5-a349-4d3b-b454-2f8eba133083",
   "metadata": {},
   "outputs": [
    {
     "data": {
      "text/plain": [
       "MultiIndex([( 'Close', 'AAPL'),\n",
       "            ( 'Close',  'SPY'),\n",
       "            (  'High', 'AAPL'),\n",
       "            (  'High',  'SPY'),\n",
       "            (   'Low', 'AAPL'),\n",
       "            (   'Low',  'SPY'),\n",
       "            (  'Open', 'AAPL'),\n",
       "            (  'Open',  'SPY'),\n",
       "            ('Volume', 'AAPL'),\n",
       "            ('Volume',  'SPY')],\n",
       "           names=['Price', 'Ticker'])"
      ]
     },
     "execution_count": 6,
     "metadata": {},
     "output_type": "execute_result"
    }
   ],
   "source": [
    "raw.columns"
   ]
  },
  {
   "cell_type": "code",
   "execution_count": 7,
   "id": "b6261a63-0e25-49a7-b5e6-0c426faa6505",
   "metadata": {},
   "outputs": [
    {
     "data": {
      "text/plain": [
       "\u001b[1;31mSignature:\u001b[0m\n",
       "\u001b[0mraw\u001b[0m\u001b[1;33m.\u001b[0m\u001b[0mpipe\u001b[0m\u001b[1;33m(\u001b[0m\u001b[1;33m\n",
       "\u001b[0m    \u001b[0mfunc\u001b[0m\u001b[1;33m:\u001b[0m \u001b[1;34m'Callable[..., T] | tuple[Callable[..., T], str]'\u001b[0m\u001b[1;33m,\u001b[0m\u001b[1;33m\n",
       "\u001b[0m    \u001b[1;33m*\u001b[0m\u001b[0margs\u001b[0m\u001b[1;33m,\u001b[0m\u001b[1;33m\n",
       "\u001b[0m    \u001b[1;33m**\u001b[0m\u001b[0mkwargs\u001b[0m\u001b[1;33m,\u001b[0m\u001b[1;33m\n",
       "\u001b[0m\u001b[1;33m)\u001b[0m \u001b[1;33m->\u001b[0m \u001b[1;34m'T'\u001b[0m\u001b[1;33m\u001b[0m\u001b[1;33m\u001b[0m\u001b[0m\n",
       "\u001b[1;31mDocstring:\u001b[0m\n",
       "Apply chainable functions that expect Series or DataFrames.\n",
       "\n",
       "Parameters\n",
       "----------\n",
       "func : function\n",
       "    Function to apply to the Series/DataFrame.\n",
       "    ``args``, and ``kwargs`` are passed into ``func``.\n",
       "    Alternatively a ``(callable, data_keyword)`` tuple where\n",
       "    ``data_keyword`` is a string indicating the keyword of\n",
       "    ``callable`` that expects the Series/DataFrame.\n",
       "*args : iterable, optional\n",
       "    Positional arguments passed into ``func``.\n",
       "**kwargs : mapping, optional\n",
       "    A dictionary of keyword arguments passed into ``func``.\n",
       "\n",
       "Returns\n",
       "-------\n",
       "the return type of ``func``.\n",
       "\n",
       "See Also\n",
       "--------\n",
       "DataFrame.apply : Apply a function along input axis of DataFrame.\n",
       "DataFrame.map : Apply a function elementwise on a whole DataFrame.\n",
       "Series.map : Apply a mapping correspondence on a\n",
       "    :class:`~pandas.Series`.\n",
       "\n",
       "Notes\n",
       "-----\n",
       "Use ``.pipe`` when chaining together functions that expect\n",
       "Series, DataFrames or GroupBy objects.\n",
       "\n",
       "Examples\n",
       "--------\n",
       "Constructing a income DataFrame from a dictionary.\n",
       "\n",
       ">>> data = [[8000, 1000], [9500, np.nan], [5000, 2000]]\n",
       ">>> df = pd.DataFrame(data, columns=['Salary', 'Others'])\n",
       ">>> df\n",
       "   Salary  Others\n",
       "0    8000  1000.0\n",
       "1    9500     NaN\n",
       "2    5000  2000.0\n",
       "\n",
       "Functions that perform tax reductions on an income DataFrame.\n",
       "\n",
       ">>> def subtract_federal_tax(df):\n",
       "...     return df * 0.9\n",
       ">>> def subtract_state_tax(df, rate):\n",
       "...     return df * (1 - rate)\n",
       ">>> def subtract_national_insurance(df, rate, rate_increase):\n",
       "...     new_rate = rate + rate_increase\n",
       "...     return df * (1 - new_rate)\n",
       "\n",
       "Instead of writing\n",
       "\n",
       ">>> subtract_national_insurance(\n",
       "...     subtract_state_tax(subtract_federal_tax(df), rate=0.12),\n",
       "...     rate=0.05,\n",
       "...     rate_increase=0.02)  # doctest: +SKIP\n",
       "\n",
       "You can write\n",
       "\n",
       ">>> (\n",
       "...     df.pipe(subtract_federal_tax)\n",
       "...     .pipe(subtract_state_tax, rate=0.12)\n",
       "...     .pipe(subtract_national_insurance, rate=0.05, rate_increase=0.02)\n",
       "... )\n",
       "    Salary   Others\n",
       "0  5892.48   736.56\n",
       "1  6997.32      NaN\n",
       "2  3682.80  1473.12\n",
       "\n",
       "If you have a function that takes the data as (say) the second\n",
       "argument, pass a tuple indicating which keyword expects the\n",
       "data. For example, suppose ``national_insurance`` takes its data as ``df``\n",
       "in the second argument:\n",
       "\n",
       ">>> def subtract_national_insurance(rate, df, rate_increase):\n",
       "...     new_rate = rate + rate_increase\n",
       "...     return df * (1 - new_rate)\n",
       ">>> (\n",
       "...     df.pipe(subtract_federal_tax)\n",
       "...     .pipe(subtract_state_tax, rate=0.12)\n",
       "...     .pipe(\n",
       "...         (subtract_national_insurance, 'df'),\n",
       "...         rate=0.05,\n",
       "...         rate_increase=0.02\n",
       "...     )\n",
       "... )\n",
       "    Salary   Others\n",
       "0  5892.48   736.56\n",
       "1  6997.32      NaN\n",
       "2  3682.80  1473.12\n",
       "\u001b[1;31mFile:\u001b[0m      d:\\python\\lib\\site-packages\\pandas\\core\\generic.py\n",
       "\u001b[1;31mType:\u001b[0m      method"
      ]
     },
     "metadata": {},
     "output_type": "display_data"
    }
   ],
   "source": [
    "# Going to use the .pipe method a lot\n",
    "raw.pipe?"
   ]
  },
  {
   "cell_type": "code",
   "execution_count": 8,
   "id": "ac7528ad-7e59-48e1-bee0-5293c27426e8",
   "metadata": {},
   "outputs": [
    {
     "data": {
      "text/html": [
       "<div>\n",
       "<style scoped>\n",
       "    .dataframe tbody tr th:only-of-type {\n",
       "        vertical-align: middle;\n",
       "    }\n",
       "\n",
       "    .dataframe tbody tr th {\n",
       "        vertical-align: top;\n",
       "    }\n",
       "\n",
       "    .dataframe thead th {\n",
       "        text-align: right;\n",
       "    }\n",
       "</style>\n",
       "<table border=\"1\" class=\"dataframe\">\n",
       "  <thead>\n",
       "    <tr style=\"text-align: right;\">\n",
       "      <th></th>\n",
       "      <th>Close</th>\n",
       "      <th>High</th>\n",
       "      <th>Low</th>\n",
       "      <th>Open</th>\n",
       "      <th>Volume</th>\n",
       "    </tr>\n",
       "    <tr>\n",
       "      <th>Date</th>\n",
       "      <th></th>\n",
       "      <th></th>\n",
       "      <th></th>\n",
       "      <th></th>\n",
       "      <th></th>\n",
       "    </tr>\n",
       "  </thead>\n",
       "  <tbody>\n",
       "    <tr>\n",
       "      <th>2010-01-04</th>\n",
       "      <td>6.440333</td>\n",
       "      <td>6.455079</td>\n",
       "      <td>6.391280</td>\n",
       "      <td>6.422879</td>\n",
       "      <td>493729600</td>\n",
       "    </tr>\n",
       "    <tr>\n",
       "      <th>2010-01-05</th>\n",
       "      <td>6.451467</td>\n",
       "      <td>6.487880</td>\n",
       "      <td>6.417460</td>\n",
       "      <td>6.458087</td>\n",
       "      <td>601904800</td>\n",
       "    </tr>\n",
       "    <tr>\n",
       "      <th>2010-01-06</th>\n",
       "      <td>6.348847</td>\n",
       "      <td>6.477046</td>\n",
       "      <td>6.342226</td>\n",
       "      <td>6.451466</td>\n",
       "      <td>552160000</td>\n",
       "    </tr>\n",
       "    <tr>\n",
       "      <th>2010-01-07</th>\n",
       "      <td>6.337108</td>\n",
       "      <td>6.379841</td>\n",
       "      <td>6.291065</td>\n",
       "      <td>6.372318</td>\n",
       "      <td>477131200</td>\n",
       "    </tr>\n",
       "    <tr>\n",
       "      <th>2010-01-08</th>\n",
       "      <td>6.379241</td>\n",
       "      <td>6.379844</td>\n",
       "      <td>6.291369</td>\n",
       "      <td>6.328684</td>\n",
       "      <td>447610800</td>\n",
       "    </tr>\n",
       "    <tr>\n",
       "      <th>...</th>\n",
       "      <td>...</td>\n",
       "      <td>...</td>\n",
       "      <td>...</td>\n",
       "      <td>...</td>\n",
       "      <td>...</td>\n",
       "    </tr>\n",
       "    <tr>\n",
       "      <th>2019-12-23</th>\n",
       "      <td>68.757652</td>\n",
       "      <td>68.818178</td>\n",
       "      <td>67.878812</td>\n",
       "      <td>67.917550</td>\n",
       "      <td>98572000</td>\n",
       "    </tr>\n",
       "    <tr>\n",
       "      <th>2019-12-24</th>\n",
       "      <td>68.823036</td>\n",
       "      <td>68.973147</td>\n",
       "      <td>68.496201</td>\n",
       "      <td>68.924723</td>\n",
       "      <td>48478800</td>\n",
       "    </tr>\n",
       "    <tr>\n",
       "      <th>2019-12-26</th>\n",
       "      <td>70.188469</td>\n",
       "      <td>70.205418</td>\n",
       "      <td>68.927107</td>\n",
       "      <td>68.956159</td>\n",
       "      <td>93121200</td>\n",
       "    </tr>\n",
       "    <tr>\n",
       "      <th>2019-12-27</th>\n",
       "      <td>70.161858</td>\n",
       "      <td>71.171436</td>\n",
       "      <td>69.755124</td>\n",
       "      <td>70.481437</td>\n",
       "      <td>146266000</td>\n",
       "    </tr>\n",
       "    <tr>\n",
       "      <th>2019-12-30</th>\n",
       "      <td>70.578293</td>\n",
       "      <td>70.861558</td>\n",
       "      <td>69.053038</td>\n",
       "      <td>70.079558</td>\n",
       "      <td>144114400</td>\n",
       "    </tr>\n",
       "  </tbody>\n",
       "</table>\n",
       "<p>2515 rows × 5 columns</p>\n",
       "</div>"
      ],
      "text/plain": [
       "                Close       High        Low       Open     Volume\n",
       "Date                                                             \n",
       "2010-01-04   6.440333   6.455079   6.391280   6.422879  493729600\n",
       "2010-01-05   6.451467   6.487880   6.417460   6.458087  601904800\n",
       "2010-01-06   6.348847   6.477046   6.342226   6.451466  552160000\n",
       "2010-01-07   6.337108   6.379841   6.291065   6.372318  477131200\n",
       "2010-01-08   6.379241   6.379844   6.291369   6.328684  447610800\n",
       "...               ...        ...        ...        ...        ...\n",
       "2019-12-23  68.757652  68.818178  67.878812  67.917550   98572000\n",
       "2019-12-24  68.823036  68.973147  68.496201  68.924723   48478800\n",
       "2019-12-26  70.188469  70.205418  68.927107  68.956159   93121200\n",
       "2019-12-27  70.161858  71.171436  69.755124  70.481437  146266000\n",
       "2019-12-30  70.578293  70.861558  69.053038  70.079558  144114400\n",
       "\n",
       "[2515 rows x 5 columns]"
      ]
     },
     "execution_count": 8,
     "metadata": {},
     "output_type": "execute_result"
    }
   ],
   "source": [
    "def fix_cols(df):\n",
    "    columns = df.columns\n",
    "    outer = [col[0] for col in columns]\n",
    "    df.columns = outer\n",
    "    return df\n",
    "\n",
    "(raw\n",
    " .iloc[:,::2]\n",
    " .pipe(fix_cols)\n",
    ")"
   ]
  },
  {
   "cell_type": "markdown",
   "id": "f5d0aee5-dd01-4507-91e1-3590b213b321",
   "metadata": {},
   "source": [
    "**Understanding the fix_cols function**\n",
    "- This function extracts the first element from each column name and sets it as the new column name.\n",
    "- It assumes that the column names are tuples or lists (multi-indexed columns).\n",
    "\n",
    "**Applying .iloc[:, ::2]**\n",
    "- iloc[:, ::2]: This selects every second column (i.e., 0, 2, 4, ...).\n",
    "- .pipe(fix_cols): Passes the result of .iloc into the fix_cols function.\n",
    "\n",
    "**Overall Explanation**\n",
    "- raw.iloc[:, ::2]: Selects every second column of raw.\n",
    "- pipe(fix_cols): Passes the subsetted DataFrame to fix_cols, renaming columns by extracting the first element from each column name."
   ]
  },
  {
   "cell_type": "code",
   "execution_count": 9,
   "id": "7dfe9c77-4b83-4a73-a3e4-a96655d09b17",
   "metadata": {},
   "outputs": [
    {
     "name": "stderr",
     "output_type": "stream",
     "text": [
      "[*********************100%***********************]  2 of 2 completed\n"
     ]
    },
    {
     "data": {
      "text/html": [
       "<div>\n",
       "<style scoped>\n",
       "    .dataframe tbody tr th:only-of-type {\n",
       "        vertical-align: middle;\n",
       "    }\n",
       "\n",
       "    .dataframe tbody tr th {\n",
       "        vertical-align: top;\n",
       "    }\n",
       "\n",
       "    .dataframe thead th {\n",
       "        text-align: right;\n",
       "    }\n",
       "</style>\n",
       "<table border=\"1\" class=\"dataframe\">\n",
       "  <thead>\n",
       "    <tr style=\"text-align: right;\">\n",
       "      <th></th>\n",
       "      <th>Close</th>\n",
       "      <th>High</th>\n",
       "      <th>Low</th>\n",
       "      <th>Open</th>\n",
       "      <th>Volume</th>\n",
       "    </tr>\n",
       "    <tr>\n",
       "      <th>Date</th>\n",
       "      <th></th>\n",
       "      <th></th>\n",
       "      <th></th>\n",
       "      <th></th>\n",
       "      <th></th>\n",
       "    </tr>\n",
       "  </thead>\n",
       "  <tbody>\n",
       "    <tr>\n",
       "      <th>2010-01-04</th>\n",
       "      <td>6.440333</td>\n",
       "      <td>6.455079</td>\n",
       "      <td>6.391280</td>\n",
       "      <td>6.422879</td>\n",
       "      <td>493729600</td>\n",
       "    </tr>\n",
       "    <tr>\n",
       "      <th>2010-01-05</th>\n",
       "      <td>6.451467</td>\n",
       "      <td>6.487880</td>\n",
       "      <td>6.417460</td>\n",
       "      <td>6.458087</td>\n",
       "      <td>601904800</td>\n",
       "    </tr>\n",
       "    <tr>\n",
       "      <th>2010-01-06</th>\n",
       "      <td>6.348847</td>\n",
       "      <td>6.477046</td>\n",
       "      <td>6.342226</td>\n",
       "      <td>6.451466</td>\n",
       "      <td>552160000</td>\n",
       "    </tr>\n",
       "    <tr>\n",
       "      <th>2010-01-07</th>\n",
       "      <td>6.337108</td>\n",
       "      <td>6.379841</td>\n",
       "      <td>6.291065</td>\n",
       "      <td>6.372318</td>\n",
       "      <td>477131200</td>\n",
       "    </tr>\n",
       "    <tr>\n",
       "      <th>2010-01-08</th>\n",
       "      <td>6.379241</td>\n",
       "      <td>6.379844</td>\n",
       "      <td>6.291369</td>\n",
       "      <td>6.328684</td>\n",
       "      <td>447610800</td>\n",
       "    </tr>\n",
       "    <tr>\n",
       "      <th>...</th>\n",
       "      <td>...</td>\n",
       "      <td>...</td>\n",
       "      <td>...</td>\n",
       "      <td>...</td>\n",
       "      <td>...</td>\n",
       "    </tr>\n",
       "    <tr>\n",
       "      <th>2019-12-23</th>\n",
       "      <td>68.757652</td>\n",
       "      <td>68.818178</td>\n",
       "      <td>67.878812</td>\n",
       "      <td>67.917550</td>\n",
       "      <td>98572000</td>\n",
       "    </tr>\n",
       "    <tr>\n",
       "      <th>2019-12-24</th>\n",
       "      <td>68.823036</td>\n",
       "      <td>68.973147</td>\n",
       "      <td>68.496201</td>\n",
       "      <td>68.924723</td>\n",
       "      <td>48478800</td>\n",
       "    </tr>\n",
       "    <tr>\n",
       "      <th>2019-12-26</th>\n",
       "      <td>70.188469</td>\n",
       "      <td>70.205418</td>\n",
       "      <td>68.927107</td>\n",
       "      <td>68.956159</td>\n",
       "      <td>93121200</td>\n",
       "    </tr>\n",
       "    <tr>\n",
       "      <th>2019-12-27</th>\n",
       "      <td>70.161858</td>\n",
       "      <td>71.171436</td>\n",
       "      <td>69.755124</td>\n",
       "      <td>70.481437</td>\n",
       "      <td>146266000</td>\n",
       "    </tr>\n",
       "    <tr>\n",
       "      <th>2019-12-30</th>\n",
       "      <td>70.578293</td>\n",
       "      <td>70.861558</td>\n",
       "      <td>69.053038</td>\n",
       "      <td>70.079558</td>\n",
       "      <td>144114400</td>\n",
       "    </tr>\n",
       "  </tbody>\n",
       "</table>\n",
       "<p>2515 rows × 5 columns</p>\n",
       "</div>"
      ],
      "text/plain": [
       "                Close       High        Low       Open     Volume\n",
       "Date                                                             \n",
       "2010-01-04   6.440333   6.455079   6.391280   6.422879  493729600\n",
       "2010-01-05   6.451467   6.487880   6.417460   6.458087  601904800\n",
       "2010-01-06   6.348847   6.477046   6.342226   6.451466  552160000\n",
       "2010-01-07   6.337108   6.379841   6.291065   6.372318  477131200\n",
       "2010-01-08   6.379241   6.379844   6.291369   6.328684  447610800\n",
       "...               ...        ...        ...        ...        ...\n",
       "2019-12-23  68.757652  68.818178  67.878812  67.917550   98572000\n",
       "2019-12-24  68.823036  68.973147  68.496201  68.924723   48478800\n",
       "2019-12-26  70.188469  70.205418  68.927107  68.956159   93121200\n",
       "2019-12-27  70.161858  71.171436  69.755124  70.481437  146266000\n",
       "2019-12-30  70.578293  70.861558  69.053038  70.079558  144114400\n",
       "\n",
       "[2515 rows x 5 columns]"
      ]
     },
     "execution_count": 9,
     "metadata": {},
     "output_type": "execute_result"
    }
   ],
   "source": [
    "import yfinance as yf\n",
    "\n",
    "def fix_cols(df):\n",
    "    columns = df.columns\n",
    "    outer = [col[0] for col in columns]\n",
    "    df.columns = outer\n",
    "    return df\n",
    "\n",
    "def tweak_data():\n",
    "    raw = yf.download('SPY AAPL', start='2010-01-01', end='2019-12-31')\n",
    "\n",
    "    return (raw\n",
    "     .iloc[:,::2]\n",
    "     .pipe(fix_cols)\n",
    "    )\n",
    "\n",
    "tweak_data()"
   ]
  },
  {
   "cell_type": "markdown",
   "id": "4d9dbfee-0892-408d-8151-c07a9e2c0229",
   "metadata": {},
   "source": [
    "## Line Plot"
   ]
  },
  {
   "cell_type": "markdown",
   "id": "5df3f7be-78b7-4ea4-947e-677175793118",
   "metadata": {},
   "source": [
    "Goals\n",
    "- Line plots\n",
    "- Matplotlib plots"
   ]
  },
  {
   "cell_type": "code",
   "execution_count": 14,
   "id": "56e84a4a-b8ec-48ee-8e48-a245d4ece755",
   "metadata": {},
   "outputs": [
    {
     "name": "stderr",
     "output_type": "stream",
     "text": [
      "[*********************100%***********************]  2 of 2 completed\n"
     ]
    }
   ],
   "source": [
    "raw = yf.download('SPY AAPL', start='2010-01-01', end='2019-12-31')"
   ]
  },
  {
   "cell_type": "code",
   "execution_count": 15,
   "id": "537013f4-f43b-466c-a429-709a0e52e2ff",
   "metadata": {},
   "outputs": [
    {
     "data": {
      "text/html": [
       "<div>\n",
       "<style scoped>\n",
       "    .dataframe tbody tr th:only-of-type {\n",
       "        vertical-align: middle;\n",
       "    }\n",
       "\n",
       "    .dataframe tbody tr th {\n",
       "        vertical-align: top;\n",
       "    }\n",
       "\n",
       "    .dataframe thead th {\n",
       "        text-align: right;\n",
       "    }\n",
       "</style>\n",
       "<table border=\"1\" class=\"dataframe\">\n",
       "  <thead>\n",
       "    <tr style=\"text-align: right;\">\n",
       "      <th></th>\n",
       "      <th>Close</th>\n",
       "      <th>High</th>\n",
       "      <th>Low</th>\n",
       "      <th>Open</th>\n",
       "    </tr>\n",
       "    <tr>\n",
       "      <th>Date</th>\n",
       "      <th></th>\n",
       "      <th></th>\n",
       "      <th></th>\n",
       "      <th></th>\n",
       "    </tr>\n",
       "  </thead>\n",
       "  <tbody>\n",
       "    <tr>\n",
       "      <th>2010-01-04</th>\n",
       "      <td>6.440333</td>\n",
       "      <td>6.455079</td>\n",
       "      <td>6.391280</td>\n",
       "      <td>6.422879</td>\n",
       "    </tr>\n",
       "    <tr>\n",
       "      <th>2010-01-05</th>\n",
       "      <td>6.451467</td>\n",
       "      <td>6.487880</td>\n",
       "      <td>6.417460</td>\n",
       "      <td>6.458087</td>\n",
       "    </tr>\n",
       "    <tr>\n",
       "      <th>2010-01-06</th>\n",
       "      <td>6.348847</td>\n",
       "      <td>6.477046</td>\n",
       "      <td>6.342226</td>\n",
       "      <td>6.451466</td>\n",
       "    </tr>\n",
       "    <tr>\n",
       "      <th>2010-01-07</th>\n",
       "      <td>6.337108</td>\n",
       "      <td>6.379841</td>\n",
       "      <td>6.291065</td>\n",
       "      <td>6.372318</td>\n",
       "    </tr>\n",
       "    <tr>\n",
       "      <th>2010-01-08</th>\n",
       "      <td>6.379241</td>\n",
       "      <td>6.379844</td>\n",
       "      <td>6.291369</td>\n",
       "      <td>6.328684</td>\n",
       "    </tr>\n",
       "    <tr>\n",
       "      <th>...</th>\n",
       "      <td>...</td>\n",
       "      <td>...</td>\n",
       "      <td>...</td>\n",
       "      <td>...</td>\n",
       "    </tr>\n",
       "    <tr>\n",
       "      <th>2019-12-23</th>\n",
       "      <td>68.757652</td>\n",
       "      <td>68.818178</td>\n",
       "      <td>67.878812</td>\n",
       "      <td>67.917550</td>\n",
       "    </tr>\n",
       "    <tr>\n",
       "      <th>2019-12-24</th>\n",
       "      <td>68.823036</td>\n",
       "      <td>68.973147</td>\n",
       "      <td>68.496201</td>\n",
       "      <td>68.924723</td>\n",
       "    </tr>\n",
       "    <tr>\n",
       "      <th>2019-12-26</th>\n",
       "      <td>70.188469</td>\n",
       "      <td>70.205418</td>\n",
       "      <td>68.927107</td>\n",
       "      <td>68.956159</td>\n",
       "    </tr>\n",
       "    <tr>\n",
       "      <th>2019-12-27</th>\n",
       "      <td>70.161858</td>\n",
       "      <td>71.171436</td>\n",
       "      <td>69.755124</td>\n",
       "      <td>70.481437</td>\n",
       "    </tr>\n",
       "    <tr>\n",
       "      <th>2019-12-30</th>\n",
       "      <td>70.578293</td>\n",
       "      <td>70.861558</td>\n",
       "      <td>69.053038</td>\n",
       "      <td>70.079558</td>\n",
       "    </tr>\n",
       "  </tbody>\n",
       "</table>\n",
       "<p>2515 rows × 4 columns</p>\n",
       "</div>"
      ],
      "text/plain": [
       "                Close       High        Low       Open\n",
       "Date                                                  \n",
       "2010-01-04   6.440333   6.455079   6.391280   6.422879\n",
       "2010-01-05   6.451467   6.487880   6.417460   6.458087\n",
       "2010-01-06   6.348847   6.477046   6.342226   6.451466\n",
       "2010-01-07   6.337108   6.379841   6.291065   6.372318\n",
       "2010-01-08   6.379241   6.379844   6.291369   6.328684\n",
       "...               ...        ...        ...        ...\n",
       "2019-12-23  68.757652  68.818178  67.878812  67.917550\n",
       "2019-12-24  68.823036  68.973147  68.496201  68.924723\n",
       "2019-12-26  70.188469  70.205418  68.927107  68.956159\n",
       "2019-12-27  70.161858  71.171436  69.755124  70.481437\n",
       "2019-12-30  70.578293  70.861558  69.053038  70.079558\n",
       "\n",
       "[2515 rows x 4 columns]"
      ]
     },
     "execution_count": 15,
     "metadata": {},
     "output_type": "execute_result"
    }
   ],
   "source": [
    "(raw\n",
    " .iloc[:,:-2:2]\n",
    " .pipe(fix_cols)\n",
    ")"
   ]
  },
  {
   "cell_type": "code",
   "execution_count": 16,
   "id": "d46a9cea-db08-40a1-8d9b-b1a16f5ee75c",
   "metadata": {},
   "outputs": [
    {
     "data": {
      "text/plain": [
       "<Axes: xlabel='Date'>"
      ]
     },
     "execution_count": 16,
     "metadata": {},
     "output_type": "execute_result"
    },
    {
     "data": {
      "image/png": "[encoded data removed]",
      "text/plain": [
       "<Figure size 640x480 with 1 Axes>"
      ]
     },
     "metadata": {},
     "output_type": "display_data"
    }
   ],
   "source": [
    "(raw\n",
    " .iloc[:,:-2:2]\n",
    " .pipe(fix_cols)\n",
    " .plot()\n",
    ")"
   ]
  },
  {
   "cell_type": "code",
   "execution_count": 17,
   "id": "02084d61-b863-449c-96e1-2ce6fdb14b65",
   "metadata": {},
   "outputs": [
    {
     "data": {
      "text/plain": [
       "<Axes: xlabel='Date'>"
      ]
     },
     "execution_count": 17,
     "metadata": {},
     "output_type": "execute_result"
    },
    {
     "data": {
      "image/png": "[encoded data removed]",
      "text/plain": [
       "<Figure size 640x480 with 1 Axes>"
      ]
     },
     "metadata": {},
     "output_type": "display_data"
    }
   ],
   "source": [
    "(raw\n",
    " .iloc[:,::2]\n",
    " .pipe(fix_cols)\n",
    " .Close\n",
    " .plot()\n",
    ")"
   ]
  },
  {
   "cell_type": "code",
   "execution_count": 19,
   "id": "40f5a904-fdc0-4678-9616-c5596373f750",
   "metadata": {},
   "outputs": [
    {
     "data": {
      "text/plain": [
       "<Axes: xlabel='Date'>"
      ]
     },
     "execution_count": 19,
     "metadata": {},
     "output_type": "execute_result"
    },
    {
     "data": {
      "image/png": "[encoded data removed]",
      "text/plain": [
       "<Figure size 1000x200 with 1 Axes>"
      ]
     },
     "metadata": {},
     "output_type": "display_data"
    }
   ],
   "source": [
    "(raw\n",
    " .iloc[:,::2]\n",
    " .pipe(fix_cols)\n",
    " .Volume\n",
    " .plot(figsize=(10,2))\n",
    ")"
   ]
  },
  {
   "cell_type": "markdown",
   "id": "66ced68f-74a9-41ce-bc72-b1331a314184",
   "metadata": {},
   "source": [
    "## Resampling"
   ]
  },
  {
   "cell_type": "code",
   "execution_count": 20,
   "id": "480dc4f1-a8ea-46f2-afa4-5c9fa606413a",
   "metadata": {},
   "outputs": [
    {
     "data": {
      "text/plain": [
       "<Axes: xlabel='Date'>"
      ]
     },
     "execution_count": 20,
     "metadata": {},
     "output_type": "execute_result"
    },
    {
     "data": {
      "image/png": "[encoded data removed]",
      "text/plain": [
       "<Figure size 640x480 with 1 Axes>"
      ]
     },
     "metadata": {},
     "output_type": "display_data"
    }
   ],
   "source": [
    "(raw\n",
    " .iloc[:,::2]\n",
    " .pipe(fix_cols)\n",
    " .Close\n",
    " .plot()\n",
    ")"
   ]
  },
  {
   "cell_type": "code",
   "execution_count": 21,
   "id": "baa8f953-c30c-42f3-be8e-4f16e0f1b164",
   "metadata": {},
   "outputs": [
    {
     "data": {
      "text/plain": [
       "Date\n",
       "2010-01-04     6.440333\n",
       "2010-01-05     6.451467\n",
       "2010-01-06     6.348847\n",
       "2010-01-07     6.337108\n",
       "2010-01-08     6.379241\n",
       "                ...    \n",
       "2019-12-23    68.757652\n",
       "2019-12-24    68.823036\n",
       "2019-12-26    70.188469\n",
       "2019-12-27    70.161858\n",
       "2019-12-30    70.578293\n",
       "Name: Close, Length: 2515, dtype: float64"
      ]
     },
     "execution_count": 21,
     "metadata": {},
     "output_type": "execute_result"
    }
   ],
   "source": [
    "(raw\n",
    " .iloc[:,::2]\n",
    " .pipe(fix_cols)\n",
    " .Close\n",
    ")"
   ]
  },
  {
   "cell_type": "code",
   "execution_count": 23,
   "id": "57f718c4-f08f-4d57-b6f6-5655f6c6e948",
   "metadata": {},
   "outputs": [
    {
     "name": "stderr",
     "output_type": "stream",
     "text": [
      "C:\\Users\\Admin\\AppData\\Local\\Temp\\ipykernel_19576\\3920485667.py:4: FutureWarning: 'M' is deprecated and will be removed in a future version, please use 'ME' instead.\n",
      "  .resample('M')\n"
     ]
    },
    {
     "data": {
      "text/plain": [
       "<pandas.core.groupby.generic.SeriesGroupBy object at 0x000001EF461F5C90>"
      ]
     },
     "execution_count": 23,
     "metadata": {},
     "output_type": "execute_result"
    }
   ],
   "source": [
    "(raw\n",
    " .iloc[:,::2]\n",
    " .pipe(fix_cols)\n",
    " .resample('M') #offset alias\n",
    " .Close\n",
    ")"
   ]
  },
  {
   "cell_type": "code",
   "execution_count": 24,
   "id": "6174c764-d5c6-4f85-81bb-0141712aee96",
   "metadata": {},
   "outputs": [
    {
     "name": "stderr",
     "output_type": "stream",
     "text": [
      "C:\\Users\\Admin\\AppData\\Local\\Temp\\ipykernel_19576\\3987136314.py:4: FutureWarning: 'M' is deprecated and will be removed in a future version, please use 'ME' instead.\n",
      "  .resample('M')\n"
     ]
    },
    {
     "data": {
      "text/plain": [
       "Date\n",
       "2010-01-31     6.250899\n",
       "2010-02-28     5.982481\n",
       "2010-03-31     6.723237\n",
       "2010-04-30     7.557964\n",
       "2010-05-31     7.567381\n",
       "                ...    \n",
       "2019-08-31    49.422592\n",
       "2019-09-30    52.619580\n",
       "2019-10-31    56.793402\n",
       "2019-11-30    63.520146\n",
       "2019-12-31    66.740809\n",
       "Freq: ME, Name: Close, Length: 120, dtype: float64"
      ]
     },
     "execution_count": 24,
     "metadata": {},
     "output_type": "execute_result"
    }
   ],
   "source": [
    "(raw\n",
    " .iloc[:,::2]\n",
    " .pipe(fix_cols)\n",
    " .resample('M') #offset alias\n",
    " .Close\n",
    " .mean()\n",
    ")"
   ]
  },
  {
   "cell_type": "code",
   "execution_count": 25,
   "id": "98221cdd-09a8-484e-9171-65bacc5d0782",
   "metadata": {},
   "outputs": [
    {
     "name": "stderr",
     "output_type": "stream",
     "text": [
      "C:\\Users\\Admin\\AppData\\Local\\Temp\\ipykernel_19576\\1015692560.py:4: FutureWarning: 'M' is deprecated and will be removed in a future version, please use 'ME' instead.\n",
      "  .resample('M') #offset alias\n"
     ]
    },
    {
     "data": {
      "text/plain": [
       "<Axes: xlabel='Date'>"
      ]
     },
     "execution_count": 25,
     "metadata": {},
     "output_type": "execute_result"
    },
    {
     "data": {
      "image/png": "[encoded data removed]",
      "text/plain": [
       "<Figure size 640x480 with 1 Axes>"
      ]
     },
     "metadata": {},
     "output_type": "display_data"
    }
   ],
   "source": [
    "(raw\n",
    " .iloc[:,::2]\n",
    " .pipe(fix_cols)\n",
    " .resample('M') #offset alias\n",
    " .Close\n",
    " .mean()\n",
    " .plot()\n",
    ")"
   ]
  },
  {
   "cell_type": "markdown",
   "id": "f659963d-e51a-4306-8c4a-3c2e62474c31",
   "metadata": {},
   "source": [
    "## Candlestick Plot"
   ]
  },
  {
   "cell_type": "code",
   "execution_count": null,
   "id": "197433cc-8a4e-44bc-81ab-a8451fd5d4b0",
   "metadata": {},
   "outputs": [],
   "source": []
  }
 ],
 "metadata": {
  "kernelspec": {
   "display_name": "Python 3 (ipykernel)",
   "language": "python",
   "name": "python3"
  },
  "language_info": {
   "codemirror_mode": {
    "name": "ipython",
    "version": 3
   },
   "file_extension": ".py",
   "mimetype": "text/x-python",
   "name": "python",
   "nbconvert_exporter": "python",
   "pygments_lexer": "ipython3",
   "version": "3.11.9"
  }
 },
 "nbformat": 4,
 "nbformat_minor": 5
}
