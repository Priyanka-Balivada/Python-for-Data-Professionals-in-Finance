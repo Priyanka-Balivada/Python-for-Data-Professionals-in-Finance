{
 "cells": [
  {
   "cell_type": "markdown",
   "id": "b1000c98-ef28-4474-813b-956b0772fcf8",
   "metadata": {},
   "source": [
    "## Loading Data & Visualizations"
   ]
  },
  {
   "cell_type": "markdown",
   "id": "2445985e-31bc-42e7-8792-25ce7ce3483d",
   "metadata": {},
   "source": [
    "Goals:\n",
    "- Get data\n",
    "- Inspect data\n",
    "- The .pipe method"
   ]
  },
  {
   "cell_type": "markdown",
   "id": "74ee42d7-59a1-4117-aceb-08cefe612411",
   "metadata": {},
   "source": [
    "#### Loading Data"
   ]
  },
  {
   "cell_type": "code",
   "execution_count": 1,
   "id": "3c105e62-0b34-48c4-8008-8d4eb89b17fb",
   "metadata": {},
   "outputs": [
    {
     "name": "stdout",
     "output_type": "stream",
     "text": [
      "Requirement already satisfied: matplotlib in d:\\python\\lib\\site-packages (3.10.0)\n",
      "Requirement already satisfied: contourpy>=1.0.1 in d:\\python\\lib\\site-packages (from matplotlib) (1.3.1)\n",
      "Requirement already satisfied: cycler>=0.10 in d:\\python\\lib\\site-packages (from matplotlib) (0.12.1)\n",
      "Requirement already satisfied: fonttools>=4.22.0 in d:\\python\\lib\\site-packages (from matplotlib) (4.56.0)\n",
      "Requirement already satisfied: kiwisolver>=1.3.1 in d:\\python\\lib\\site-packages (from matplotlib) (1.4.8)\n",
      "Requirement already satisfied: numpy>=1.23 in d:\\python\\lib\\site-packages (from matplotlib) (1.26.4)\n",
      "Requirement already satisfied: packaging>=20.0 in d:\\python\\lib\\site-packages (from matplotlib) (24.1)\n",
      "Requirement already satisfied: pillow>=8 in d:\\python\\lib\\site-packages (from matplotlib) (10.4.0)\n",
      "Requirement already satisfied: pyparsing>=2.3.1 in d:\\python\\lib\\site-packages (from matplotlib) (3.2.1)\n",
      "Requirement already satisfied: python-dateutil>=2.7 in d:\\python\\lib\\site-packages (from matplotlib) (2.9.0.post0)\n",
      "Requirement already satisfied: six>=1.5 in d:\\python\\lib\\site-packages (from python-dateutil>=2.7->matplotlib) (1.16.0)\n"
     ]
    },
    {
     "name": "stderr",
     "output_type": "stream",
     "text": [
      "\n",
      "[notice] A new release of pip is available: 24.0 -> 25.0.1\n",
      "[notice] To update, run: python.exe -m pip install --upgrade pip\n"
     ]
    }
   ],
   "source": [
    "!pip install matplotlib"
   ]
  },
  {
   "cell_type": "code",
   "execution_count": 2,
   "id": "8a13fc46-d77e-4ba6-ad4a-7d6a6c55680e",
   "metadata": {},
   "outputs": [
    {
     "name": "stdout",
     "output_type": "stream",
     "text": [
      "Requirement already satisfied: yfinance in d:\\python\\lib\\site-packages (0.2.52)\n",
      "Requirement already satisfied: pandas>=1.3.0 in d:\\python\\lib\\site-packages (from yfinance) (2.2.2)\n",
      "Requirement already satisfied: numpy>=1.16.5 in d:\\python\\lib\\site-packages (from yfinance) (1.26.4)\n",
      "Requirement already satisfied: requests>=2.31 in d:\\python\\lib\\site-packages (from yfinance) (2.32.3)\n",
      "Requirement already satisfied: multitasking>=0.0.7 in d:\\python\\lib\\site-packages (from yfinance) (0.0.11)\n",
      "Requirement already satisfied: lxml>=4.9.1 in d:\\python\\lib\\site-packages (from yfinance) (5.2.2)\n",
      "Requirement already satisfied: platformdirs>=2.0.0 in d:\\python\\lib\\site-packages (from yfinance) (4.3.2)\n",
      "Requirement already satisfied: pytz>=2022.5 in d:\\python\\lib\\site-packages (from yfinance) (2024.1)\n",
      "Requirement already satisfied: frozendict>=2.3.4 in d:\\python\\lib\\site-packages (from yfinance) (2.4.6)\n",
      "Requirement already satisfied: peewee>=3.16.2 in d:\\python\\lib\\site-packages (from yfinance) (3.17.9)\n",
      "Requirement already satisfied: beautifulsoup4>=4.11.1 in d:\\python\\lib\\site-packages (from yfinance) (4.12.3)\n",
      "Requirement already satisfied: html5lib>=1.1 in d:\\python\\lib\\site-packages (from yfinance) (1.1)\n",
      "Requirement already satisfied: soupsieve>1.2 in d:\\python\\lib\\site-packages (from beautifulsoup4>=4.11.1->yfinance) (2.5)\n",
      "Requirement already satisfied: six>=1.9 in d:\\python\\lib\\site-packages (from html5lib>=1.1->yfinance) (1.16.0)\n",
      "Requirement already satisfied: webencodings in d:\\python\\lib\\site-packages (from html5lib>=1.1->yfinance) (0.5.1)\n",
      "Requirement already satisfied: python-dateutil>=2.8.2 in d:\\python\\lib\\site-packages (from pandas>=1.3.0->yfinance) (2.9.0.post0)\n",
      "Requirement already satisfied: tzdata>=2022.7 in d:\\python\\lib\\site-packages (from pandas>=1.3.0->yfinance) (2024.1)\n",
      "Requirement already satisfied: charset-normalizer<4,>=2 in d:\\python\\lib\\site-packages (from requests>=2.31->yfinance) (3.3.2)\n",
      "Requirement already satisfied: idna<4,>=2.5 in d:\\python\\lib\\site-packages (from requests>=2.31->yfinance) (3.7)\n",
      "Requirement already satisfied: urllib3<3,>=1.21.1 in d:\\python\\lib\\site-packages (from requests>=2.31->yfinance) (2.2.2)\n",
      "Requirement already satisfied: certifi>=2017.4.17 in d:\\python\\lib\\site-packages (from requests>=2.31->yfinance) (2024.7.4)\n"
     ]
    },
    {
     "name": "stderr",
     "output_type": "stream",
     "text": [
      "\n",
      "[notice] A new release of pip is available: 24.0 -> 25.0.1\n",
      "[notice] To update, run: python.exe -m pip install --upgrade pip\n"
     ]
    }
   ],
   "source": [
    "!pip install yfinance"
   ]
  },
  {
   "cell_type": "code",
   "execution_count": 3,
   "id": "772b692c-330e-4a64-a5c6-3f05a9ee0a0a",
   "metadata": {},
   "outputs": [],
   "source": [
    "from matplotlib import dates\n",
    "import matplotlib.pyplot as plt\n",
    "import numpy as np\n",
    "import pandas as pd\n",
    "import yfinance as yf"
   ]
  },
  {
   "cell_type": "code",
   "execution_count": 4,
   "id": "7d6d3107-38d3-4f62-93f4-71065e278504",
   "metadata": {},
   "outputs": [
    {
     "name": "stderr",
     "output_type": "stream",
     "text": [
      "[*********************100%***********************]  2 of 2 completed\n"
     ]
    }
   ],
   "source": [
    "raw = yf.download('SPY AAPL', start='2010-01-01', end='2019-12-31')"
   ]
  },
  {
   "cell_type": "code",
   "execution_count": 5,
   "id": "fee3ac71-5c2c-4a2d-b290-512be7470d45",
   "metadata": {},
   "outputs": [
    {
     "data": {
      "text/html": [
       "<div>\n",
       "<style scoped>\n",
       "    .dataframe tbody tr th:only-of-type {\n",
       "        vertical-align: middle;\n",
       "    }\n",
       "\n",
       "    .dataframe tbody tr th {\n",
       "        vertical-align: top;\n",
       "    }\n",
       "\n",
       "    .dataframe thead tr th {\n",
       "        text-align: left;\n",
       "    }\n",
       "\n",
       "    .dataframe thead tr:last-of-type th {\n",
       "        text-align: right;\n",
       "    }\n",
       "</style>\n",
       "<table border=\"1\" class=\"dataframe\">\n",
       "  <thead>\n",
       "    <tr>\n",
       "      <th>Price</th>\n",
       "      <th colspan=\"2\" halign=\"left\">Close</th>\n",
       "      <th colspan=\"2\" halign=\"left\">High</th>\n",
       "      <th colspan=\"2\" halign=\"left\">Low</th>\n",
       "      <th colspan=\"2\" halign=\"left\">Open</th>\n",
       "      <th colspan=\"2\" halign=\"left\">Volume</th>\n",
       "    </tr>\n",
       "    <tr>\n",
       "      <th>Ticker</th>\n",
       "      <th>AAPL</th>\n",
       "      <th>SPY</th>\n",
       "      <th>AAPL</th>\n",
       "      <th>SPY</th>\n",
       "      <th>AAPL</th>\n",
       "      <th>SPY</th>\n",
       "      <th>AAPL</th>\n",
       "      <th>SPY</th>\n",
       "      <th>AAPL</th>\n",
       "      <th>SPY</th>\n",
       "    </tr>\n",
       "    <tr>\n",
       "      <th>Date</th>\n",
       "      <th></th>\n",
       "      <th></th>\n",
       "      <th></th>\n",
       "      <th></th>\n",
       "      <th></th>\n",
       "      <th></th>\n",
       "      <th></th>\n",
       "      <th></th>\n",
       "      <th></th>\n",
       "      <th></th>\n",
       "    </tr>\n",
       "  </thead>\n",
       "  <tbody>\n",
       "    <tr>\n",
       "      <th>2010-01-04</th>\n",
       "      <td>6.440332</td>\n",
       "      <td>86.026421</td>\n",
       "      <td>6.455078</td>\n",
       "      <td>86.071963</td>\n",
       "      <td>6.391279</td>\n",
       "      <td>84.644897</td>\n",
       "      <td>6.422878</td>\n",
       "      <td>85.297705</td>\n",
       "      <td>493729600</td>\n",
       "      <td>118944600</td>\n",
       "    </tr>\n",
       "    <tr>\n",
       "      <th>2010-01-05</th>\n",
       "      <td>6.451466</td>\n",
       "      <td>86.254158</td>\n",
       "      <td>6.487879</td>\n",
       "      <td>86.292114</td>\n",
       "      <td>6.417459</td>\n",
       "      <td>85.662077</td>\n",
       "      <td>6.458086</td>\n",
       "      <td>85.973302</td>\n",
       "      <td>601904800</td>\n",
       "      <td>111579900</td>\n",
       "    </tr>\n",
       "    <tr>\n",
       "      <th>2010-01-06</th>\n",
       "      <td>6.348847</td>\n",
       "      <td>86.314888</td>\n",
       "      <td>6.477046</td>\n",
       "      <td>86.527429</td>\n",
       "      <td>6.342227</td>\n",
       "      <td>86.102347</td>\n",
       "      <td>6.451467</td>\n",
       "      <td>86.170661</td>\n",
       "      <td>552160000</td>\n",
       "      <td>116074400</td>\n",
       "    </tr>\n",
       "    <tr>\n",
       "      <th>2010-01-07</th>\n",
       "      <td>6.337110</td>\n",
       "      <td>86.679253</td>\n",
       "      <td>6.379844</td>\n",
       "      <td>86.785523</td>\n",
       "      <td>6.291067</td>\n",
       "      <td>85.912581</td>\n",
       "      <td>6.372320</td>\n",
       "      <td>86.155486</td>\n",
       "      <td>477131200</td>\n",
       "      <td>131091100</td>\n",
       "    </tr>\n",
       "    <tr>\n",
       "      <th>2010-01-08</th>\n",
       "      <td>6.379242</td>\n",
       "      <td>86.967720</td>\n",
       "      <td>6.379844</td>\n",
       "      <td>87.005676</td>\n",
       "      <td>6.291369</td>\n",
       "      <td>86.276961</td>\n",
       "      <td>6.328685</td>\n",
       "      <td>86.451546</td>\n",
       "      <td>447610800</td>\n",
       "      <td>126402800</td>\n",
       "    </tr>\n",
       "    <tr>\n",
       "      <th>...</th>\n",
       "      <td>...</td>\n",
       "      <td>...</td>\n",
       "      <td>...</td>\n",
       "      <td>...</td>\n",
       "      <td>...</td>\n",
       "      <td>...</td>\n",
       "      <td>...</td>\n",
       "      <td>...</td>\n",
       "      <td>...</td>\n",
       "      <td>...</td>\n",
       "    </tr>\n",
       "    <tr>\n",
       "      <th>2019-12-23</th>\n",
       "      <td>68.757660</td>\n",
       "      <td>297.810944</td>\n",
       "      <td>68.818186</td>\n",
       "      <td>298.209600</td>\n",
       "      <td>67.878820</td>\n",
       "      <td>297.662600</td>\n",
       "      <td>67.917557</td>\n",
       "      <td>298.153975</td>\n",
       "      <td>98572000</td>\n",
       "      <td>52990000</td>\n",
       "    </tr>\n",
       "    <tr>\n",
       "      <th>2019-12-24</th>\n",
       "      <td>68.823036</td>\n",
       "      <td>297.820221</td>\n",
       "      <td>68.973147</td>\n",
       "      <td>298.089067</td>\n",
       "      <td>68.496201</td>\n",
       "      <td>297.514254</td>\n",
       "      <td>68.924723</td>\n",
       "      <td>298.042722</td>\n",
       "      <td>48478800</td>\n",
       "      <td>20270000</td>\n",
       "    </tr>\n",
       "    <tr>\n",
       "      <th>2019-12-26</th>\n",
       "      <td>70.188492</td>\n",
       "      <td>299.405518</td>\n",
       "      <td>70.205441</td>\n",
       "      <td>299.414798</td>\n",
       "      <td>68.927130</td>\n",
       "      <td>298.200267</td>\n",
       "      <td>68.956181</td>\n",
       "      <td>298.209519</td>\n",
       "      <td>93121200</td>\n",
       "      <td>30911200</td>\n",
       "    </tr>\n",
       "    <tr>\n",
       "      <th>2019-12-27</th>\n",
       "      <td>70.161865</td>\n",
       "      <td>299.331360</td>\n",
       "      <td>71.171444</td>\n",
       "      <td>300.202859</td>\n",
       "      <td>69.755132</td>\n",
       "      <td>298.793640</td>\n",
       "      <td>70.481445</td>\n",
       "      <td>300.147234</td>\n",
       "      <td>146266000</td>\n",
       "      <td>42528800</td>\n",
       "    </tr>\n",
       "    <tr>\n",
       "      <th>2019-12-30</th>\n",
       "      <td>70.578278</td>\n",
       "      <td>297.681061</td>\n",
       "      <td>70.861543</td>\n",
       "      <td>299.553870</td>\n",
       "      <td>69.053023</td>\n",
       "      <td>297.189686</td>\n",
       "      <td>70.079543</td>\n",
       "      <td>299.414807</td>\n",
       "      <td>144114400</td>\n",
       "      <td>49729100</td>\n",
       "    </tr>\n",
       "  </tbody>\n",
       "</table>\n",
       "<p>2515 rows × 10 columns</p>\n",
       "</div>"
      ],
      "text/plain": [
       "Price           Close                   High                    Low  \\\n",
       "Ticker           AAPL         SPY       AAPL         SPY       AAPL   \n",
       "Date                                                                  \n",
       "2010-01-04   6.440332   86.026421   6.455078   86.071963   6.391279   \n",
       "2010-01-05   6.451466   86.254158   6.487879   86.292114   6.417459   \n",
       "2010-01-06   6.348847   86.314888   6.477046   86.527429   6.342227   \n",
       "2010-01-07   6.337110   86.679253   6.379844   86.785523   6.291067   \n",
       "2010-01-08   6.379242   86.967720   6.379844   87.005676   6.291369   \n",
       "...               ...         ...        ...         ...        ...   \n",
       "2019-12-23  68.757660  297.810944  68.818186  298.209600  67.878820   \n",
       "2019-12-24  68.823036  297.820221  68.973147  298.089067  68.496201   \n",
       "2019-12-26  70.188492  299.405518  70.205441  299.414798  68.927130   \n",
       "2019-12-27  70.161865  299.331360  71.171444  300.202859  69.755132   \n",
       "2019-12-30  70.578278  297.681061  70.861543  299.553870  69.053023   \n",
       "\n",
       "Price                        Open                 Volume             \n",
       "Ticker             SPY       AAPL         SPY       AAPL        SPY  \n",
       "Date                                                                 \n",
       "2010-01-04   84.644897   6.422878   85.297705  493729600  118944600  \n",
       "2010-01-05   85.662077   6.458086   85.973302  601904800  111579900  \n",
       "2010-01-06   86.102347   6.451467   86.170661  552160000  116074400  \n",
       "2010-01-07   85.912581   6.372320   86.155486  477131200  131091100  \n",
       "2010-01-08   86.276961   6.328685   86.451546  447610800  126402800  \n",
       "...                ...        ...         ...        ...        ...  \n",
       "2019-12-23  297.662600  67.917557  298.153975   98572000   52990000  \n",
       "2019-12-24  297.514254  68.924723  298.042722   48478800   20270000  \n",
       "2019-12-26  298.200267  68.956181  298.209519   93121200   30911200  \n",
       "2019-12-27  298.793640  70.481445  300.147234  146266000   42528800  \n",
       "2019-12-30  297.189686  70.079543  299.414807  144114400   49729100  \n",
       "\n",
       "[2515 rows x 10 columns]"
      ]
     },
     "execution_count": 5,
     "metadata": {},
     "output_type": "execute_result"
    }
   ],
   "source": [
    "raw"
   ]
  },
  {
   "cell_type": "code",
   "execution_count": 6,
   "id": "c2d5d6b5-a349-4d3b-b454-2f8eba133083",
   "metadata": {},
   "outputs": [
    {
     "data": {
      "text/plain": [
       "MultiIndex([( 'Close', 'AAPL'),\n",
       "            ( 'Close',  'SPY'),\n",
       "            (  'High', 'AAPL'),\n",
       "            (  'High',  'SPY'),\n",
       "            (   'Low', 'AAPL'),\n",
       "            (   'Low',  'SPY'),\n",
       "            (  'Open', 'AAPL'),\n",
       "            (  'Open',  'SPY'),\n",
       "            ('Volume', 'AAPL'),\n",
       "            ('Volume',  'SPY')],\n",
       "           names=['Price', 'Ticker'])"
      ]
     },
     "execution_count": 6,
     "metadata": {},
     "output_type": "execute_result"
    }
   ],
   "source": [
    "raw.columns"
   ]
  },
  {
   "cell_type": "code",
   "execution_count": 7,
   "id": "b6261a63-0e25-49a7-b5e6-0c426faa6505",
   "metadata": {},
   "outputs": [
    {
     "data": {
      "text/plain": [
       "\u001b[1;31mSignature:\u001b[0m\n",
       "\u001b[0mraw\u001b[0m\u001b[1;33m.\u001b[0m\u001b[0mpipe\u001b[0m\u001b[1;33m(\u001b[0m\u001b[1;33m\n",
       "\u001b[0m    \u001b[0mfunc\u001b[0m\u001b[1;33m:\u001b[0m \u001b[1;34m'Callable[..., T] | tuple[Callable[..., T], str]'\u001b[0m\u001b[1;33m,\u001b[0m\u001b[1;33m\n",
       "\u001b[0m    \u001b[1;33m*\u001b[0m\u001b[0margs\u001b[0m\u001b[1;33m,\u001b[0m\u001b[1;33m\n",
       "\u001b[0m    \u001b[1;33m**\u001b[0m\u001b[0mkwargs\u001b[0m\u001b[1;33m,\u001b[0m\u001b[1;33m\n",
       "\u001b[0m\u001b[1;33m)\u001b[0m \u001b[1;33m->\u001b[0m \u001b[1;34m'T'\u001b[0m\u001b[1;33m\u001b[0m\u001b[1;33m\u001b[0m\u001b[0m\n",
       "\u001b[1;31mDocstring:\u001b[0m\n",
       "Apply chainable functions that expect Series or DataFrames.\n",
       "\n",
       "Parameters\n",
       "----------\n",
       "func : function\n",
       "    Function to apply to the Series/DataFrame.\n",
       "    ``args``, and ``kwargs`` are passed into ``func``.\n",
       "    Alternatively a ``(callable, data_keyword)`` tuple where\n",
       "    ``data_keyword`` is a string indicating the keyword of\n",
       "    ``callable`` that expects the Series/DataFrame.\n",
       "*args : iterable, optional\n",
       "    Positional arguments passed into ``func``.\n",
       "**kwargs : mapping, optional\n",
       "    A dictionary of keyword arguments passed into ``func``.\n",
       "\n",
       "Returns\n",
       "-------\n",
       "the return type of ``func``.\n",
       "\n",
       "See Also\n",
       "--------\n",
       "DataFrame.apply : Apply a function along input axis of DataFrame.\n",
       "DataFrame.map : Apply a function elementwise on a whole DataFrame.\n",
       "Series.map : Apply a mapping correspondence on a\n",
       "    :class:`~pandas.Series`.\n",
       "\n",
       "Notes\n",
       "-----\n",
       "Use ``.pipe`` when chaining together functions that expect\n",
       "Series, DataFrames or GroupBy objects.\n",
       "\n",
       "Examples\n",
       "--------\n",
       "Constructing a income DataFrame from a dictionary.\n",
       "\n",
       ">>> data = [[8000, 1000], [9500, np.nan], [5000, 2000]]\n",
       ">>> df = pd.DataFrame(data, columns=['Salary', 'Others'])\n",
       ">>> df\n",
       "   Salary  Others\n",
       "0    8000  1000.0\n",
       "1    9500     NaN\n",
       "2    5000  2000.0\n",
       "\n",
       "Functions that perform tax reductions on an income DataFrame.\n",
       "\n",
       ">>> def subtract_federal_tax(df):\n",
       "...     return df * 0.9\n",
       ">>> def subtract_state_tax(df, rate):\n",
       "...     return df * (1 - rate)\n",
       ">>> def subtract_national_insurance(df, rate, rate_increase):\n",
       "...     new_rate = rate + rate_increase\n",
       "...     return df * (1 - new_rate)\n",
       "\n",
       "Instead of writing\n",
       "\n",
       ">>> subtract_national_insurance(\n",
       "...     subtract_state_tax(subtract_federal_tax(df), rate=0.12),\n",
       "...     rate=0.05,\n",
       "...     rate_increase=0.02)  # doctest: +SKIP\n",
       "\n",
       "You can write\n",
       "\n",
       ">>> (\n",
       "...     df.pipe(subtract_federal_tax)\n",
       "...     .pipe(subtract_state_tax, rate=0.12)\n",
       "...     .pipe(subtract_national_insurance, rate=0.05, rate_increase=0.02)\n",
       "... )\n",
       "    Salary   Others\n",
       "0  5892.48   736.56\n",
       "1  6997.32      NaN\n",
       "2  3682.80  1473.12\n",
       "\n",
       "If you have a function that takes the data as (say) the second\n",
       "argument, pass a tuple indicating which keyword expects the\n",
       "data. For example, suppose ``national_insurance`` takes its data as ``df``\n",
       "in the second argument:\n",
       "\n",
       ">>> def subtract_national_insurance(rate, df, rate_increase):\n",
       "...     new_rate = rate + rate_increase\n",
       "...     return df * (1 - new_rate)\n",
       ">>> (\n",
       "...     df.pipe(subtract_federal_tax)\n",
       "...     .pipe(subtract_state_tax, rate=0.12)\n",
       "...     .pipe(\n",
       "...         (subtract_national_insurance, 'df'),\n",
       "...         rate=0.05,\n",
       "...         rate_increase=0.02\n",
       "...     )\n",
       "... )\n",
       "    Salary   Others\n",
       "0  5892.48   736.56\n",
       "1  6997.32      NaN\n",
       "2  3682.80  1473.12\n",
       "\u001b[1;31mFile:\u001b[0m      d:\\python\\lib\\site-packages\\pandas\\core\\generic.py\n",
       "\u001b[1;31mType:\u001b[0m      method"
      ]
     },
     "metadata": {},
     "output_type": "display_data"
    }
   ],
   "source": [
    "# Going to use the .pipe method a lot\n",
    "raw.pipe?"
   ]
  },
  {
   "cell_type": "code",
   "execution_count": 8,
   "id": "ac7528ad-7e59-48e1-bee0-5293c27426e8",
   "metadata": {},
   "outputs": [
    {
     "data": {
      "text/html": [
       "<div>\n",
       "<style scoped>\n",
       "    .dataframe tbody tr th:only-of-type {\n",
       "        vertical-align: middle;\n",
       "    }\n",
       "\n",
       "    .dataframe tbody tr th {\n",
       "        vertical-align: top;\n",
       "    }\n",
       "\n",
       "    .dataframe thead th {\n",
       "        text-align: right;\n",
       "    }\n",
       "</style>\n",
       "<table border=\"1\" class=\"dataframe\">\n",
       "  <thead>\n",
       "    <tr style=\"text-align: right;\">\n",
       "      <th></th>\n",
       "      <th>Close</th>\n",
       "      <th>High</th>\n",
       "      <th>Low</th>\n",
       "      <th>Open</th>\n",
       "      <th>Volume</th>\n",
       "    </tr>\n",
       "    <tr>\n",
       "      <th>Date</th>\n",
       "      <th></th>\n",
       "      <th></th>\n",
       "      <th></th>\n",
       "      <th></th>\n",
       "      <th></th>\n",
       "    </tr>\n",
       "  </thead>\n",
       "  <tbody>\n",
       "    <tr>\n",
       "      <th>2010-01-04</th>\n",
       "      <td>6.440332</td>\n",
       "      <td>6.455078</td>\n",
       "      <td>6.391279</td>\n",
       "      <td>6.422878</td>\n",
       "      <td>493729600</td>\n",
       "    </tr>\n",
       "    <tr>\n",
       "      <th>2010-01-05</th>\n",
       "      <td>6.451466</td>\n",
       "      <td>6.487879</td>\n",
       "      <td>6.417459</td>\n",
       "      <td>6.458086</td>\n",
       "      <td>601904800</td>\n",
       "    </tr>\n",
       "    <tr>\n",
       "      <th>2010-01-06</th>\n",
       "      <td>6.348847</td>\n",
       "      <td>6.477046</td>\n",
       "      <td>6.342227</td>\n",
       "      <td>6.451467</td>\n",
       "      <td>552160000</td>\n",
       "    </tr>\n",
       "    <tr>\n",
       "      <th>2010-01-07</th>\n",
       "      <td>6.337110</td>\n",
       "      <td>6.379844</td>\n",
       "      <td>6.291067</td>\n",
       "      <td>6.372320</td>\n",
       "      <td>477131200</td>\n",
       "    </tr>\n",
       "    <tr>\n",
       "      <th>2010-01-08</th>\n",
       "      <td>6.379242</td>\n",
       "      <td>6.379844</td>\n",
       "      <td>6.291369</td>\n",
       "      <td>6.328685</td>\n",
       "      <td>447610800</td>\n",
       "    </tr>\n",
       "    <tr>\n",
       "      <th>...</th>\n",
       "      <td>...</td>\n",
       "      <td>...</td>\n",
       "      <td>...</td>\n",
       "      <td>...</td>\n",
       "      <td>...</td>\n",
       "    </tr>\n",
       "    <tr>\n",
       "      <th>2019-12-23</th>\n",
       "      <td>68.757660</td>\n",
       "      <td>68.818186</td>\n",
       "      <td>67.878820</td>\n",
       "      <td>67.917557</td>\n",
       "      <td>98572000</td>\n",
       "    </tr>\n",
       "    <tr>\n",
       "      <th>2019-12-24</th>\n",
       "      <td>68.823036</td>\n",
       "      <td>68.973147</td>\n",
       "      <td>68.496201</td>\n",
       "      <td>68.924723</td>\n",
       "      <td>48478800</td>\n",
       "    </tr>\n",
       "    <tr>\n",
       "      <th>2019-12-26</th>\n",
       "      <td>70.188492</td>\n",
       "      <td>70.205441</td>\n",
       "      <td>68.927130</td>\n",
       "      <td>68.956181</td>\n",
       "      <td>93121200</td>\n",
       "    </tr>\n",
       "    <tr>\n",
       "      <th>2019-12-27</th>\n",
       "      <td>70.161865</td>\n",
       "      <td>71.171444</td>\n",
       "      <td>69.755132</td>\n",
       "      <td>70.481445</td>\n",
       "      <td>146266000</td>\n",
       "    </tr>\n",
       "    <tr>\n",
       "      <th>2019-12-30</th>\n",
       "      <td>70.578278</td>\n",
       "      <td>70.861543</td>\n",
       "      <td>69.053023</td>\n",
       "      <td>70.079543</td>\n",
       "      <td>144114400</td>\n",
       "    </tr>\n",
       "  </tbody>\n",
       "</table>\n",
       "<p>2515 rows × 5 columns</p>\n",
       "</div>"
      ],
      "text/plain": [
       "                Close       High        Low       Open     Volume\n",
       "Date                                                             \n",
       "2010-01-04   6.440332   6.455078   6.391279   6.422878  493729600\n",
       "2010-01-05   6.451466   6.487879   6.417459   6.458086  601904800\n",
       "2010-01-06   6.348847   6.477046   6.342227   6.451467  552160000\n",
       "2010-01-07   6.337110   6.379844   6.291067   6.372320  477131200\n",
       "2010-01-08   6.379242   6.379844   6.291369   6.328685  447610800\n",
       "...               ...        ...        ...        ...        ...\n",
       "2019-12-23  68.757660  68.818186  67.878820  67.917557   98572000\n",
       "2019-12-24  68.823036  68.973147  68.496201  68.924723   48478800\n",
       "2019-12-26  70.188492  70.205441  68.927130  68.956181   93121200\n",
       "2019-12-27  70.161865  71.171444  69.755132  70.481445  146266000\n",
       "2019-12-30  70.578278  70.861543  69.053023  70.079543  144114400\n",
       "\n",
       "[2515 rows x 5 columns]"
      ]
     },
     "execution_count": 8,
     "metadata": {},
     "output_type": "execute_result"
    }
   ],
   "source": [
    "def fix_cols(df):\n",
    "    columns = df.columns\n",
    "    outer = [col[0] for col in columns]\n",
    "    df.columns = outer\n",
    "    return df\n",
    "\n",
    "(raw\n",
    " .iloc[:,::2]\n",
    " .pipe(fix_cols)\n",
    ")"
   ]
  },
  {
   "cell_type": "markdown",
   "id": "f5d0aee5-dd01-4507-91e1-3590b213b321",
   "metadata": {},
   "source": [
    "**Understanding the fix_cols function**\n",
    "- This function extracts the first element from each column name and sets it as the new column name.\n",
    "- It assumes that the column names are tuples or lists (multi-indexed columns).\n",
    "\n",
    "**Applying .iloc[:, ::2]**\n",
    "- iloc[:, ::2]: This selects every second column (i.e., 0, 2, 4, ...).\n",
    "- .pipe(fix_cols): Passes the result of .iloc into the fix_cols function.\n",
    "\n",
    "**Overall Explanation**\n",
    "- raw.iloc[:, ::2]: Selects every second column of raw.\n",
    "- pipe(fix_cols): Passes the subsetted DataFrame to fix_cols, renaming columns by extracting the first element from each column name."
   ]
  },
  {
   "cell_type": "code",
   "execution_count": 9,
   "id": "7dfe9c77-4b83-4a73-a3e4-a96655d09b17",
   "metadata": {},
   "outputs": [
    {
     "name": "stderr",
     "output_type": "stream",
     "text": [
      "[*********************100%***********************]  2 of 2 completed\n"
     ]
    },
    {
     "data": {
      "text/html": [
       "<div>\n",
       "<style scoped>\n",
       "    .dataframe tbody tr th:only-of-type {\n",
       "        vertical-align: middle;\n",
       "    }\n",
       "\n",
       "    .dataframe tbody tr th {\n",
       "        vertical-align: top;\n",
       "    }\n",
       "\n",
       "    .dataframe thead th {\n",
       "        text-align: right;\n",
       "    }\n",
       "</style>\n",
       "<table border=\"1\" class=\"dataframe\">\n",
       "  <thead>\n",
       "    <tr style=\"text-align: right;\">\n",
       "      <th></th>\n",
       "      <th>Close</th>\n",
       "      <th>High</th>\n",
       "      <th>Low</th>\n",
       "      <th>Open</th>\n",
       "      <th>Volume</th>\n",
       "    </tr>\n",
       "    <tr>\n",
       "      <th>Date</th>\n",
       "      <th></th>\n",
       "      <th></th>\n",
       "      <th></th>\n",
       "      <th></th>\n",
       "      <th></th>\n",
       "    </tr>\n",
       "  </thead>\n",
       "  <tbody>\n",
       "    <tr>\n",
       "      <th>2010-01-04</th>\n",
       "      <td>6.440332</td>\n",
       "      <td>6.455078</td>\n",
       "      <td>6.391279</td>\n",
       "      <td>6.422878</td>\n",
       "      <td>493729600</td>\n",
       "    </tr>\n",
       "    <tr>\n",
       "      <th>2010-01-05</th>\n",
       "      <td>6.451466</td>\n",
       "      <td>6.487879</td>\n",
       "      <td>6.417459</td>\n",
       "      <td>6.458086</td>\n",
       "      <td>601904800</td>\n",
       "    </tr>\n",
       "    <tr>\n",
       "      <th>2010-01-06</th>\n",
       "      <td>6.348847</td>\n",
       "      <td>6.477046</td>\n",
       "      <td>6.342227</td>\n",
       "      <td>6.451467</td>\n",
       "      <td>552160000</td>\n",
       "    </tr>\n",
       "    <tr>\n",
       "      <th>2010-01-07</th>\n",
       "      <td>6.337110</td>\n",
       "      <td>6.379844</td>\n",
       "      <td>6.291067</td>\n",
       "      <td>6.372320</td>\n",
       "      <td>477131200</td>\n",
       "    </tr>\n",
       "    <tr>\n",
       "      <th>2010-01-08</th>\n",
       "      <td>6.379242</td>\n",
       "      <td>6.379844</td>\n",
       "      <td>6.291369</td>\n",
       "      <td>6.328685</td>\n",
       "      <td>447610800</td>\n",
       "    </tr>\n",
       "    <tr>\n",
       "      <th>...</th>\n",
       "      <td>...</td>\n",
       "      <td>...</td>\n",
       "      <td>...</td>\n",
       "      <td>...</td>\n",
       "      <td>...</td>\n",
       "    </tr>\n",
       "    <tr>\n",
       "      <th>2019-12-23</th>\n",
       "      <td>68.757660</td>\n",
       "      <td>68.818186</td>\n",
       "      <td>67.878820</td>\n",
       "      <td>67.917557</td>\n",
       "      <td>98572000</td>\n",
       "    </tr>\n",
       "    <tr>\n",
       "      <th>2019-12-24</th>\n",
       "      <td>68.823036</td>\n",
       "      <td>68.973147</td>\n",
       "      <td>68.496201</td>\n",
       "      <td>68.924723</td>\n",
       "      <td>48478800</td>\n",
       "    </tr>\n",
       "    <tr>\n",
       "      <th>2019-12-26</th>\n",
       "      <td>70.188492</td>\n",
       "      <td>70.205441</td>\n",
       "      <td>68.927130</td>\n",
       "      <td>68.956181</td>\n",
       "      <td>93121200</td>\n",
       "    </tr>\n",
       "    <tr>\n",
       "      <th>2019-12-27</th>\n",
       "      <td>70.161865</td>\n",
       "      <td>71.171444</td>\n",
       "      <td>69.755132</td>\n",
       "      <td>70.481445</td>\n",
       "      <td>146266000</td>\n",
       "    </tr>\n",
       "    <tr>\n",
       "      <th>2019-12-30</th>\n",
       "      <td>70.578278</td>\n",
       "      <td>70.861543</td>\n",
       "      <td>69.053023</td>\n",
       "      <td>70.079543</td>\n",
       "      <td>144114400</td>\n",
       "    </tr>\n",
       "  </tbody>\n",
       "</table>\n",
       "<p>2515 rows × 5 columns</p>\n",
       "</div>"
      ],
      "text/plain": [
       "                Close       High        Low       Open     Volume\n",
       "Date                                                             \n",
       "2010-01-04   6.440332   6.455078   6.391279   6.422878  493729600\n",
       "2010-01-05   6.451466   6.487879   6.417459   6.458086  601904800\n",
       "2010-01-06   6.348847   6.477046   6.342227   6.451467  552160000\n",
       "2010-01-07   6.337110   6.379844   6.291067   6.372320  477131200\n",
       "2010-01-08   6.379242   6.379844   6.291369   6.328685  447610800\n",
       "...               ...        ...        ...        ...        ...\n",
       "2019-12-23  68.757660  68.818186  67.878820  67.917557   98572000\n",
       "2019-12-24  68.823036  68.973147  68.496201  68.924723   48478800\n",
       "2019-12-26  70.188492  70.205441  68.927130  68.956181   93121200\n",
       "2019-12-27  70.161865  71.171444  69.755132  70.481445  146266000\n",
       "2019-12-30  70.578278  70.861543  69.053023  70.079543  144114400\n",
       "\n",
       "[2515 rows x 5 columns]"
      ]
     },
     "execution_count": 9,
     "metadata": {},
     "output_type": "execute_result"
    }
   ],
   "source": [
    "import yfinance as yf\n",
    "\n",
    "def fix_cols(df):\n",
    "    columns = df.columns\n",
    "    outer = [col[0] for col in columns]\n",
    "    df.columns = outer\n",
    "    return df\n",
    "\n",
    "def tweak_data():\n",
    "    raw = yf.download('SPY AAPL', start='2010-01-01', end='2019-12-31')\n",
    "\n",
    "    return (raw\n",
    "     .iloc[:,::2]\n",
    "     .pipe(fix_cols)\n",
    "    )\n",
    "\n",
    "tweak_data()"
   ]
  },
  {
   "cell_type": "markdown",
   "id": "4d9dbfee-0892-408d-8151-c07a9e2c0229",
   "metadata": {},
   "source": [
    "#### Line Plot"
   ]
  },
  {
   "cell_type": "markdown",
   "id": "5df3f7be-78b7-4ea4-947e-677175793118",
   "metadata": {},
   "source": [
    "Goals\n",
    "- Line plots\n",
    "- Matplotlib plots"
   ]
  },
  {
   "cell_type": "code",
   "execution_count": 10,
   "id": "56e84a4a-b8ec-48ee-8e48-a245d4ece755",
   "metadata": {},
   "outputs": [
    {
     "name": "stderr",
     "output_type": "stream",
     "text": [
      "[*********************100%***********************]  2 of 2 completed\n"
     ]
    }
   ],
   "source": [
    "raw = yf.download('SPY AAPL', start='2010-01-01', end='2019-12-31')"
   ]
  },
  {
   "cell_type": "code",
   "execution_count": 11,
   "id": "537013f4-f43b-466c-a429-709a0e52e2ff",
   "metadata": {},
   "outputs": [
    {
     "data": {
      "text/html": [
       "<div>\n",
       "<style scoped>\n",
       "    .dataframe tbody tr th:only-of-type {\n",
       "        vertical-align: middle;\n",
       "    }\n",
       "\n",
       "    .dataframe tbody tr th {\n",
       "        vertical-align: top;\n",
       "    }\n",
       "\n",
       "    .dataframe thead th {\n",
       "        text-align: right;\n",
       "    }\n",
       "</style>\n",
       "<table border=\"1\" class=\"dataframe\">\n",
       "  <thead>\n",
       "    <tr style=\"text-align: right;\">\n",
       "      <th></th>\n",
       "      <th>Close</th>\n",
       "      <th>High</th>\n",
       "      <th>Low</th>\n",
       "      <th>Open</th>\n",
       "    </tr>\n",
       "    <tr>\n",
       "      <th>Date</th>\n",
       "      <th></th>\n",
       "      <th></th>\n",
       "      <th></th>\n",
       "      <th></th>\n",
       "    </tr>\n",
       "  </thead>\n",
       "  <tbody>\n",
       "    <tr>\n",
       "      <th>2010-01-04</th>\n",
       "      <td>6.440332</td>\n",
       "      <td>6.455078</td>\n",
       "      <td>6.391279</td>\n",
       "      <td>6.422878</td>\n",
       "    </tr>\n",
       "    <tr>\n",
       "      <th>2010-01-05</th>\n",
       "      <td>6.451466</td>\n",
       "      <td>6.487879</td>\n",
       "      <td>6.417459</td>\n",
       "      <td>6.458086</td>\n",
       "    </tr>\n",
       "    <tr>\n",
       "      <th>2010-01-06</th>\n",
       "      <td>6.348847</td>\n",
       "      <td>6.477046</td>\n",
       "      <td>6.342227</td>\n",
       "      <td>6.451467</td>\n",
       "    </tr>\n",
       "    <tr>\n",
       "      <th>2010-01-07</th>\n",
       "      <td>6.337110</td>\n",
       "      <td>6.379844</td>\n",
       "      <td>6.291067</td>\n",
       "      <td>6.372320</td>\n",
       "    </tr>\n",
       "    <tr>\n",
       "      <th>2010-01-08</th>\n",
       "      <td>6.379242</td>\n",
       "      <td>6.379844</td>\n",
       "      <td>6.291369</td>\n",
       "      <td>6.328685</td>\n",
       "    </tr>\n",
       "    <tr>\n",
       "      <th>...</th>\n",
       "      <td>...</td>\n",
       "      <td>...</td>\n",
       "      <td>...</td>\n",
       "      <td>...</td>\n",
       "    </tr>\n",
       "    <tr>\n",
       "      <th>2019-12-23</th>\n",
       "      <td>68.757660</td>\n",
       "      <td>68.818186</td>\n",
       "      <td>67.878820</td>\n",
       "      <td>67.917557</td>\n",
       "    </tr>\n",
       "    <tr>\n",
       "      <th>2019-12-24</th>\n",
       "      <td>68.823036</td>\n",
       "      <td>68.973147</td>\n",
       "      <td>68.496201</td>\n",
       "      <td>68.924723</td>\n",
       "    </tr>\n",
       "    <tr>\n",
       "      <th>2019-12-26</th>\n",
       "      <td>70.188492</td>\n",
       "      <td>70.205441</td>\n",
       "      <td>68.927130</td>\n",
       "      <td>68.956181</td>\n",
       "    </tr>\n",
       "    <tr>\n",
       "      <th>2019-12-27</th>\n",
       "      <td>70.161865</td>\n",
       "      <td>71.171444</td>\n",
       "      <td>69.755132</td>\n",
       "      <td>70.481445</td>\n",
       "    </tr>\n",
       "    <tr>\n",
       "      <th>2019-12-30</th>\n",
       "      <td>70.578278</td>\n",
       "      <td>70.861543</td>\n",
       "      <td>69.053023</td>\n",
       "      <td>70.079543</td>\n",
       "    </tr>\n",
       "  </tbody>\n",
       "</table>\n",
       "<p>2515 rows × 4 columns</p>\n",
       "</div>"
      ],
      "text/plain": [
       "                Close       High        Low       Open\n",
       "Date                                                  \n",
       "2010-01-04   6.440332   6.455078   6.391279   6.422878\n",
       "2010-01-05   6.451466   6.487879   6.417459   6.458086\n",
       "2010-01-06   6.348847   6.477046   6.342227   6.451467\n",
       "2010-01-07   6.337110   6.379844   6.291067   6.372320\n",
       "2010-01-08   6.379242   6.379844   6.291369   6.328685\n",
       "...               ...        ...        ...        ...\n",
       "2019-12-23  68.757660  68.818186  67.878820  67.917557\n",
       "2019-12-24  68.823036  68.973147  68.496201  68.924723\n",
       "2019-12-26  70.188492  70.205441  68.927130  68.956181\n",
       "2019-12-27  70.161865  71.171444  69.755132  70.481445\n",
       "2019-12-30  70.578278  70.861543  69.053023  70.079543\n",
       "\n",
       "[2515 rows x 4 columns]"
      ]
     },
     "execution_count": 11,
     "metadata": {},
     "output_type": "execute_result"
    }
   ],
   "source": [
    "(raw\n",
    " .iloc[:,:-2:2]\n",
    " .pipe(fix_cols)\n",
    ")"
   ]
  },
  {
   "cell_type": "code",
   "execution_count": 12,
   "id": "d46a9cea-db08-40a1-8d9b-b1a16f5ee75c",
   "metadata": {},
   "outputs": [
    {
     "data": {
      "text/plain": [
       "<Axes: xlabel='Date'>"
      ]
     },
     "execution_count": 12,
     "metadata": {},
     "output_type": "execute_result"
    },
    {
     "data": {
      "image/png": "[encoded data removed]",
      "text/plain": [
       "<Figure size 640x480 with 1 Axes>"
      ]
     },
     "metadata": {},
     "output_type": "display_data"
    }
   ],
   "source": [
    "(raw\n",
    " .iloc[:,:-2:2]\n",
    " .pipe(fix_cols)\n",
    " .plot()\n",
    ")"
   ]
  },
  {
   "cell_type": "code",
   "execution_count": 13,
   "id": "02084d61-b863-449c-96e1-2ce6fdb14b65",
   "metadata": {},
   "outputs": [
    {
     "data": {
      "text/plain": [
       "<Axes: xlabel='Date'>"
      ]
     },
     "execution_count": 13,
     "metadata": {},
     "output_type": "execute_result"
    },
    {
     "data": {
      "image/png": "[encoded data removed]",
      "text/plain": [
       "<Figure size 640x480 with 1 Axes>"
      ]
     },
     "metadata": {},
     "output_type": "display_data"
    }
   ],
   "source": [
    "(raw\n",
    " .iloc[:,::2]\n",
    " .pipe(fix_cols)\n",
    " .Close\n",
    " .plot()\n",
    ")"
   ]
  },
  {
   "cell_type": "code",
   "execution_count": 14,
   "id": "40f5a904-fdc0-4678-9616-c5596373f750",
   "metadata": {},
   "outputs": [
    {
     "data": {
      "text/plain": [
       "<Axes: xlabel='Date'>"
      ]
     },
     "execution_count": 14,
     "metadata": {},
     "output_type": "execute_result"
    },
    {
     "data": {
      "image/png": "[encoded data removed]",
      "text/plain": [
       "<Figure size 1000x200 with 1 Axes>"
      ]
     },
     "metadata": {},
     "output_type": "display_data"
    }
   ],
   "source": [
    "(raw\n",
    " .iloc[:,::2]\n",
    " .pipe(fix_cols)\n",
    " .Volume\n",
    " .plot(figsize=(10,2))\n",
    ")"
   ]
  },
  {
   "cell_type": "markdown",
   "id": "66ced68f-74a9-41ce-bc72-b1331a314184",
   "metadata": {},
   "source": [
    "#### Resampling"
   ]
  },
  {
   "cell_type": "code",
   "execution_count": 15,
   "id": "480dc4f1-a8ea-46f2-afa4-5c9fa606413a",
   "metadata": {},
   "outputs": [
    {
     "data": {
      "text/plain": [
       "<Axes: xlabel='Date'>"
      ]
     },
     "execution_count": 15,
     "metadata": {},
     "output_type": "execute_result"
    },
    {
     "data": {
      "image/png": "[encoded data removed]",
      "text/plain": [
       "<Figure size 640x480 with 1 Axes>"
      ]
     },
     "metadata": {},
     "output_type": "display_data"
    }
   ],
   "source": [
    "(raw\n",
    " .iloc[:,::2]\n",
    " .pipe(fix_cols)\n",
    " .Close\n",
    " .plot()\n",
    ")"
   ]
  },
  {
   "cell_type": "code",
   "execution_count": 16,
   "id": "baa8f953-c30c-42f3-be8e-4f16e0f1b164",
   "metadata": {},
   "outputs": [
    {
     "data": {
      "text/plain": [
       "Date\n",
       "2010-01-04     6.440332\n",
       "2010-01-05     6.451466\n",
       "2010-01-06     6.348847\n",
       "2010-01-07     6.337110\n",
       "2010-01-08     6.379242\n",
       "                ...    \n",
       "2019-12-23    68.757660\n",
       "2019-12-24    68.823036\n",
       "2019-12-26    70.188492\n",
       "2019-12-27    70.161865\n",
       "2019-12-30    70.578278\n",
       "Name: Close, Length: 2515, dtype: float64"
      ]
     },
     "execution_count": 16,
     "metadata": {},
     "output_type": "execute_result"
    }
   ],
   "source": [
    "(raw\n",
    " .iloc[:,::2]\n",
    " .pipe(fix_cols)\n",
    " .Close\n",
    ")"
   ]
  },
  {
   "cell_type": "code",
   "execution_count": 17,
   "id": "57f718c4-f08f-4d57-b6f6-5655f6c6e948",
   "metadata": {},
   "outputs": [
    {
     "name": "stderr",
     "output_type": "stream",
     "text": [
      "C:\\Users\\Admin\\AppData\\Local\\Temp\\ipykernel_26076\\271770984.py:4: FutureWarning: 'M' is deprecated and will be removed in a future version, please use 'ME' instead.\n",
      "  .resample('M') #offset alias\n"
     ]
    },
    {
     "data": {
      "text/plain": [
       "<pandas.core.groupby.generic.SeriesGroupBy object at 0x000001DD3F3AD910>"
      ]
     },
     "execution_count": 17,
     "metadata": {},
     "output_type": "execute_result"
    }
   ],
   "source": [
    "(raw\n",
    " .iloc[:,::2]\n",
    " .pipe(fix_cols)\n",
    " .resample('M') #offset alias\n",
    " .Close\n",
    ")"
   ]
  },
  {
   "cell_type": "code",
   "execution_count": 18,
   "id": "6174c764-d5c6-4f85-81bb-0141712aee96",
   "metadata": {},
   "outputs": [
    {
     "name": "stderr",
     "output_type": "stream",
     "text": [
      "C:\\Users\\Admin\\AppData\\Local\\Temp\\ipykernel_26076\\568485902.py:4: FutureWarning: 'M' is deprecated and will be removed in a future version, please use 'ME' instead.\n",
      "  .resample('M') #offset alias\n"
     ]
    },
    {
     "data": {
      "text/plain": [
       "Date\n",
       "2010-01-31     6.250899\n",
       "2010-02-28     5.982481\n",
       "2010-03-31     6.723237\n",
       "2010-04-30     7.557964\n",
       "2010-05-31     7.567381\n",
       "                ...    \n",
       "2019-08-31    49.422591\n",
       "2019-09-30    52.619580\n",
       "2019-10-31    56.793400\n",
       "2019-11-30    63.520140\n",
       "2019-12-31    66.740812\n",
       "Freq: ME, Name: Close, Length: 120, dtype: float64"
      ]
     },
     "execution_count": 18,
     "metadata": {},
     "output_type": "execute_result"
    }
   ],
   "source": [
    "(raw\n",
    " .iloc[:,::2]\n",
    " .pipe(fix_cols)\n",
    " .resample('M') #offset alias\n",
    " .Close\n",
    " .mean()\n",
    ")"
   ]
  },
  {
   "cell_type": "code",
   "execution_count": 19,
   "id": "98221cdd-09a8-484e-9171-65bacc5d0782",
   "metadata": {},
   "outputs": [
    {
     "name": "stderr",
     "output_type": "stream",
     "text": [
      "C:\\Users\\Admin\\AppData\\Local\\Temp\\ipykernel_26076\\1015692560.py:4: FutureWarning: 'M' is deprecated and will be removed in a future version, please use 'ME' instead.\n",
      "  .resample('M') #offset alias\n"
     ]
    },
    {
     "data": {
      "text/plain": [
       "<Axes: xlabel='Date'>"
      ]
     },
     "execution_count": 19,
     "metadata": {},
     "output_type": "execute_result"
    },
    {
     "data": {
      "image/png": "[encoded data removed]",
      "text/plain": [
       "<Figure size 640x480 with 1 Axes>"
      ]
     },
     "metadata": {},
     "output_type": "display_data"
    }
   ],
   "source": [
    "(raw\n",
    " .iloc[:,::2]\n",
    " .pipe(fix_cols)\n",
    " .resample('M') #offset alias\n",
    " .Close\n",
    " .mean()\n",
    " .plot()\n",
    ")"
   ]
  },
  {
   "cell_type": "markdown",
   "id": "f659963d-e51a-4306-8c4a-3c2e62474c31",
   "metadata": {},
   "source": [
    "#### Candlestick Plot"
   ]
  },
  {
   "cell_type": "code",
   "execution_count": 20,
   "id": "197433cc-8a4e-44bc-81ab-a8451fd5d4b0",
   "metadata": {},
   "outputs": [
    {
     "data": {
      "text/html": [
       "<div>\n",
       "<style scoped>\n",
       "    .dataframe tbody tr th:only-of-type {\n",
       "        vertical-align: middle;\n",
       "    }\n",
       "\n",
       "    .dataframe tbody tr th {\n",
       "        vertical-align: top;\n",
       "    }\n",
       "\n",
       "    .dataframe thead th {\n",
       "        text-align: right;\n",
       "    }\n",
       "</style>\n",
       "<table border=\"1\" class=\"dataframe\">\n",
       "  <thead>\n",
       "    <tr style=\"text-align: right;\">\n",
       "      <th></th>\n",
       "      <th>Open</th>\n",
       "      <th>High</th>\n",
       "      <th>Low</th>\n",
       "      <th>Close</th>\n",
       "    </tr>\n",
       "    <tr>\n",
       "      <th>Date</th>\n",
       "      <th></th>\n",
       "      <th></th>\n",
       "      <th></th>\n",
       "      <th></th>\n",
       "    </tr>\n",
       "  </thead>\n",
       "  <tbody>\n",
       "    <tr>\n",
       "      <th>2018-01-01</th>\n",
       "      <td>NaN</td>\n",
       "      <td>NaN</td>\n",
       "      <td>NaN</td>\n",
       "      <td>NaN</td>\n",
       "    </tr>\n",
       "    <tr>\n",
       "      <th>2018-01-02</th>\n",
       "      <td>39.986349</td>\n",
       "      <td>40.489233</td>\n",
       "      <td>39.774854</td>\n",
       "      <td>40.479832</td>\n",
       "    </tr>\n",
       "    <tr>\n",
       "      <th>2018-01-03</th>\n",
       "      <td>40.543281</td>\n",
       "      <td>41.017967</td>\n",
       "      <td>40.409337</td>\n",
       "      <td>40.472782</td>\n",
       "    </tr>\n",
       "    <tr>\n",
       "      <th>2018-01-04</th>\n",
       "      <td>40.545634</td>\n",
       "      <td>40.764179</td>\n",
       "      <td>40.437540</td>\n",
       "      <td>40.660782</td>\n",
       "    </tr>\n",
       "    <tr>\n",
       "      <th>2018-01-05</th>\n",
       "      <td>40.757134</td>\n",
       "      <td>41.210668</td>\n",
       "      <td>40.665487</td>\n",
       "      <td>41.123722</td>\n",
       "    </tr>\n",
       "    <tr>\n",
       "      <th>...</th>\n",
       "      <td>...</td>\n",
       "      <td>...</td>\n",
       "      <td>...</td>\n",
       "      <td>...</td>\n",
       "    </tr>\n",
       "    <tr>\n",
       "      <th>2018-06-26</th>\n",
       "      <td>43.343132</td>\n",
       "      <td>44.181617</td>\n",
       "      <td>43.236541</td>\n",
       "      <td>43.684208</td>\n",
       "    </tr>\n",
       "    <tr>\n",
       "      <th>2018-06-27</th>\n",
       "      <td>43.873690</td>\n",
       "      <td>44.359255</td>\n",
       "      <td>43.589458</td>\n",
       "      <td>43.620251</td>\n",
       "    </tr>\n",
       "    <tr>\n",
       "      <th>2018-06-28</th>\n",
       "      <td>43.606023</td>\n",
       "      <td>44.105798</td>\n",
       "      <td>43.534964</td>\n",
       "      <td>43.937626</td>\n",
       "    </tr>\n",
       "    <tr>\n",
       "      <th>2018-06-29</th>\n",
       "      <td>44.124766</td>\n",
       "      <td>44.337943</td>\n",
       "      <td>43.324179</td>\n",
       "      <td>43.845272</td>\n",
       "    </tr>\n",
       "    <tr>\n",
       "      <th>2018-06-30</th>\n",
       "      <td>NaN</td>\n",
       "      <td>NaN</td>\n",
       "      <td>NaN</td>\n",
       "      <td>NaN</td>\n",
       "    </tr>\n",
       "  </tbody>\n",
       "</table>\n",
       "<p>181 rows × 4 columns</p>\n",
       "</div>"
      ],
      "text/plain": [
       "                 Open       High        Low      Close\n",
       "Date                                                  \n",
       "2018-01-01        NaN        NaN        NaN        NaN\n",
       "2018-01-02  39.986349  40.489233  39.774854  40.479832\n",
       "2018-01-03  40.543281  41.017967  40.409337  40.472782\n",
       "2018-01-04  40.545634  40.764179  40.437540  40.660782\n",
       "2018-01-05  40.757134  41.210668  40.665487  41.123722\n",
       "...               ...        ...        ...        ...\n",
       "2018-06-26  43.343132  44.181617  43.236541  43.684208\n",
       "2018-06-27  43.873690  44.359255  43.589458  43.620251\n",
       "2018-06-28  43.606023  44.105798  43.534964  43.937626\n",
       "2018-06-29  44.124766  44.337943  43.324179  43.845272\n",
       "2018-06-30        NaN        NaN        NaN        NaN\n",
       "\n",
       "[181 rows x 4 columns]"
      ]
     },
     "execution_count": 20,
     "metadata": {},
     "output_type": "execute_result"
    },
    {
     "data": {
      "image/png": "[encoded data removed]",
      "text/plain": [
       "<Figure size 1000x500 with 1 Axes>"
      ]
     },
     "metadata": {},
     "output_type": "display_data"
    }
   ],
   "source": [
    "fig, ax=plt.subplots(figsize=(10,5))\n",
    "def plot_candle(df,ax):\n",
    "    #wick\n",
    "    ax.vlines(x=df.index,ymin=df.Low,ymax=df.High,colors=\"k\", linewidth=1)\n",
    "    #red - decrease\n",
    "    red=df.query('Open>Close')\n",
    "    ax.vlines(x=red.index,ymin=red.Close,ymax=red.Open,colors='r',linewidth=3)\n",
    "    #green - increase\n",
    "    green=df.query('Open<=Close')\n",
    "    ax.vlines(x=green.index,ymin=green.Close,ymax=green.Open,colors='g',linewidth=3)\n",
    "\n",
    "    ax.xaxis.set_major_locator(dates.MonthLocator())\n",
    "    ax.xaxis.set_major_formatter(dates.DateFormatter('%b-%y')) #b-month y-year\n",
    "    ax.xaxis.set_minor_locator(dates.DayLocator())\n",
    "\n",
    "    return df\n",
    "\n",
    "(raw\n",
    " .iloc[:,::2]\n",
    " .pipe(fix_cols)\n",
    " .resample('d') #w-week d-day m-month\n",
    " .agg({'Open':'first','High':'max','Low':'min','Close':'last'})\n",
    " .loc['jan 2018':'jun 2018']\n",
    " .pipe(plot_candle,ax)\n",
    ")"
   ]
  },
  {
   "cell_type": "markdown",
   "id": "dd91871e-4824-46f4-bf51-26b2ed621bcd",
   "metadata": {},
   "source": [
    "#### Challenge"
   ]
  },
  {
   "cell_type": "markdown",
   "id": "0a2d932f-5547-4d0a-8f2d-a58187475934",
   "metadata": {},
   "source": [
    "Plot the Candles for the time period of Sep 2019 to Dec 2019."
   ]
  },
  {
   "cell_type": "code",
   "execution_count": 21,
   "id": "5aaea0fc-b896-4574-84cf-b51ecef489f1",
   "metadata": {},
   "outputs": [
    {
     "data": {
      "text/html": [
       "<div>\n",
       "<style scoped>\n",
       "    .dataframe tbody tr th:only-of-type {\n",
       "        vertical-align: middle;\n",
       "    }\n",
       "\n",
       "    .dataframe tbody tr th {\n",
       "        vertical-align: top;\n",
       "    }\n",
       "\n",
       "    .dataframe thead th {\n",
       "        text-align: right;\n",
       "    }\n",
       "</style>\n",
       "<table border=\"1\" class=\"dataframe\">\n",
       "  <thead>\n",
       "    <tr style=\"text-align: right;\">\n",
       "      <th></th>\n",
       "      <th>Open</th>\n",
       "      <th>High</th>\n",
       "      <th>Low</th>\n",
       "      <th>Close</th>\n",
       "    </tr>\n",
       "    <tr>\n",
       "      <th>Date</th>\n",
       "      <th></th>\n",
       "      <th></th>\n",
       "      <th></th>\n",
       "      <th></th>\n",
       "    </tr>\n",
       "  </thead>\n",
       "  <tbody>\n",
       "    <tr>\n",
       "      <th>2019-09-01</th>\n",
       "      <td>NaN</td>\n",
       "      <td>NaN</td>\n",
       "      <td>NaN</td>\n",
       "      <td>NaN</td>\n",
       "    </tr>\n",
       "    <tr>\n",
       "      <th>2019-09-02</th>\n",
       "      <td>NaN</td>\n",
       "      <td>NaN</td>\n",
       "      <td>NaN</td>\n",
       "      <td>NaN</td>\n",
       "    </tr>\n",
       "    <tr>\n",
       "      <th>2019-09-03</th>\n",
       "      <td>49.828024</td>\n",
       "      <td>49.960783</td>\n",
       "      <td>49.294576</td>\n",
       "      <td>49.651817</td>\n",
       "    </tr>\n",
       "    <tr>\n",
       "      <th>2019-09-04</th>\n",
       "      <td>50.301131</td>\n",
       "      <td>50.564235</td>\n",
       "      <td>50.042857</td>\n",
       "      <td>50.494236</td>\n",
       "    </tr>\n",
       "    <tr>\n",
       "      <th>2019-09-05</th>\n",
       "      <td>51.172518</td>\n",
       "      <td>51.648036</td>\n",
       "      <td>51.054240</td>\n",
       "      <td>51.481483</td>\n",
       "    </tr>\n",
       "    <tr>\n",
       "      <th>...</th>\n",
       "      <td>...</td>\n",
       "      <td>...</td>\n",
       "      <td>...</td>\n",
       "      <td>...</td>\n",
       "    </tr>\n",
       "    <tr>\n",
       "      <th>2019-12-26</th>\n",
       "      <td>68.956181</td>\n",
       "      <td>70.205441</td>\n",
       "      <td>68.927130</td>\n",
       "      <td>70.188492</td>\n",
       "    </tr>\n",
       "    <tr>\n",
       "      <th>2019-12-27</th>\n",
       "      <td>70.481445</td>\n",
       "      <td>71.171444</td>\n",
       "      <td>69.755132</td>\n",
       "      <td>70.161865</td>\n",
       "    </tr>\n",
       "    <tr>\n",
       "      <th>2019-12-28</th>\n",
       "      <td>NaN</td>\n",
       "      <td>NaN</td>\n",
       "      <td>NaN</td>\n",
       "      <td>NaN</td>\n",
       "    </tr>\n",
       "    <tr>\n",
       "      <th>2019-12-29</th>\n",
       "      <td>NaN</td>\n",
       "      <td>NaN</td>\n",
       "      <td>NaN</td>\n",
       "      <td>NaN</td>\n",
       "    </tr>\n",
       "    <tr>\n",
       "      <th>2019-12-30</th>\n",
       "      <td>70.079543</td>\n",
       "      <td>70.861543</td>\n",
       "      <td>69.053023</td>\n",
       "      <td>70.578278</td>\n",
       "    </tr>\n",
       "  </tbody>\n",
       "</table>\n",
       "<p>121 rows × 4 columns</p>\n",
       "</div>"
      ],
      "text/plain": [
       "                 Open       High        Low      Close\n",
       "Date                                                  \n",
       "2019-09-01        NaN        NaN        NaN        NaN\n",
       "2019-09-02        NaN        NaN        NaN        NaN\n",
       "2019-09-03  49.828024  49.960783  49.294576  49.651817\n",
       "2019-09-04  50.301131  50.564235  50.042857  50.494236\n",
       "2019-09-05  51.172518  51.648036  51.054240  51.481483\n",
       "...               ...        ...        ...        ...\n",
       "2019-12-26  68.956181  70.205441  68.927130  70.188492\n",
       "2019-12-27  70.481445  71.171444  69.755132  70.161865\n",
       "2019-12-28        NaN        NaN        NaN        NaN\n",
       "2019-12-29        NaN        NaN        NaN        NaN\n",
       "2019-12-30  70.079543  70.861543  69.053023  70.578278\n",
       "\n",
       "[121 rows x 4 columns]"
      ]
     },
     "execution_count": 21,
     "metadata": {},
     "output_type": "execute_result"
    },
    {
     "data": {
      "image/png": "[encoded data removed]",
      "text/plain": [
       "<Figure size 1000x500 with 1 Axes>"
      ]
     },
     "metadata": {},
     "output_type": "display_data"
    }
   ],
   "source": [
    "fig, ax=plt.subplots(figsize=(10,5))\n",
    "\n",
    "(raw\n",
    " .iloc[:,::2]\n",
    " .pipe(fix_cols)\n",
    " .resample('d') #w-week d-day m-month\n",
    " .agg({'Open':'first','High':'max','Low':'min','Close':'last'})\n",
    " .loc['sep 2019':'dec 2019'] #.loc['sep 2019':'2019'] will also work since it goes till end of the year\n",
    " .pipe(plot_candle,ax)\n",
    ")"
   ]
  },
  {
   "cell_type": "markdown",
   "id": "2e13ddd9-3a0c-4bf0-ba00-62aa3e96c88d",
   "metadata": {},
   "source": [
    "The instructor re-initialized the ax object because the initial plot was not displaying correctly. The issue was that Jupyter Notebook did not create a new ax object when reusing the previous code. By re-initializing ax, the instructor ensured that a new plotting area was created, allowing the candlestick plot to display properly. This step is crucial for troubleshooting and ensuring the plot reflects the correct data range."
   ]
  },
  {
   "cell_type": "markdown",
   "id": "c88af9a7-c6d3-4583-8d90-9e630e9a12dc",
   "metadata": {},
   "source": [
    "## Calculations"
   ]
  },
  {
   "cell_type": "markdown",
   "id": "c1a526df-eb8e-4233-b80c-d41b531e12cb",
   "metadata": {},
   "source": [
    "Goal\n",
    "- Explore Pandas methods like .pct_change\n",
    "- Plotting with Pandas\n",
    "- Refactoring to functions"
   ]
  },
  {
   "cell_type": "markdown",
   "id": "1ea6868f-ef97-4bbe-839a-5c5648d8a556",
   "metadata": {},
   "source": [
    "#### Returns"
   ]
  },
  {
   "cell_type": "code",
   "execution_count": 22,
   "id": "eb58b652-94d1-493a-9173-a07ff891df56",
   "metadata": {},
   "outputs": [
    {
     "data": {
      "text/html": [
       "<div>\n",
       "<style scoped>\n",
       "    .dataframe tbody tr th:only-of-type {\n",
       "        vertical-align: middle;\n",
       "    }\n",
       "\n",
       "    .dataframe tbody tr th {\n",
       "        vertical-align: top;\n",
       "    }\n",
       "\n",
       "    .dataframe thead th {\n",
       "        text-align: right;\n",
       "    }\n",
       "</style>\n",
       "<table border=\"1\" class=\"dataframe\">\n",
       "  <thead>\n",
       "    <tr style=\"text-align: right;\">\n",
       "      <th></th>\n",
       "      <th>Close</th>\n",
       "      <th>High</th>\n",
       "      <th>Low</th>\n",
       "      <th>Open</th>\n",
       "      <th>Volume</th>\n",
       "    </tr>\n",
       "    <tr>\n",
       "      <th>Date</th>\n",
       "      <th></th>\n",
       "      <th></th>\n",
       "      <th></th>\n",
       "      <th></th>\n",
       "      <th></th>\n",
       "    </tr>\n",
       "  </thead>\n",
       "  <tbody>\n",
       "    <tr>\n",
       "      <th>2010-01-04</th>\n",
       "      <td>6.440332</td>\n",
       "      <td>6.455078</td>\n",
       "      <td>6.391279</td>\n",
       "      <td>6.422878</td>\n",
       "      <td>493729600</td>\n",
       "    </tr>\n",
       "    <tr>\n",
       "      <th>2010-01-05</th>\n",
       "      <td>6.451466</td>\n",
       "      <td>6.487879</td>\n",
       "      <td>6.417459</td>\n",
       "      <td>6.458086</td>\n",
       "      <td>601904800</td>\n",
       "    </tr>\n",
       "    <tr>\n",
       "      <th>2010-01-06</th>\n",
       "      <td>6.348847</td>\n",
       "      <td>6.477046</td>\n",
       "      <td>6.342227</td>\n",
       "      <td>6.451467</td>\n",
       "      <td>552160000</td>\n",
       "    </tr>\n",
       "    <tr>\n",
       "      <th>2010-01-07</th>\n",
       "      <td>6.337110</td>\n",
       "      <td>6.379844</td>\n",
       "      <td>6.291067</td>\n",
       "      <td>6.372320</td>\n",
       "      <td>477131200</td>\n",
       "    </tr>\n",
       "    <tr>\n",
       "      <th>2010-01-08</th>\n",
       "      <td>6.379242</td>\n",
       "      <td>6.379844</td>\n",
       "      <td>6.291369</td>\n",
       "      <td>6.328685</td>\n",
       "      <td>447610800</td>\n",
       "    </tr>\n",
       "    <tr>\n",
       "      <th>...</th>\n",
       "      <td>...</td>\n",
       "      <td>...</td>\n",
       "      <td>...</td>\n",
       "      <td>...</td>\n",
       "      <td>...</td>\n",
       "    </tr>\n",
       "    <tr>\n",
       "      <th>2019-12-23</th>\n",
       "      <td>68.757660</td>\n",
       "      <td>68.818186</td>\n",
       "      <td>67.878820</td>\n",
       "      <td>67.917557</td>\n",
       "      <td>98572000</td>\n",
       "    </tr>\n",
       "    <tr>\n",
       "      <th>2019-12-24</th>\n",
       "      <td>68.823036</td>\n",
       "      <td>68.973147</td>\n",
       "      <td>68.496201</td>\n",
       "      <td>68.924723</td>\n",
       "      <td>48478800</td>\n",
       "    </tr>\n",
       "    <tr>\n",
       "      <th>2019-12-26</th>\n",
       "      <td>70.188492</td>\n",
       "      <td>70.205441</td>\n",
       "      <td>68.927130</td>\n",
       "      <td>68.956181</td>\n",
       "      <td>93121200</td>\n",
       "    </tr>\n",
       "    <tr>\n",
       "      <th>2019-12-27</th>\n",
       "      <td>70.161865</td>\n",
       "      <td>71.171444</td>\n",
       "      <td>69.755132</td>\n",
       "      <td>70.481445</td>\n",
       "      <td>146266000</td>\n",
       "    </tr>\n",
       "    <tr>\n",
       "      <th>2019-12-30</th>\n",
       "      <td>70.578278</td>\n",
       "      <td>70.861543</td>\n",
       "      <td>69.053023</td>\n",
       "      <td>70.079543</td>\n",
       "      <td>144114400</td>\n",
       "    </tr>\n",
       "  </tbody>\n",
       "</table>\n",
       "<p>2515 rows × 5 columns</p>\n",
       "</div>"
      ],
      "text/plain": [
       "                Close       High        Low       Open     Volume\n",
       "Date                                                             \n",
       "2010-01-04   6.440332   6.455078   6.391279   6.422878  493729600\n",
       "2010-01-05   6.451466   6.487879   6.417459   6.458086  601904800\n",
       "2010-01-06   6.348847   6.477046   6.342227   6.451467  552160000\n",
       "2010-01-07   6.337110   6.379844   6.291067   6.372320  477131200\n",
       "2010-01-08   6.379242   6.379844   6.291369   6.328685  447610800\n",
       "...               ...        ...        ...        ...        ...\n",
       "2019-12-23  68.757660  68.818186  67.878820  67.917557   98572000\n",
       "2019-12-24  68.823036  68.973147  68.496201  68.924723   48478800\n",
       "2019-12-26  70.188492  70.205441  68.927130  68.956181   93121200\n",
       "2019-12-27  70.161865  71.171444  69.755132  70.481445  146266000\n",
       "2019-12-30  70.578278  70.861543  69.053023  70.079543  144114400\n",
       "\n",
       "[2515 rows x 5 columns]"
      ]
     },
     "execution_count": 22,
     "metadata": {},
     "output_type": "execute_result"
    }
   ],
   "source": [
    "aapl=(raw\n",
    "      .iloc[:,::2]\n",
    "      .pipe(fix_cols))\n",
    "\n",
    "aapl"
   ]
  },
  {
   "cell_type": "code",
   "execution_count": 24,
   "id": "e51a6a9d-0928-4fae-a422-87c36120b289",
   "metadata": {},
   "outputs": [
    {
     "data": {
      "text/html": [
       "<div>\n",
       "<style scoped>\n",
       "    .dataframe tbody tr th:only-of-type {\n",
       "        vertical-align: middle;\n",
       "    }\n",
       "\n",
       "    .dataframe tbody tr th {\n",
       "        vertical-align: top;\n",
       "    }\n",
       "\n",
       "    .dataframe thead th {\n",
       "        text-align: right;\n",
       "    }\n",
       "</style>\n",
       "<table border=\"1\" class=\"dataframe\">\n",
       "  <thead>\n",
       "    <tr style=\"text-align: right;\">\n",
       "      <th></th>\n",
       "      <th>Close</th>\n",
       "      <th>High</th>\n",
       "      <th>Low</th>\n",
       "      <th>Open</th>\n",
       "      <th>Volume</th>\n",
       "    </tr>\n",
       "    <tr>\n",
       "      <th>Date</th>\n",
       "      <th></th>\n",
       "      <th></th>\n",
       "      <th></th>\n",
       "      <th></th>\n",
       "      <th></th>\n",
       "    </tr>\n",
       "  </thead>\n",
       "  <tbody>\n",
       "    <tr>\n",
       "      <th>2010-01-04</th>\n",
       "      <td>NaN</td>\n",
       "      <td>NaN</td>\n",
       "      <td>NaN</td>\n",
       "      <td>NaN</td>\n",
       "      <td>NaN</td>\n",
       "    </tr>\n",
       "    <tr>\n",
       "      <th>2010-01-05</th>\n",
       "      <td>0.001729</td>\n",
       "      <td>5.081450e-03</td>\n",
       "      <td>0.004096</td>\n",
       "      <td>0.005482</td>\n",
       "      <td>0.219098</td>\n",
       "    </tr>\n",
       "    <tr>\n",
       "      <th>2010-01-06</th>\n",
       "      <td>-0.015906</td>\n",
       "      <td>-1.669673e-03</td>\n",
       "      <td>-0.011723</td>\n",
       "      <td>-0.001025</td>\n",
       "      <td>-0.082646</td>\n",
       "    </tr>\n",
       "    <tr>\n",
       "      <th>2010-01-07</th>\n",
       "      <td>-0.001849</td>\n",
       "      <td>-1.500726e-02</td>\n",
       "      <td>-0.008067</td>\n",
       "      <td>-0.012268</td>\n",
       "      <td>-0.135882</td>\n",
       "    </tr>\n",
       "    <tr>\n",
       "      <th>2010-01-08</th>\n",
       "      <td>0.006648</td>\n",
       "      <td>1.095766e-07</td>\n",
       "      <td>0.000048</td>\n",
       "      <td>-0.006848</td>\n",
       "      <td>-0.061871</td>\n",
       "    </tr>\n",
       "    <tr>\n",
       "      <th>...</th>\n",
       "      <td>...</td>\n",
       "      <td>...</td>\n",
       "      <td>...</td>\n",
       "      <td>...</td>\n",
       "      <td>...</td>\n",
       "    </tr>\n",
       "    <tr>\n",
       "      <th>2019-12-23</th>\n",
       "      <td>0.016318</td>\n",
       "      <td>5.660742e-03</td>\n",
       "      <td>0.006498</td>\n",
       "      <td>-0.006023</td>\n",
       "      <td>-0.642827</td>\n",
       "    </tr>\n",
       "    <tr>\n",
       "      <th>2019-12-24</th>\n",
       "      <td>0.000951</td>\n",
       "      <td>2.251747e-03</td>\n",
       "      <td>0.009095</td>\n",
       "      <td>0.014829</td>\n",
       "      <td>-0.508189</td>\n",
       "    </tr>\n",
       "    <tr>\n",
       "      <th>2019-12-26</th>\n",
       "      <td>0.019840</td>\n",
       "      <td>1.786628e-02</td>\n",
       "      <td>0.006291</td>\n",
       "      <td>0.000456</td>\n",
       "      <td>0.920864</td>\n",
       "    </tr>\n",
       "    <tr>\n",
       "      <th>2019-12-27</th>\n",
       "      <td>-0.000379</td>\n",
       "      <td>1.375966e-02</td>\n",
       "      <td>0.012013</td>\n",
       "      <td>0.022119</td>\n",
       "      <td>0.570706</td>\n",
       "    </tr>\n",
       "    <tr>\n",
       "      <th>2019-12-30</th>\n",
       "      <td>0.005935</td>\n",
       "      <td>-4.354289e-03</td>\n",
       "      <td>-0.010065</td>\n",
       "      <td>-0.005702</td>\n",
       "      <td>-0.014710</td>\n",
       "    </tr>\n",
       "  </tbody>\n",
       "</table>\n",
       "<p>2515 rows × 5 columns</p>\n",
       "</div>"
      ],
      "text/plain": [
       "               Close          High       Low      Open    Volume\n",
       "Date                                                            \n",
       "2010-01-04       NaN           NaN       NaN       NaN       NaN\n",
       "2010-01-05  0.001729  5.081450e-03  0.004096  0.005482  0.219098\n",
       "2010-01-06 -0.015906 -1.669673e-03 -0.011723 -0.001025 -0.082646\n",
       "2010-01-07 -0.001849 -1.500726e-02 -0.008067 -0.012268 -0.135882\n",
       "2010-01-08  0.006648  1.095766e-07  0.000048 -0.006848 -0.061871\n",
       "...              ...           ...       ...       ...       ...\n",
       "2019-12-23  0.016318  5.660742e-03  0.006498 -0.006023 -0.642827\n",
       "2019-12-24  0.000951  2.251747e-03  0.009095  0.014829 -0.508189\n",
       "2019-12-26  0.019840  1.786628e-02  0.006291  0.000456  0.920864\n",
       "2019-12-27 -0.000379  1.375966e-02  0.012013  0.022119  0.570706\n",
       "2019-12-30  0.005935 -4.354289e-03 -0.010065 -0.005702 -0.014710\n",
       "\n",
       "[2515 rows x 5 columns]"
      ]
     },
     "execution_count": 24,
     "metadata": {},
     "output_type": "execute_result"
    }
   ],
   "source": [
    "#Returns\n",
    "aapl.pct_change()"
   ]
  },
  {
   "cell_type": "code",
   "execution_count": 25,
   "id": "3f7c68a6-6dae-4de5-89c9-cf5fa01e0690",
   "metadata": {},
   "outputs": [
    {
     "data": {
      "text/plain": [
       "\u001b[1;31mSignature:\u001b[0m\n",
       "\u001b[0maapl\u001b[0m\u001b[1;33m.\u001b[0m\u001b[0mpct_change\u001b[0m\u001b[1;33m(\u001b[0m\u001b[1;33m\n",
       "\u001b[0m    \u001b[0mperiods\u001b[0m\u001b[1;33m:\u001b[0m \u001b[1;34m'int'\u001b[0m \u001b[1;33m=\u001b[0m \u001b[1;36m1\u001b[0m\u001b[1;33m,\u001b[0m\u001b[1;33m\n",
       "\u001b[0m    \u001b[0mfill_method\u001b[0m\u001b[1;33m:\u001b[0m \u001b[1;34m'FillnaOptions | None | lib.NoDefault'\u001b[0m \u001b[1;33m=\u001b[0m \u001b[1;33m<\u001b[0m\u001b[0mno_default\u001b[0m\u001b[1;33m>\u001b[0m\u001b[1;33m,\u001b[0m\u001b[1;33m\n",
       "\u001b[0m    \u001b[0mlimit\u001b[0m\u001b[1;33m:\u001b[0m \u001b[1;34m'int | None | lib.NoDefault'\u001b[0m \u001b[1;33m=\u001b[0m \u001b[1;33m<\u001b[0m\u001b[0mno_default\u001b[0m\u001b[1;33m>\u001b[0m\u001b[1;33m,\u001b[0m\u001b[1;33m\n",
       "\u001b[0m    \u001b[0mfreq\u001b[0m\u001b[1;33m=\u001b[0m\u001b[1;32mNone\u001b[0m\u001b[1;33m,\u001b[0m\u001b[1;33m\n",
       "\u001b[0m    \u001b[1;33m**\u001b[0m\u001b[0mkwargs\u001b[0m\u001b[1;33m,\u001b[0m\u001b[1;33m\n",
       "\u001b[0m\u001b[1;33m)\u001b[0m \u001b[1;33m->\u001b[0m \u001b[1;34m'Self'\u001b[0m\u001b[1;33m\u001b[0m\u001b[1;33m\u001b[0m\u001b[0m\n",
       "\u001b[1;31mDocstring:\u001b[0m\n",
       "Fractional change between the current and a prior element.\n",
       "\n",
       "Computes the fractional change from the immediately previous row by\n",
       "default. This is useful in comparing the fraction of change in a time\n",
       "series of elements.\n",
       "\n",
       ".. note::\n",
       "\n",
       "    Despite the name of this method, it calculates fractional change\n",
       "    (also known as per unit change or relative change) and not\n",
       "    percentage change. If you need the percentage change, multiply\n",
       "    these values by 100.\n",
       "\n",
       "Parameters\n",
       "----------\n",
       "periods : int, default 1\n",
       "    Periods to shift for forming percent change.\n",
       "fill_method : {'backfill', 'bfill', 'pad', 'ffill', None}, default 'pad'\n",
       "    How to handle NAs **before** computing percent changes.\n",
       "\n",
       "    .. deprecated:: 2.1\n",
       "        All options of `fill_method` are deprecated except `fill_method=None`.\n",
       "\n",
       "limit : int, default None\n",
       "    The number of consecutive NAs to fill before stopping.\n",
       "\n",
       "    .. deprecated:: 2.1\n",
       "\n",
       "freq : DateOffset, timedelta, or str, optional\n",
       "    Increment to use from time series API (e.g. 'ME' or BDay()).\n",
       "**kwargs\n",
       "    Additional keyword arguments are passed into\n",
       "    `DataFrame.shift` or `Series.shift`.\n",
       "\n",
       "Returns\n",
       "-------\n",
       "Series or DataFrame\n",
       "    The same type as the calling object.\n",
       "\n",
       "See Also\n",
       "--------\n",
       "Series.diff : Compute the difference of two elements in a Series.\n",
       "DataFrame.diff : Compute the difference of two elements in a DataFrame.\n",
       "Series.shift : Shift the index by some number of periods.\n",
       "DataFrame.shift : Shift the index by some number of periods.\n",
       "\n",
       "Examples\n",
       "--------\n",
       "**Series**\n",
       "\n",
       ">>> s = pd.Series([90, 91, 85])\n",
       ">>> s\n",
       "0    90\n",
       "1    91\n",
       "2    85\n",
       "dtype: int64\n",
       "\n",
       ">>> s.pct_change()\n",
       "0         NaN\n",
       "1    0.011111\n",
       "2   -0.065934\n",
       "dtype: float64\n",
       "\n",
       ">>> s.pct_change(periods=2)\n",
       "0         NaN\n",
       "1         NaN\n",
       "2   -0.055556\n",
       "dtype: float64\n",
       "\n",
       "See the percentage change in a Series where filling NAs with last\n",
       "valid observation forward to next valid.\n",
       "\n",
       ">>> s = pd.Series([90, 91, None, 85])\n",
       ">>> s\n",
       "0    90.0\n",
       "1    91.0\n",
       "2     NaN\n",
       "3    85.0\n",
       "dtype: float64\n",
       "\n",
       ">>> s.ffill().pct_change()\n",
       "0         NaN\n",
       "1    0.011111\n",
       "2    0.000000\n",
       "3   -0.065934\n",
       "dtype: float64\n",
       "\n",
       "**DataFrame**\n",
       "\n",
       "Percentage change in French franc, Deutsche Mark, and Italian lira from\n",
       "1980-01-01 to 1980-03-01.\n",
       "\n",
       ">>> df = pd.DataFrame({\n",
       "...     'FR': [4.0405, 4.0963, 4.3149],\n",
       "...     'GR': [1.7246, 1.7482, 1.8519],\n",
       "...     'IT': [804.74, 810.01, 860.13]},\n",
       "...     index=['1980-01-01', '1980-02-01', '1980-03-01'])\n",
       ">>> df\n",
       "                FR      GR      IT\n",
       "1980-01-01  4.0405  1.7246  804.74\n",
       "1980-02-01  4.0963  1.7482  810.01\n",
       "1980-03-01  4.3149  1.8519  860.13\n",
       "\n",
       ">>> df.pct_change()\n",
       "                  FR        GR        IT\n",
       "1980-01-01       NaN       NaN       NaN\n",
       "1980-02-01  0.013810  0.013684  0.006549\n",
       "1980-03-01  0.053365  0.059318  0.061876\n",
       "\n",
       "Percentage of change in GOOG and APPL stock volume. Shows computing\n",
       "the percentage change between columns.\n",
       "\n",
       ">>> df = pd.DataFrame({\n",
       "...     '2016': [1769950, 30586265],\n",
       "...     '2015': [1500923, 40912316],\n",
       "...     '2014': [1371819, 41403351]},\n",
       "...     index=['GOOG', 'APPL'])\n",
       ">>> df\n",
       "          2016      2015      2014\n",
       "GOOG   1769950   1500923   1371819\n",
       "APPL  30586265  40912316  41403351\n",
       "\n",
       ">>> df.pct_change(axis='columns', periods=-1)\n",
       "          2016      2015  2014\n",
       "GOOG  0.179241  0.094112   NaN\n",
       "APPL -0.252395 -0.011860   NaN\n",
       "\u001b[1;31mFile:\u001b[0m      d:\\python\\lib\\site-packages\\pandas\\core\\generic.py\n",
       "\u001b[1;31mType:\u001b[0m      method"
      ]
     },
     "metadata": {},
     "output_type": "display_data"
    }
   ],
   "source": [
    "aapl.pct_change?"
   ]
  },
  {
   "cell_type": "markdown",
   "id": "99f0a521-864a-461f-b355-183557a26f47",
   "metadata": {},
   "source": [
    "#### Plotting Returns"
   ]
  },
  {
   "cell_type": "code",
   "execution_count": 26,
   "id": "c01b601b-027b-4627-877b-da2e189f6de5",
   "metadata": {},
   "outputs": [
    {
     "data": {
      "text/plain": [
       "<Axes: xlabel='Date'>"
      ]
     },
     "execution_count": 26,
     "metadata": {},
     "output_type": "execute_result"
    },
    {
     "data": {
      "image/png": "[encoded data removed]",
      "text/plain": [
       "<Figure size 640x480 with 1 Axes>"
      ]
     },
     "metadata": {},
     "output_type": "display_data"
    }
   ],
   "source": [
    "# Plot Returns\n",
    "(aapl\n",
    " .pct_change()\n",
    " .Close\n",
    " .plot()\n",
    ")"
   ]
  },
  {
   "cell_type": "code",
   "execution_count": 27,
   "id": "65ec90b1-c37a-42e0-8f57-397ff3490711",
   "metadata": {},
   "outputs": [
    {
     "data": {
      "text/plain": [
       "<Axes: >"
      ]
     },
     "execution_count": 27,
     "metadata": {},
     "output_type": "execute_result"
    },
    {
     "data": {
      "image/png": "[encoded data removed]",
      "text/plain": [
       "<Figure size 640x480 with 1 Axes>"
      ]
     },
     "metadata": {},
     "output_type": "display_data"
    }
   ],
   "source": [
    "# Histogram of Returns\n",
    "(aapl\n",
    " .pct_change()\n",
    " .Close\n",
    " .hist()\n",
    ")"
   ]
  },
  {
   "cell_type": "code",
   "execution_count": 28,
   "id": "4d73a139-9cc8-4fd7-afb9-3766d1fd464a",
   "metadata": {},
   "outputs": [
    {
     "data": {
      "text/plain": [
       "<Axes: >"
      ]
     },
     "execution_count": 28,
     "metadata": {},
     "output_type": "execute_result"
    },
    {
     "data": {
      "image/png": "[encoded data removed]",
      "text/plain": [
       "<Figure size 640x480 with 1 Axes>"
      ]
     },
     "metadata": {},
     "output_type": "display_data"
    }
   ],
   "source": [
    "# Change bins\n",
    "(aapl\n",
    " .pct_change()\n",
    " .Close\n",
    " .hist(bins=30)\n",
    ")"
   ]
  },
  {
   "cell_type": "code",
   "execution_count": 29,
   "id": "a689a3ca-a0aa-45d1-aeab-152284050cba",
   "metadata": {},
   "outputs": [
    {
     "data": {
      "text/plain": [
       "<Axes: xlabel='Date'>"
      ]
     },
     "execution_count": 29,
     "metadata": {},
     "output_type": "execute_result"
    },
    {
     "data": {
      "image/png": "[encoded data removed]",
      "text/plain": [
       "<Figure size 640x480 with 1 Axes>"
      ]
     },
     "metadata": {},
     "output_type": "display_data"
    }
   ],
   "source": [
    "# Understanding plotting in Pandas is a huge lever\n",
    "# Bar Plot Returns\n",
    "(aapl\n",
    " .pct_change()\n",
    " .Close\n",
    " .iloc[-100:] #last 100 rows\n",
    " .plot.bar()\n",
    ")"
   ]
  },
  {
   "cell_type": "code",
   "execution_count": 30,
   "id": "6d42bdcb-9203-44f0-8e90-fe32b0a7ae78",
   "metadata": {},
   "outputs": [
    {
     "data": {
      "image/png": "[encoded data removed]",
      "text/plain": [
       "<Figure size 1000x400 with 1 Axes>"
      ]
     },
     "metadata": {},
     "output_type": "display_data"
    }
   ],
   "source": [
    "# Bar Plot of Returns\n",
    "# Sadly dates are broken with pandas bar plots\n",
    "# 1970s?\n",
    "fig, ax=plt.subplots(figsize=(10,4))\n",
    "(aapl\n",
    " .pct_change()\n",
    " .Close\n",
    " .iloc[-100:] #last 100 rows\n",
    " .plot.bar(ax=ax)\n",
    ")\n",
    "\n",
    "ax.xaxis.set_major_locator(dates.MonthLocator())\n",
    "ax.xaxis.set_major_formatter(dates.DateFormatter('%b-%y'))\n",
    "ax.xaxis.set_minor_locator(dates.DayLocator())"
   ]
  },
  {
   "cell_type": "markdown",
   "id": "4c07663b-adfd-4e95-a171-57f73669abeb",
   "metadata": {},
   "source": [
    "In the \"Plotting returns\" video, the instructor mentions a bug in Pandas related to bar plots. When you create a bar plot in Pandas, it converts the dates in the index to categorical values. This can cause issues with date formatting on the x-axis, making the plot less readable. To address this, the instructor suggests using Matplotlib directly for bar plots, as it handles date formatting correctly."
   ]
  },
  {
   "cell_type": "code",
   "execution_count": 31,
   "id": "4df005dd-895f-4db2-8415-653b3eee5158",
   "metadata": {},
   "outputs": [
    {
     "data": {
      "image/png": "[encoded data removed]",
      "text/plain": [
       "<Figure size 1000x400 with 1 Axes>"
      ]
     },
     "metadata": {},
     "output_type": "display_data"
    }
   ],
   "source": [
    "# Returns - using matplotlib\n",
    "def my_bar(ser, ax):\n",
    "    ax.bar(ser.index, ser)\n",
    "    ax.xaxis.set_major_locator(dates.MonthLocator())\n",
    "    ax.xaxis.set_major_formatter(dates.DateFormatter('%b-%y'))\n",
    "    ax.xaxis.set_minor_locator(dates.DayLocator())\n",
    "\n",
    "    return ser\n",
    "\n",
    "fig, ax=plt.subplots(figsize=(10,4))\n",
    "_ = (aapl\n",
    " .pct_change()\n",
    " .Close\n",
    " .iloc[-100:] #last 100 rows\n",
    " .pipe(my_bar,ax)\n",
    ")"
   ]
  },
  {
   "cell_type": "markdown",
   "id": "2f1ba6be-cb51-43cc-80b0-c30feb45989b",
   "metadata": {},
   "source": [
    "#### Cumulative Returns"
   ]
  },
  {
   "cell_type": "markdown",
   "id": "8b67ea34-3236-4270-891e-9ab4acb7fce6",
   "metadata": {},
   "source": [
    "Goal:\n",
    "- More complicated Pandas\n",
    "- Refactoring into a function\n",
    "- Explore source\n",
    "- Creating new columns with .assign\n",
    "- Illustrate lambda\n",
    "\n",
    "Cumulative Returns is the amount that investment has gained or lost over time:\n",
    "$$\\frac{\\text{current\\_price} - \\text{original\\_price}}{\\text{original\\_price}}$$\n"
   ]
  },
  {
   "cell_type": "code",
   "execution_count": 32,
   "id": "9c05c891-638b-452a-a9c1-d98ef92f121a",
   "metadata": {},
   "outputs": [
    {
     "data": {
      "text/plain": [
       "<Axes: xlabel='Date'>"
      ]
     },
     "execution_count": 32,
     "metadata": {},
     "output_type": "execute_result"
    },
    {
     "data": {
      "image/png": "[encoded data removed]",
      "text/plain": [
       "<Figure size 640x480 with 1 Axes>"
      ]
     },
     "metadata": {},
     "output_type": "display_data"
    }
   ],
   "source": [
    "(aapl\n",
    " .Close\n",
    " .plot()\n",
    ")"
   ]
  },
  {
   "cell_type": "code",
   "execution_count": 34,
   "id": "c6830e5b-2a63-4939-ba80-d4c1bd06a8c0",
   "metadata": {},
   "outputs": [
    {
     "name": "stderr",
     "output_type": "stream",
     "text": [
      "C:\\Users\\Admin\\AppData\\Local\\Temp\\ipykernel_26076\\2621645589.py:3: FutureWarning: Series.__getitem__ treating keys as positions is deprecated. In a future version, integer keys will always be treated as labels (consistent with DataFrame behavior). To access a value by position, use `ser.iloc[pos]`\n",
      "  .sub(aapl.Close[0])\n",
      "C:\\Users\\Admin\\AppData\\Local\\Temp\\ipykernel_26076\\2621645589.py:4: FutureWarning: Series.__getitem__ treating keys as positions is deprecated. In a future version, integer keys will always be treated as labels (consistent with DataFrame behavior). To access a value by position, use `ser.iloc[pos]`\n",
      "  .div(aapl.Close[0])\n"
     ]
    },
    {
     "data": {
      "text/plain": [
       "<Axes: xlabel='Date'>"
      ]
     },
     "execution_count": 34,
     "metadata": {},
     "output_type": "execute_result"
    },
    {
     "data": {
      "image/png": "[encoded data removed]",
      "text/plain": [
       "<Figure size 640x480 with 1 Axes>"
      ]
     },
     "metadata": {},
     "output_type": "display_data"
    }
   ],
   "source": [
    "(aapl\n",
    " .Close\n",
    " .sub(aapl.Close[0])\n",
    " .div(aapl.Close[0])\n",
    " .plot()\n",
    ")"
   ]
  },
  {
   "cell_type": "code",
   "execution_count": 35,
   "id": "1c0d4713-2f10-46d2-9c7a-a0796f15c03a",
   "metadata": {},
   "outputs": [
    {
     "data": {
      "text/plain": [
       "<Axes: xlabel='Date'>"
      ]
     },
     "execution_count": 35,
     "metadata": {},
     "output_type": "execute_result"
    },
    {
     "data": {
      "image/png": "[encoded data removed]",
      "text/plain": [
       "<Figure size 640x480 with 1 Axes>"
      ]
     },
     "metadata": {},
     "output_type": "display_data"
    }
   ],
   "source": [
    "# alternate calculation\n",
    "(aapl\n",
    " .Close\n",
    " .pct_change()\n",
    " .add(1)\n",
    " .cumprod()\n",
    " .sub(1)\n",
    " .plot()\n",
    ")"
   ]
  },
  {
   "cell_type": "code",
   "execution_count": 36,
   "id": "e572ba62-4397-4b12-a1e2-8a631c5d7bd6",
   "metadata": {},
   "outputs": [
    {
     "data": {
      "text/plain": [
       "\u001b[1;31mSignature:\u001b[0m\n",
       "\u001b[0maapl\u001b[0m\u001b[1;33m.\u001b[0m\u001b[0mcumprod\u001b[0m\u001b[1;33m(\u001b[0m\u001b[1;33m\n",
       "\u001b[0m    \u001b[0maxis\u001b[0m\u001b[1;33m:\u001b[0m \u001b[1;34m'Axis | None'\u001b[0m \u001b[1;33m=\u001b[0m \u001b[1;32mNone\u001b[0m\u001b[1;33m,\u001b[0m\u001b[1;33m\n",
       "\u001b[0m    \u001b[0mskipna\u001b[0m\u001b[1;33m:\u001b[0m \u001b[1;34m'bool'\u001b[0m \u001b[1;33m=\u001b[0m \u001b[1;32mTrue\u001b[0m\u001b[1;33m,\u001b[0m\u001b[1;33m\n",
       "\u001b[0m    \u001b[1;33m*\u001b[0m\u001b[0margs\u001b[0m\u001b[1;33m,\u001b[0m\u001b[1;33m\n",
       "\u001b[0m    \u001b[1;33m**\u001b[0m\u001b[0mkwargs\u001b[0m\u001b[1;33m,\u001b[0m\u001b[1;33m\n",
       "\u001b[0m\u001b[1;33m)\u001b[0m\u001b[1;33m\u001b[0m\u001b[1;33m\u001b[0m\u001b[0m\n",
       "\u001b[1;31mDocstring:\u001b[0m\n",
       "Return cumulative product over a DataFrame or Series axis.\n",
       "\n",
       "Returns a DataFrame or Series of the same size containing the cumulative\n",
       "product.\n",
       "\n",
       "Parameters\n",
       "----------\n",
       "axis : {0 or 'index', 1 or 'columns'}, default 0\n",
       "    The index or the name of the axis. 0 is equivalent to None or 'index'.\n",
       "    For `Series` this parameter is unused and defaults to 0.\n",
       "skipna : bool, default True\n",
       "    Exclude NA/null values. If an entire row/column is NA, the result\n",
       "    will be NA.\n",
       "*args, **kwargs\n",
       "    Additional keywords have no effect but might be accepted for\n",
       "    compatibility with NumPy.\n",
       "\n",
       "Returns\n",
       "-------\n",
       "Series or DataFrame\n",
       "    Return cumulative product of Series or DataFrame.\n",
       "\n",
       "See Also\n",
       "--------\n",
       "core.window.expanding.Expanding.prod : Similar functionality\n",
       "    but ignores ``NaN`` values.\n",
       "DataFrame.prod : Return the product over\n",
       "    DataFrame axis.\n",
       "DataFrame.cummax : Return cumulative maximum over DataFrame axis.\n",
       "DataFrame.cummin : Return cumulative minimum over DataFrame axis.\n",
       "DataFrame.cumsum : Return cumulative sum over DataFrame axis.\n",
       "DataFrame.cumprod : Return cumulative product over DataFrame axis.\n",
       "\n",
       "Examples\n",
       "--------\n",
       "**Series**\n",
       "\n",
       ">>> s = pd.Series([2, np.nan, 5, -1, 0])\n",
       ">>> s\n",
       "0    2.0\n",
       "1    NaN\n",
       "2    5.0\n",
       "3   -1.0\n",
       "4    0.0\n",
       "dtype: float64\n",
       "\n",
       "By default, NA values are ignored.\n",
       "\n",
       ">>> s.cumprod()\n",
       "0     2.0\n",
       "1     NaN\n",
       "2    10.0\n",
       "3   -10.0\n",
       "4    -0.0\n",
       "dtype: float64\n",
       "\n",
       "To include NA values in the operation, use ``skipna=False``\n",
       "\n",
       ">>> s.cumprod(skipna=False)\n",
       "0    2.0\n",
       "1    NaN\n",
       "2    NaN\n",
       "3    NaN\n",
       "4    NaN\n",
       "dtype: float64\n",
       "\n",
       "**DataFrame**\n",
       "\n",
       ">>> df = pd.DataFrame([[2.0, 1.0],\n",
       "...                    [3.0, np.nan],\n",
       "...                    [1.0, 0.0]],\n",
       "...                   columns=list('AB'))\n",
       ">>> df\n",
       "     A    B\n",
       "0  2.0  1.0\n",
       "1  3.0  NaN\n",
       "2  1.0  0.0\n",
       "\n",
       "By default, iterates over rows and finds the product\n",
       "in each column. This is equivalent to ``axis=None`` or ``axis='index'``.\n",
       "\n",
       ">>> df.cumprod()\n",
       "     A    B\n",
       "0  2.0  1.0\n",
       "1  6.0  NaN\n",
       "2  6.0  0.0\n",
       "\n",
       "To iterate over columns and find the product in each row,\n",
       "use ``axis=1``\n",
       "\n",
       ">>> df.cumprod(axis=1)\n",
       "     A    B\n",
       "0  2.0  2.0\n",
       "1  3.0  NaN\n",
       "2  1.0  0.0\n",
       "\u001b[1;31mSource:\u001b[0m   \n",
       "    \u001b[1;33m@\u001b[0m\u001b[0mdoc\u001b[0m\u001b[1;33m(\u001b[0m\u001b[0mmake_doc\u001b[0m\u001b[1;33m(\u001b[0m\u001b[1;34m\"cumprod\"\u001b[0m\u001b[1;33m,\u001b[0m \u001b[1;36m2\u001b[0m\u001b[1;33m)\u001b[0m\u001b[1;33m)\u001b[0m\u001b[1;33m\n",
       "\u001b[0m    \u001b[1;32mdef\u001b[0m \u001b[0mcumprod\u001b[0m\u001b[1;33m(\u001b[0m\u001b[0mself\u001b[0m\u001b[1;33m,\u001b[0m \u001b[0maxis\u001b[0m\u001b[1;33m:\u001b[0m \u001b[0mAxis\u001b[0m \u001b[1;33m|\u001b[0m \u001b[1;32mNone\u001b[0m \u001b[1;33m=\u001b[0m \u001b[1;32mNone\u001b[0m\u001b[1;33m,\u001b[0m \u001b[0mskipna\u001b[0m\u001b[1;33m:\u001b[0m \u001b[0mbool\u001b[0m \u001b[1;33m=\u001b[0m \u001b[1;32mTrue\u001b[0m\u001b[1;33m,\u001b[0m \u001b[1;33m*\u001b[0m\u001b[0margs\u001b[0m\u001b[1;33m,\u001b[0m \u001b[1;33m**\u001b[0m\u001b[0mkwargs\u001b[0m\u001b[1;33m)\u001b[0m\u001b[1;33m:\u001b[0m\u001b[1;33m\n",
       "\u001b[0m        \u001b[1;32mreturn\u001b[0m \u001b[0mNDFrame\u001b[0m\u001b[1;33m.\u001b[0m\u001b[0mcumprod\u001b[0m\u001b[1;33m(\u001b[0m\u001b[0mself\u001b[0m\u001b[1;33m,\u001b[0m \u001b[0maxis\u001b[0m\u001b[1;33m,\u001b[0m \u001b[0mskipna\u001b[0m\u001b[1;33m,\u001b[0m \u001b[1;33m*\u001b[0m\u001b[0margs\u001b[0m\u001b[1;33m,\u001b[0m \u001b[1;33m**\u001b[0m\u001b[0mkwargs\u001b[0m\u001b[1;33m)\u001b[0m\u001b[1;33m\u001b[0m\u001b[1;33m\u001b[0m\u001b[0m\n",
       "\u001b[1;31mFile:\u001b[0m      d:\\python\\lib\\site-packages\\pandas\\core\\frame.py\n",
       "\u001b[1;31mType:\u001b[0m      method"
      ]
     },
     "metadata": {},
     "output_type": "display_data"
    }
   ],
   "source": [
    "aapl.cumprod??"
   ]
  },
  {
   "cell_type": "code",
   "execution_count": 37,
   "id": "34fc6cfe-8cbe-4e6d-9805-44ada44ac3c4",
   "metadata": {},
   "outputs": [
    {
     "data": {
      "text/plain": [
       "\u001b[1;31mSignature:\u001b[0m\n",
       "\u001b[0mpd\u001b[0m\u001b[1;33m.\u001b[0m\u001b[0mcore\u001b[0m\u001b[1;33m.\u001b[0m\u001b[0mgeneric\u001b[0m\u001b[1;33m.\u001b[0m\u001b[0mNDFrame\u001b[0m\u001b[1;33m.\u001b[0m\u001b[0mcumprod\u001b[0m\u001b[1;33m(\u001b[0m\u001b[1;33m\n",
       "\u001b[0m    \u001b[0mself\u001b[0m\u001b[1;33m,\u001b[0m\u001b[1;33m\n",
       "\u001b[0m    \u001b[0maxis\u001b[0m\u001b[1;33m:\u001b[0m \u001b[1;34m'Axis | None'\u001b[0m \u001b[1;33m=\u001b[0m \u001b[1;32mNone\u001b[0m\u001b[1;33m,\u001b[0m\u001b[1;33m\n",
       "\u001b[0m    \u001b[0mskipna\u001b[0m\u001b[1;33m:\u001b[0m \u001b[1;34m'bool_t'\u001b[0m \u001b[1;33m=\u001b[0m \u001b[1;32mTrue\u001b[0m\u001b[1;33m,\u001b[0m\u001b[1;33m\n",
       "\u001b[0m    \u001b[1;33m*\u001b[0m\u001b[0margs\u001b[0m\u001b[1;33m,\u001b[0m\u001b[1;33m\n",
       "\u001b[0m    \u001b[1;33m**\u001b[0m\u001b[0mkwargs\u001b[0m\u001b[1;33m,\u001b[0m\u001b[1;33m\n",
       "\u001b[0m\u001b[1;33m)\u001b[0m\u001b[1;33m\u001b[0m\u001b[1;33m\u001b[0m\u001b[0m\n",
       "\u001b[1;31mDocstring:\u001b[0m <no docstring>\n",
       "\u001b[1;31mSource:\u001b[0m   \n",
       "    \u001b[1;32mdef\u001b[0m \u001b[0mcumprod\u001b[0m\u001b[1;33m(\u001b[0m\u001b[0mself\u001b[0m\u001b[1;33m,\u001b[0m \u001b[0maxis\u001b[0m\u001b[1;33m:\u001b[0m \u001b[0mAxis\u001b[0m \u001b[1;33m|\u001b[0m \u001b[1;32mNone\u001b[0m \u001b[1;33m=\u001b[0m \u001b[1;32mNone\u001b[0m\u001b[1;33m,\u001b[0m \u001b[0mskipna\u001b[0m\u001b[1;33m:\u001b[0m \u001b[0mbool_t\u001b[0m \u001b[1;33m=\u001b[0m \u001b[1;32mTrue\u001b[0m\u001b[1;33m,\u001b[0m \u001b[1;33m*\u001b[0m\u001b[0margs\u001b[0m\u001b[1;33m,\u001b[0m \u001b[1;33m**\u001b[0m\u001b[0mkwargs\u001b[0m\u001b[1;33m)\u001b[0m\u001b[1;33m:\u001b[0m\u001b[1;33m\n",
       "\u001b[0m        \u001b[1;32mreturn\u001b[0m \u001b[0mself\u001b[0m\u001b[1;33m.\u001b[0m\u001b[0m_accum_func\u001b[0m\u001b[1;33m(\u001b[0m\u001b[1;34m\"cumprod\"\u001b[0m\u001b[1;33m,\u001b[0m \u001b[0mnp\u001b[0m\u001b[1;33m.\u001b[0m\u001b[0mcumprod\u001b[0m\u001b[1;33m,\u001b[0m \u001b[0maxis\u001b[0m\u001b[1;33m,\u001b[0m \u001b[0mskipna\u001b[0m\u001b[1;33m,\u001b[0m \u001b[1;33m*\u001b[0m\u001b[0margs\u001b[0m\u001b[1;33m,\u001b[0m \u001b[1;33m**\u001b[0m\u001b[0mkwargs\u001b[0m\u001b[1;33m)\u001b[0m\u001b[1;33m\u001b[0m\u001b[1;33m\u001b[0m\u001b[0m\n",
       "\u001b[1;31mFile:\u001b[0m      d:\\python\\lib\\site-packages\\pandas\\core\\generic.py\n",
       "\u001b[1;31mType:\u001b[0m      function"
      ]
     },
     "metadata": {},
     "output_type": "display_data"
    }
   ],
   "source": [
    "pd.core.generic.NDFrame.cumprod??"
   ]
  },
  {
   "cell_type": "code",
   "execution_count": 38,
   "id": "60827171-7429-4cb0-80c2-a6097642fb27",
   "metadata": {},
   "outputs": [
    {
     "data": {
      "text/plain": [
       "\u001b[1;31mSignature:\u001b[0m       \u001b[0mnp\u001b[0m\u001b[1;33m.\u001b[0m\u001b[0mcumprod\u001b[0m\u001b[1;33m(\u001b[0m\u001b[0ma\u001b[0m\u001b[1;33m,\u001b[0m \u001b[0maxis\u001b[0m\u001b[1;33m=\u001b[0m\u001b[1;32mNone\u001b[0m\u001b[1;33m,\u001b[0m \u001b[0mdtype\u001b[0m\u001b[1;33m=\u001b[0m\u001b[1;32mNone\u001b[0m\u001b[1;33m,\u001b[0m \u001b[0mout\u001b[0m\u001b[1;33m=\u001b[0m\u001b[1;32mNone\u001b[0m\u001b[1;33m)\u001b[0m\u001b[1;33m\u001b[0m\u001b[1;33m\u001b[0m\u001b[0m\n",
       "\u001b[1;31mCall signature:\u001b[0m  \u001b[0mnp\u001b[0m\u001b[1;33m.\u001b[0m\u001b[0mcumprod\u001b[0m\u001b[1;33m(\u001b[0m\u001b[1;33m*\u001b[0m\u001b[0margs\u001b[0m\u001b[1;33m,\u001b[0m \u001b[1;33m**\u001b[0m\u001b[0mkwargs\u001b[0m\u001b[1;33m)\u001b[0m\u001b[1;33m\u001b[0m\u001b[1;33m\u001b[0m\u001b[0m\n",
       "\u001b[1;31mType:\u001b[0m            _ArrayFunctionDispatcher\n",
       "\u001b[1;31mString form:\u001b[0m     <function cumprod at 0x000001DD3860DBC0>\n",
       "\u001b[1;31mFile:\u001b[0m            d:\\python\\lib\\site-packages\\numpy\\core\\fromnumeric.py\n",
       "\u001b[1;31mSource:\u001b[0m         \n",
       "\u001b[1;33m@\u001b[0m\u001b[0marray_function_dispatch\u001b[0m\u001b[1;33m(\u001b[0m\u001b[0m_cumprod_dispatcher\u001b[0m\u001b[1;33m)\u001b[0m\u001b[1;33m\n",
       "\u001b[0m\u001b[1;32mdef\u001b[0m \u001b[0mcumprod\u001b[0m\u001b[1;33m(\u001b[0m\u001b[0ma\u001b[0m\u001b[1;33m,\u001b[0m \u001b[0maxis\u001b[0m\u001b[1;33m=\u001b[0m\u001b[1;32mNone\u001b[0m\u001b[1;33m,\u001b[0m \u001b[0mdtype\u001b[0m\u001b[1;33m=\u001b[0m\u001b[1;32mNone\u001b[0m\u001b[1;33m,\u001b[0m \u001b[0mout\u001b[0m\u001b[1;33m=\u001b[0m\u001b[1;32mNone\u001b[0m\u001b[1;33m)\u001b[0m\u001b[1;33m:\u001b[0m\u001b[1;33m\n",
       "\u001b[0m    \u001b[1;34m\"\"\"\n",
       "    Return the cumulative product of elements along a given axis.\n",
       "\n",
       "    Parameters\n",
       "    ----------\n",
       "    a : array_like\n",
       "        Input array.\n",
       "    axis : int, optional\n",
       "        Axis along which the cumulative product is computed.  By default\n",
       "        the input is flattened.\n",
       "    dtype : dtype, optional\n",
       "        Type of the returned array, as well as of the accumulator in which\n",
       "        the elements are multiplied.  If *dtype* is not specified, it\n",
       "        defaults to the dtype of `a`, unless `a` has an integer dtype with\n",
       "        a precision less than that of the default platform integer.  In\n",
       "        that case, the default platform integer is used instead.\n",
       "    out : ndarray, optional\n",
       "        Alternative output array in which to place the result. It must\n",
       "        have the same shape and buffer length as the expected output\n",
       "        but the type of the resulting values will be cast if necessary.\n",
       "\n",
       "    Returns\n",
       "    -------\n",
       "    cumprod : ndarray\n",
       "        A new array holding the result is returned unless `out` is\n",
       "        specified, in which case a reference to out is returned.\n",
       "\n",
       "    See Also\n",
       "    --------\n",
       "    :ref:`ufuncs-output-type`\n",
       "\n",
       "    Notes\n",
       "    -----\n",
       "    Arithmetic is modular when using integer types, and no error is\n",
       "    raised on overflow.\n",
       "\n",
       "    Examples\n",
       "    --------\n",
       "    >>> a = np.array([1,2,3])\n",
       "    >>> np.cumprod(a) # intermediate results 1, 1*2\n",
       "    ...               # total product 1*2*3 = 6\n",
       "    array([1, 2, 6])\n",
       "    >>> a = np.array([[1, 2, 3], [4, 5, 6]])\n",
       "    >>> np.cumprod(a, dtype=float) # specify type of output\n",
       "    array([   1.,    2.,    6.,   24.,  120.,  720.])\n",
       "\n",
       "    The cumulative product for each column (i.e., over the rows) of `a`:\n",
       "\n",
       "    >>> np.cumprod(a, axis=0)\n",
       "    array([[ 1,  2,  3],\n",
       "           [ 4, 10, 18]])\n",
       "\n",
       "    The cumulative product for each row (i.e. over the columns) of `a`:\n",
       "\n",
       "    >>> np.cumprod(a,axis=1)\n",
       "    array([[  1,   2,   6],\n",
       "           [  4,  20, 120]])\n",
       "\n",
       "    \"\"\"\u001b[0m\u001b[1;33m\n",
       "\u001b[0m    \u001b[1;32mreturn\u001b[0m \u001b[0m_wrapfunc\u001b[0m\u001b[1;33m(\u001b[0m\u001b[0ma\u001b[0m\u001b[1;33m,\u001b[0m \u001b[1;34m'cumprod'\u001b[0m\u001b[1;33m,\u001b[0m \u001b[0maxis\u001b[0m\u001b[1;33m=\u001b[0m\u001b[0maxis\u001b[0m\u001b[1;33m,\u001b[0m \u001b[0mdtype\u001b[0m\u001b[1;33m=\u001b[0m\u001b[0mdtype\u001b[0m\u001b[1;33m,\u001b[0m \u001b[0mout\u001b[0m\u001b[1;33m=\u001b[0m\u001b[0mout\u001b[0m\u001b[1;33m)\u001b[0m\u001b[1;33m\u001b[0m\u001b[1;33m\u001b[0m\u001b[0m\n",
       "\u001b[1;31mClass docstring:\u001b[0m\n",
       "Class to wrap functions with checks for __array_function__ overrides.\n",
       "\n",
       "All arguments are required, and can only be passed by position.\n",
       "\n",
       "Parameters\n",
       "----------\n",
       "dispatcher : function or None\n",
       "    The dispatcher function that returns a single sequence-like object\n",
       "    of all arguments relevant.  It must have the same signature (except\n",
       "    the default values) as the actual implementation.\n",
       "    If ``None``, this is a ``like=`` dispatcher and the\n",
       "    ``_ArrayFunctionDispatcher`` must be called with ``like`` as the\n",
       "    first (additional and positional) argument.\n",
       "implementation : function\n",
       "    Function that implements the operation on NumPy arrays without\n",
       "    overrides.  Arguments passed calling the ``_ArrayFunctionDispatcher``\n",
       "    will be forwarded to this (and the ``dispatcher``) as if using\n",
       "    ``*args, **kwargs``.\n",
       "\n",
       "Attributes\n",
       "----------\n",
       "_implementation : function\n",
       "    The original implementation passed in."
      ]
     },
     "metadata": {},
     "output_type": "display_data"
    }
   ],
   "source": [
    "np.cumprod??"
   ]
  },
  {
   "cell_type": "markdown",
   "id": "3a4935c9-f6de-4435-8236-12ece550a121",
   "metadata": {},
   "source": [
    "In Jupyter Notebook, using double question marks (??) is a handy way to pull up the source code of a function or method. Here's how it works:\n",
    "\n",
    "When you type function_name?? and run the cell, Jupyter Notebook will display the source code of that function.\n",
    "This is useful for understanding how a function works internally, especially if you want to see the implementation details.\n",
    "\n",
    "For example, if you want to see the source code for the cumprod method in pandas, you would type:\n",
    "python\n",
    "pd.Series.cumprod??\n",
    "\n",
    "This will show you the actual code behind the cumprod method, helping you understand its inner workings.\n"
   ]
  },
  {
   "cell_type": "code",
   "execution_count": 40,
   "id": "33c67c52-764b-458f-b975-0352278453d9",
   "metadata": {},
   "outputs": [
    {
     "name": "stderr",
     "output_type": "stream",
     "text": [
      "C:\\Users\\Admin\\AppData\\Local\\Temp\\ipykernel_26076\\2246289962.py:5: FutureWarning: Series.__getitem__ treating keys as positions is deprecated. In a future version, integer keys will always be treated as labels (consistent with DataFrame behavior). To access a value by position, use `ser.iloc[pos]`\n",
      "  .sub(ser[0])\n",
      "C:\\Users\\Admin\\AppData\\Local\\Temp\\ipykernel_26076\\2246289962.py:6: FutureWarning: Series.__getitem__ treating keys as positions is deprecated. In a future version, integer keys will always be treated as labels (consistent with DataFrame behavior). To access a value by position, use `ser.iloc[pos]`\n",
      "  .div(ser[0])\n"
     ]
    },
    {
     "data": {
      "text/plain": [
       "<Axes: xlabel='Date'>"
      ]
     },
     "execution_count": 40,
     "metadata": {},
     "output_type": "execute_result"
    },
    {
     "data": {
      "image/png": "[encoded data removed]",
      "text/plain": [
       "<Figure size 640x480 with 1 Axes>"
      ]
     },
     "metadata": {},
     "output_type": "display_data"
    }
   ],
   "source": [
    "# create a function for calculating\n",
    "def calc_cum_returns(df,col):\n",
    "    ser=df[col]\n",
    "    return (ser\n",
    "            .sub(ser[0])\n",
    "            .div(ser[0])\n",
    "           )\n",
    "\n",
    "(aapl\n",
    " .pipe(calc_cum_returns, 'Close')\n",
    " .plot()\n",
    ")"
   ]
  },
  {
   "cell_type": "code",
   "execution_count": 41,
   "id": "7f2b303b-29d0-47b3-9c3f-a7fd268ae180",
   "metadata": {},
   "outputs": [
    {
     "name": "stderr",
     "output_type": "stream",
     "text": [
      "C:\\Users\\Admin\\AppData\\Local\\Temp\\ipykernel_26076\\2246289962.py:5: FutureWarning: Series.__getitem__ treating keys as positions is deprecated. In a future version, integer keys will always be treated as labels (consistent with DataFrame behavior). To access a value by position, use `ser.iloc[pos]`\n",
      "  .sub(ser[0])\n",
      "C:\\Users\\Admin\\AppData\\Local\\Temp\\ipykernel_26076\\2246289962.py:6: FutureWarning: Series.__getitem__ treating keys as positions is deprecated. In a future version, integer keys will always be treated as labels (consistent with DataFrame behavior). To access a value by position, use `ser.iloc[pos]`\n",
      "  .div(ser[0])\n"
     ]
    },
    {
     "data": {
      "text/plain": [
       "Date\n",
       "2010-01-04    0.000000\n",
       "2010-01-05    0.001729\n",
       "2010-01-06   -0.014205\n",
       "2010-01-07   -0.016027\n",
       "2010-01-08   -0.009486\n",
       "                ...   \n",
       "2019-12-23    9.676105\n",
       "2019-12-24    9.686256\n",
       "2019-12-26    9.898272\n",
       "2019-12-27    9.894138\n",
       "2019-12-30    9.958795\n",
       "Name: Close, Length: 2515, dtype: float64"
      ]
     },
     "execution_count": 41,
     "metadata": {},
     "output_type": "execute_result"
    }
   ],
   "source": [
    "def get_returns(df):\n",
    "    return calc_cum_returns(df,'Close')\n",
    "\n",
    "get_returns(aapl)"
   ]
  },
  {
   "cell_type": "code",
   "execution_count": 42,
   "id": "f029751e-f48e-4889-a42c-5a708ffd6e1e",
   "metadata": {},
   "outputs": [
    {
     "name": "stderr",
     "output_type": "stream",
     "text": [
      "C:\\Users\\Admin\\AppData\\Local\\Temp\\ipykernel_26076\\2246289962.py:5: FutureWarning: Series.__getitem__ treating keys as positions is deprecated. In a future version, integer keys will always be treated as labels (consistent with DataFrame behavior). To access a value by position, use `ser.iloc[pos]`\n",
      "  .sub(ser[0])\n",
      "C:\\Users\\Admin\\AppData\\Local\\Temp\\ipykernel_26076\\2246289962.py:6: FutureWarning: Series.__getitem__ treating keys as positions is deprecated. In a future version, integer keys will always be treated as labels (consistent with DataFrame behavior). To access a value by position, use `ser.iloc[pos]`\n",
      "  .div(ser[0])\n"
     ]
    },
    {
     "data": {
      "text/plain": [
       "Date\n",
       "2010-01-04    0.000000\n",
       "2010-01-05    0.001729\n",
       "2010-01-06   -0.014205\n",
       "2010-01-07   -0.016027\n",
       "2010-01-08   -0.009486\n",
       "                ...   \n",
       "2019-12-23    9.676105\n",
       "2019-12-24    9.686256\n",
       "2019-12-26    9.898272\n",
       "2019-12-27    9.894138\n",
       "2019-12-30    9.958795\n",
       "Name: Close, Length: 2515, dtype: float64"
      ]
     },
     "execution_count": 42,
     "metadata": {},
     "output_type": "execute_result"
    }
   ],
   "source": [
    "# Lambda is an \"anonymous function\"\n",
    "\n",
    "(lambda df: get_returns(df))(aapl)"
   ]
  },
  {
   "cell_type": "code",
   "execution_count": 43,
   "id": "6203181f-dd8f-4d3e-874d-7ef3cf83210b",
   "metadata": {},
   "outputs": [
    {
     "name": "stderr",
     "output_type": "stream",
     "text": [
      "C:\\Users\\Admin\\AppData\\Local\\Temp\\ipykernel_26076\\2246289962.py:5: FutureWarning: Series.__getitem__ treating keys as positions is deprecated. In a future version, integer keys will always be treated as labels (consistent with DataFrame behavior). To access a value by position, use `ser.iloc[pos]`\n",
      "  .sub(ser[0])\n",
      "C:\\Users\\Admin\\AppData\\Local\\Temp\\ipykernel_26076\\2246289962.py:6: FutureWarning: Series.__getitem__ treating keys as positions is deprecated. In a future version, integer keys will always be treated as labels (consistent with DataFrame behavior). To access a value by position, use `ser.iloc[pos]`\n",
      "  .div(ser[0])\n"
     ]
    },
    {
     "data": {
      "text/html": [
       "<div>\n",
       "<style scoped>\n",
       "    .dataframe tbody tr th:only-of-type {\n",
       "        vertical-align: middle;\n",
       "    }\n",
       "\n",
       "    .dataframe tbody tr th {\n",
       "        vertical-align: top;\n",
       "    }\n",
       "\n",
       "    .dataframe thead th {\n",
       "        text-align: right;\n",
       "    }\n",
       "</style>\n",
       "<table border=\"1\" class=\"dataframe\">\n",
       "  <thead>\n",
       "    <tr style=\"text-align: right;\">\n",
       "      <th></th>\n",
       "      <th>Close</th>\n",
       "      <th>High</th>\n",
       "      <th>Low</th>\n",
       "      <th>Open</th>\n",
       "      <th>Volume</th>\n",
       "      <th>cum_returns</th>\n",
       "    </tr>\n",
       "    <tr>\n",
       "      <th>Date</th>\n",
       "      <th></th>\n",
       "      <th></th>\n",
       "      <th></th>\n",
       "      <th></th>\n",
       "      <th></th>\n",
       "      <th></th>\n",
       "    </tr>\n",
       "  </thead>\n",
       "  <tbody>\n",
       "    <tr>\n",
       "      <th>2010-01-04</th>\n",
       "      <td>6.440332</td>\n",
       "      <td>6.455078</td>\n",
       "      <td>6.391279</td>\n",
       "      <td>6.422878</td>\n",
       "      <td>493729600</td>\n",
       "      <td>0.000000</td>\n",
       "    </tr>\n",
       "    <tr>\n",
       "      <th>2010-01-05</th>\n",
       "      <td>6.451466</td>\n",
       "      <td>6.487879</td>\n",
       "      <td>6.417459</td>\n",
       "      <td>6.458086</td>\n",
       "      <td>601904800</td>\n",
       "      <td>0.001729</td>\n",
       "    </tr>\n",
       "    <tr>\n",
       "      <th>2010-01-06</th>\n",
       "      <td>6.348847</td>\n",
       "      <td>6.477046</td>\n",
       "      <td>6.342227</td>\n",
       "      <td>6.451467</td>\n",
       "      <td>552160000</td>\n",
       "      <td>-0.014205</td>\n",
       "    </tr>\n",
       "    <tr>\n",
       "      <th>2010-01-07</th>\n",
       "      <td>6.337110</td>\n",
       "      <td>6.379844</td>\n",
       "      <td>6.291067</td>\n",
       "      <td>6.372320</td>\n",
       "      <td>477131200</td>\n",
       "      <td>-0.016027</td>\n",
       "    </tr>\n",
       "    <tr>\n",
       "      <th>2010-01-08</th>\n",
       "      <td>6.379242</td>\n",
       "      <td>6.379844</td>\n",
       "      <td>6.291369</td>\n",
       "      <td>6.328685</td>\n",
       "      <td>447610800</td>\n",
       "      <td>-0.009486</td>\n",
       "    </tr>\n",
       "    <tr>\n",
       "      <th>...</th>\n",
       "      <td>...</td>\n",
       "      <td>...</td>\n",
       "      <td>...</td>\n",
       "      <td>...</td>\n",
       "      <td>...</td>\n",
       "      <td>...</td>\n",
       "    </tr>\n",
       "    <tr>\n",
       "      <th>2019-12-23</th>\n",
       "      <td>68.757660</td>\n",
       "      <td>68.818186</td>\n",
       "      <td>67.878820</td>\n",
       "      <td>67.917557</td>\n",
       "      <td>98572000</td>\n",
       "      <td>9.676105</td>\n",
       "    </tr>\n",
       "    <tr>\n",
       "      <th>2019-12-24</th>\n",
       "      <td>68.823036</td>\n",
       "      <td>68.973147</td>\n",
       "      <td>68.496201</td>\n",
       "      <td>68.924723</td>\n",
       "      <td>48478800</td>\n",
       "      <td>9.686256</td>\n",
       "    </tr>\n",
       "    <tr>\n",
       "      <th>2019-12-26</th>\n",
       "      <td>70.188492</td>\n",
       "      <td>70.205441</td>\n",
       "      <td>68.927130</td>\n",
       "      <td>68.956181</td>\n",
       "      <td>93121200</td>\n",
       "      <td>9.898272</td>\n",
       "    </tr>\n",
       "    <tr>\n",
       "      <th>2019-12-27</th>\n",
       "      <td>70.161865</td>\n",
       "      <td>71.171444</td>\n",
       "      <td>69.755132</td>\n",
       "      <td>70.481445</td>\n",
       "      <td>146266000</td>\n",
       "      <td>9.894138</td>\n",
       "    </tr>\n",
       "    <tr>\n",
       "      <th>2019-12-30</th>\n",
       "      <td>70.578278</td>\n",
       "      <td>70.861543</td>\n",
       "      <td>69.053023</td>\n",
       "      <td>70.079543</td>\n",
       "      <td>144114400</td>\n",
       "      <td>9.958795</td>\n",
       "    </tr>\n",
       "  </tbody>\n",
       "</table>\n",
       "<p>2515 rows × 6 columns</p>\n",
       "</div>"
      ],
      "text/plain": [
       "                Close       High        Low       Open     Volume  cum_returns\n",
       "Date                                                                          \n",
       "2010-01-04   6.440332   6.455078   6.391279   6.422878  493729600     0.000000\n",
       "2010-01-05   6.451466   6.487879   6.417459   6.458086  601904800     0.001729\n",
       "2010-01-06   6.348847   6.477046   6.342227   6.451467  552160000    -0.014205\n",
       "2010-01-07   6.337110   6.379844   6.291067   6.372320  477131200    -0.016027\n",
       "2010-01-08   6.379242   6.379844   6.291369   6.328685  447610800    -0.009486\n",
       "...               ...        ...        ...        ...        ...          ...\n",
       "2019-12-23  68.757660  68.818186  67.878820  67.917557   98572000     9.676105\n",
       "2019-12-24  68.823036  68.973147  68.496201  68.924723   48478800     9.686256\n",
       "2019-12-26  70.188492  70.205441  68.927130  68.956181   93121200     9.898272\n",
       "2019-12-27  70.161865  71.171444  69.755132  70.481445  146266000     9.894138\n",
       "2019-12-30  70.578278  70.861543  69.053023  70.079543  144114400     9.958795\n",
       "\n",
       "[2515 rows x 6 columns]"
      ]
     },
     "execution_count": 43,
     "metadata": {},
     "output_type": "execute_result"
    }
   ],
   "source": [
    "# Create a new column\n",
    "(aapl\n",
    " .assign(cum_returns=lambda df:calc_cum_returns(df,'Close'))\n",
    ")"
   ]
  },
  {
   "cell_type": "code",
   "execution_count": 45,
   "id": "3e8ec2b5-b80d-42f5-a86c-da4b2d6fd4f0",
   "metadata": {},
   "outputs": [
    {
     "name": "stderr",
     "output_type": "stream",
     "text": [
      "C:\\Users\\Admin\\AppData\\Local\\Temp\\ipykernel_26076\\2246289962.py:5: FutureWarning: Series.__getitem__ treating keys as positions is deprecated. In a future version, integer keys will always be treated as labels (consistent with DataFrame behavior). To access a value by position, use `ser.iloc[pos]`\n",
      "  .sub(ser[0])\n",
      "C:\\Users\\Admin\\AppData\\Local\\Temp\\ipykernel_26076\\2246289962.py:6: FutureWarning: Series.__getitem__ treating keys as positions is deprecated. In a future version, integer keys will always be treated as labels (consistent with DataFrame behavior). To access a value by position, use `ser.iloc[pos]`\n",
      "  .div(ser[0])\n"
     ]
    },
    {
     "data": {
      "image/png": "[encoded data removed]",
      "text/plain": [
       "<Figure size 1000x400 with 1 Axes>"
      ]
     },
     "metadata": {},
     "output_type": "display_data"
    }
   ],
   "source": [
    "# Returns - using matplotlib\n",
    "def my_bar(ser, ax):\n",
    "    ax.bar(ser.index, ser)\n",
    "    ax.xaxis.set_major_locator(dates.MonthLocator())\n",
    "    ax.xaxis.set_major_formatter(dates.DateFormatter('%b-%y'))\n",
    "    ax.xaxis.set_minor_locator(dates.DayLocator())\n",
    "    return ser\n",
    "\n",
    "fig, ax=plt.subplots(figsize=(10,4))\n",
    "_=(aapl\n",
    "   .pipe(calc_cum_returns,'Close')\n",
    "   .iloc[-100:]\n",
    "   .pipe(my_bar,ax)\n",
    "  )"
   ]
  },
  {
   "cell_type": "markdown",
   "id": "5752b88a-c727-4820-a2fe-09b3fb9cd982",
   "metadata": {},
   "source": [
    "#### Volatility"
   ]
  },
  {
   "cell_type": "code",
   "execution_count": null,
   "id": "b384628e-b08e-479f-ad67-3ef87bfbbc1d",
   "metadata": {},
   "outputs": [],
   "source": []
  }
 ],
 "metadata": {
  "kernelspec": {
   "display_name": "Python 3 (ipykernel)",
   "language": "python",
   "name": "python3"
  },
  "language_info": {
   "codemirror_mode": {
    "name": "ipython",
    "version": 3
   },
   "file_extension": ".py",
   "mimetype": "text/x-python",
   "name": "python",
   "nbconvert_exporter": "python",
   "pygments_lexer": "ipython3",
   "version": "3.11.9"
  }
 },
 "nbformat": 4,
 "nbformat_minor": 5
}
