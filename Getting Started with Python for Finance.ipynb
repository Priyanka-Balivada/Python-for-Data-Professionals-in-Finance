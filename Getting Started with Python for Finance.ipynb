{
 "cells": [
  {
   "cell_type": "markdown",
   "id": "b1000c98-ef28-4474-813b-956b0772fcf8",
   "metadata": {},
   "source": [
    "## Loading Data & Visualizations"
   ]
  },
  {
   "cell_type": "markdown",
   "id": "2445985e-31bc-42e7-8792-25ce7ce3483d",
   "metadata": {},
   "source": [
    "Goals:\n",
    "- Get data\n",
    "- Inspect data\n",
    "- The .pipe method"
   ]
  },
  {
   "cell_type": "markdown",
   "id": "74ee42d7-59a1-4117-aceb-08cefe612411",
   "metadata": {},
   "source": [
    "#### Loading Data"
   ]
  },
  {
   "cell_type": "code",
   "execution_count": 1,
   "id": "3c105e62-0b34-48c4-8008-8d4eb89b17fb",
   "metadata": {},
   "outputs": [
    {
     "name": "stdout",
     "output_type": "stream",
     "text": [
      "Requirement already satisfied: matplotlib in d:\\python\\lib\\site-packages (3.10.0)\n",
      "Requirement already satisfied: contourpy>=1.0.1 in d:\\python\\lib\\site-packages (from matplotlib) (1.3.1)\n",
      "Requirement already satisfied: cycler>=0.10 in d:\\python\\lib\\site-packages (from matplotlib) (0.12.1)\n",
      "Requirement already satisfied: fonttools>=4.22.0 in d:\\python\\lib\\site-packages (from matplotlib) (4.56.0)\n",
      "Requirement already satisfied: kiwisolver>=1.3.1 in d:\\python\\lib\\site-packages (from matplotlib) (1.4.8)\n",
      "Requirement already satisfied: numpy>=1.23 in d:\\python\\lib\\site-packages (from matplotlib) (1.26.4)\n",
      "Requirement already satisfied: packaging>=20.0 in d:\\python\\lib\\site-packages (from matplotlib) (24.1)\n",
      "Requirement already satisfied: pillow>=8 in d:\\python\\lib\\site-packages (from matplotlib) (10.4.0)\n",
      "Requirement already satisfied: pyparsing>=2.3.1 in d:\\python\\lib\\site-packages (from matplotlib) (3.2.1)\n",
      "Requirement already satisfied: python-dateutil>=2.7 in d:\\python\\lib\\site-packages (from matplotlib) (2.9.0.post0)\n",
      "Requirement already satisfied: six>=1.5 in d:\\python\\lib\\site-packages (from python-dateutil>=2.7->matplotlib) (1.16.0)\n"
     ]
    },
    {
     "name": "stderr",
     "output_type": "stream",
     "text": [
      "\n",
      "[notice] A new release of pip is available: 24.0 -> 25.0.1\n",
      "[notice] To update, run: python.exe -m pip install --upgrade pip\n"
     ]
    }
   ],
   "source": [
    "!pip install matplotlib"
   ]
  },
  {
   "cell_type": "code",
   "execution_count": 2,
   "id": "8a13fc46-d77e-4ba6-ad4a-7d6a6c55680e",
   "metadata": {},
   "outputs": [
    {
     "name": "stdout",
     "output_type": "stream",
     "text": [
      "Requirement already satisfied: yfinance in d:\\python\\lib\\site-packages (0.2.52)\n",
      "Requirement already satisfied: pandas>=1.3.0 in d:\\python\\lib\\site-packages (from yfinance) (2.2.2)\n",
      "Requirement already satisfied: numpy>=1.16.5 in d:\\python\\lib\\site-packages (from yfinance) (1.26.4)\n",
      "Requirement already satisfied: requests>=2.31 in d:\\python\\lib\\site-packages (from yfinance) (2.32.3)\n",
      "Requirement already satisfied: multitasking>=0.0.7 in d:\\python\\lib\\site-packages (from yfinance) (0.0.11)\n",
      "Requirement already satisfied: lxml>=4.9.1 in d:\\python\\lib\\site-packages (from yfinance) (5.2.2)\n",
      "Requirement already satisfied: platformdirs>=2.0.0 in d:\\python\\lib\\site-packages (from yfinance) (4.3.2)\n",
      "Requirement already satisfied: pytz>=2022.5 in d:\\python\\lib\\site-packages (from yfinance) (2024.1)\n",
      "Requirement already satisfied: frozendict>=2.3.4 in d:\\python\\lib\\site-packages (from yfinance) (2.4.6)\n",
      "Requirement already satisfied: peewee>=3.16.2 in d:\\python\\lib\\site-packages (from yfinance) (3.17.9)\n",
      "Requirement already satisfied: beautifulsoup4>=4.11.1 in d:\\python\\lib\\site-packages (from yfinance) (4.12.3)\n",
      "Requirement already satisfied: html5lib>=1.1 in d:\\python\\lib\\site-packages (from yfinance) (1.1)\n",
      "Requirement already satisfied: soupsieve>1.2 in d:\\python\\lib\\site-packages (from beautifulsoup4>=4.11.1->yfinance) (2.5)\n",
      "Requirement already satisfied: six>=1.9 in d:\\python\\lib\\site-packages (from html5lib>=1.1->yfinance) (1.16.0)\n",
      "Requirement already satisfied: webencodings in d:\\python\\lib\\site-packages (from html5lib>=1.1->yfinance) (0.5.1)\n",
      "Requirement already satisfied: python-dateutil>=2.8.2 in d:\\python\\lib\\site-packages (from pandas>=1.3.0->yfinance) (2.9.0.post0)\n",
      "Requirement already satisfied: tzdata>=2022.7 in d:\\python\\lib\\site-packages (from pandas>=1.3.0->yfinance) (2024.1)\n",
      "Requirement already satisfied: charset-normalizer<4,>=2 in d:\\python\\lib\\site-packages (from requests>=2.31->yfinance) (3.3.2)\n",
      "Requirement already satisfied: idna<4,>=2.5 in d:\\python\\lib\\site-packages (from requests>=2.31->yfinance) (3.7)\n",
      "Requirement already satisfied: urllib3<3,>=1.21.1 in d:\\python\\lib\\site-packages (from requests>=2.31->yfinance) (2.2.2)\n",
      "Requirement already satisfied: certifi>=2017.4.17 in d:\\python\\lib\\site-packages (from requests>=2.31->yfinance) (2024.7.4)\n"
     ]
    },
    {
     "name": "stderr",
     "output_type": "stream",
     "text": [
      "\n",
      "[notice] A new release of pip is available: 24.0 -> 25.0.1\n",
      "[notice] To update, run: python.exe -m pip install --upgrade pip\n"
     ]
    }
   ],
   "source": [
    "!pip install yfinance"
   ]
  },
  {
   "cell_type": "code",
   "execution_count": 3,
   "id": "772b692c-330e-4a64-a5c6-3f05a9ee0a0a",
   "metadata": {},
   "outputs": [],
   "source": [
    "from matplotlib import dates\n",
    "import matplotlib.pyplot as plt\n",
    "import numpy as np\n",
    "import pandas as pd\n",
    "import yfinance as yf"
   ]
  },
  {
   "cell_type": "code",
   "execution_count": 4,
   "id": "7d6d3107-38d3-4f62-93f4-71065e278504",
   "metadata": {},
   "outputs": [
    {
     "name": "stderr",
     "output_type": "stream",
     "text": [
      "[*********************100%***********************]  2 of 2 completed\n",
      "\n",
      "2 Failed downloads:\n",
      "['SPY', 'AAPL']: YFRateLimitError('Too Many Requests. Rate limited. Try after a while.')\n"
     ]
    }
   ],
   "source": [
    "raw = yf.download('SPY AAPL', start='2010-01-01', end='2019-12-31')"
   ]
  },
  {
   "cell_type": "code",
   "execution_count": 5,
   "id": "fee3ac71-5c2c-4a2d-b290-512be7470d45",
   "metadata": {},
   "outputs": [
    {
     "data": {
      "text/html": [
       "<div>\n",
       "<style scoped>\n",
       "    .dataframe tbody tr th:only-of-type {\n",
       "        vertical-align: middle;\n",
       "    }\n",
       "\n",
       "    .dataframe tbody tr th {\n",
       "        vertical-align: top;\n",
       "    }\n",
       "\n",
       "    .dataframe thead tr th {\n",
       "        text-align: left;\n",
       "    }\n",
       "\n",
       "    .dataframe thead tr:last-of-type th {\n",
       "        text-align: right;\n",
       "    }\n",
       "</style>\n",
       "<table border=\"1\" class=\"dataframe\">\n",
       "  <thead>\n",
       "    <tr>\n",
       "      <th>Price</th>\n",
       "      <th colspan=\"2\" halign=\"left\">Adj Close</th>\n",
       "      <th colspan=\"2\" halign=\"left\">Close</th>\n",
       "      <th colspan=\"2\" halign=\"left\">High</th>\n",
       "      <th colspan=\"2\" halign=\"left\">Low</th>\n",
       "      <th colspan=\"2\" halign=\"left\">Open</th>\n",
       "      <th colspan=\"2\" halign=\"left\">Volume</th>\n",
       "    </tr>\n",
       "    <tr>\n",
       "      <th>Ticker</th>\n",
       "      <th>AAPL</th>\n",
       "      <th>SPY</th>\n",
       "      <th>AAPL</th>\n",
       "      <th>SPY</th>\n",
       "      <th>AAPL</th>\n",
       "      <th>SPY</th>\n",
       "      <th>AAPL</th>\n",
       "      <th>SPY</th>\n",
       "      <th>AAPL</th>\n",
       "      <th>SPY</th>\n",
       "      <th>AAPL</th>\n",
       "      <th>SPY</th>\n",
       "    </tr>\n",
       "    <tr>\n",
       "      <th>Date</th>\n",
       "      <th></th>\n",
       "      <th></th>\n",
       "      <th></th>\n",
       "      <th></th>\n",
       "      <th></th>\n",
       "      <th></th>\n",
       "      <th></th>\n",
       "      <th></th>\n",
       "      <th></th>\n",
       "      <th></th>\n",
       "      <th></th>\n",
       "      <th></th>\n",
       "    </tr>\n",
       "  </thead>\n",
       "  <tbody>\n",
       "  </tbody>\n",
       "</table>\n",
       "</div>"
      ],
      "text/plain": [
       "Empty DataFrame\n",
       "Columns: [(Adj Close, AAPL), (Adj Close, SPY), (Close, AAPL), (Close, SPY), (High, AAPL), (High, SPY), (Low, AAPL), (Low, SPY), (Open, AAPL), (Open, SPY), (Volume, AAPL), (Volume, SPY)]\n",
       "Index: []"
      ]
     },
     "execution_count": 5,
     "metadata": {},
     "output_type": "execute_result"
    }
   ],
   "source": [
    "raw"
   ]
  },
  {
   "cell_type": "code",
   "execution_count": 6,
   "id": "c2d5d6b5-a349-4d3b-b454-2f8eba133083",
   "metadata": {},
   "outputs": [
    {
     "data": {
      "text/plain": [
       "MultiIndex([('Adj Close', 'AAPL'),\n",
       "            ('Adj Close',  'SPY'),\n",
       "            (    'Close', 'AAPL'),\n",
       "            (    'Close',  'SPY'),\n",
       "            (     'High', 'AAPL'),\n",
       "            (     'High',  'SPY'),\n",
       "            (      'Low', 'AAPL'),\n",
       "            (      'Low',  'SPY'),\n",
       "            (     'Open', 'AAPL'),\n",
       "            (     'Open',  'SPY'),\n",
       "            (   'Volume', 'AAPL'),\n",
       "            (   'Volume',  'SPY')],\n",
       "           names=['Price', 'Ticker'])"
      ]
     },
     "execution_count": 6,
     "metadata": {},
     "output_type": "execute_result"
    }
   ],
   "source": [
    "raw.columns"
   ]
  },
  {
   "cell_type": "code",
   "execution_count": 7,
   "id": "b6261a63-0e25-49a7-b5e6-0c426faa6505",
   "metadata": {},
   "outputs": [
    {
     "data": {
      "text/plain": [
       "\u001b[1;31mSignature:\u001b[0m\n",
       "\u001b[0mraw\u001b[0m\u001b[1;33m.\u001b[0m\u001b[0mpipe\u001b[0m\u001b[1;33m(\u001b[0m\u001b[1;33m\n",
       "\u001b[0m    \u001b[0mfunc\u001b[0m\u001b[1;33m:\u001b[0m \u001b[1;34m'Callable[..., T] | tuple[Callable[..., T], str]'\u001b[0m\u001b[1;33m,\u001b[0m\u001b[1;33m\n",
       "\u001b[0m    \u001b[1;33m*\u001b[0m\u001b[0margs\u001b[0m\u001b[1;33m,\u001b[0m\u001b[1;33m\n",
       "\u001b[0m    \u001b[1;33m**\u001b[0m\u001b[0mkwargs\u001b[0m\u001b[1;33m,\u001b[0m\u001b[1;33m\n",
       "\u001b[0m\u001b[1;33m)\u001b[0m \u001b[1;33m->\u001b[0m \u001b[1;34m'T'\u001b[0m\u001b[1;33m\u001b[0m\u001b[1;33m\u001b[0m\u001b[0m\n",
       "\u001b[1;31mDocstring:\u001b[0m\n",
       "Apply chainable functions that expect Series or DataFrames.\n",
       "\n",
       "Parameters\n",
       "----------\n",
       "func : function\n",
       "    Function to apply to the Series/DataFrame.\n",
       "    ``args``, and ``kwargs`` are passed into ``func``.\n",
       "    Alternatively a ``(callable, data_keyword)`` tuple where\n",
       "    ``data_keyword`` is a string indicating the keyword of\n",
       "    ``callable`` that expects the Series/DataFrame.\n",
       "*args : iterable, optional\n",
       "    Positional arguments passed into ``func``.\n",
       "**kwargs : mapping, optional\n",
       "    A dictionary of keyword arguments passed into ``func``.\n",
       "\n",
       "Returns\n",
       "-------\n",
       "the return type of ``func``.\n",
       "\n",
       "See Also\n",
       "--------\n",
       "DataFrame.apply : Apply a function along input axis of DataFrame.\n",
       "DataFrame.map : Apply a function elementwise on a whole DataFrame.\n",
       "Series.map : Apply a mapping correspondence on a\n",
       "    :class:`~pandas.Series`.\n",
       "\n",
       "Notes\n",
       "-----\n",
       "Use ``.pipe`` when chaining together functions that expect\n",
       "Series, DataFrames or GroupBy objects.\n",
       "\n",
       "Examples\n",
       "--------\n",
       "Constructing a income DataFrame from a dictionary.\n",
       "\n",
       ">>> data = [[8000, 1000], [9500, np.nan], [5000, 2000]]\n",
       ">>> df = pd.DataFrame(data, columns=['Salary', 'Others'])\n",
       ">>> df\n",
       "   Salary  Others\n",
       "0    8000  1000.0\n",
       "1    9500     NaN\n",
       "2    5000  2000.0\n",
       "\n",
       "Functions that perform tax reductions on an income DataFrame.\n",
       "\n",
       ">>> def subtract_federal_tax(df):\n",
       "...     return df * 0.9\n",
       ">>> def subtract_state_tax(df, rate):\n",
       "...     return df * (1 - rate)\n",
       ">>> def subtract_national_insurance(df, rate, rate_increase):\n",
       "...     new_rate = rate + rate_increase\n",
       "...     return df * (1 - new_rate)\n",
       "\n",
       "Instead of writing\n",
       "\n",
       ">>> subtract_national_insurance(\n",
       "...     subtract_state_tax(subtract_federal_tax(df), rate=0.12),\n",
       "...     rate=0.05,\n",
       "...     rate_increase=0.02)  # doctest: +SKIP\n",
       "\n",
       "You can write\n",
       "\n",
       ">>> (\n",
       "...     df.pipe(subtract_federal_tax)\n",
       "...     .pipe(subtract_state_tax, rate=0.12)\n",
       "...     .pipe(subtract_national_insurance, rate=0.05, rate_increase=0.02)\n",
       "... )\n",
       "    Salary   Others\n",
       "0  5892.48   736.56\n",
       "1  6997.32      NaN\n",
       "2  3682.80  1473.12\n",
       "\n",
       "If you have a function that takes the data as (say) the second\n",
       "argument, pass a tuple indicating which keyword expects the\n",
       "data. For example, suppose ``national_insurance`` takes its data as ``df``\n",
       "in the second argument:\n",
       "\n",
       ">>> def subtract_national_insurance(rate, df, rate_increase):\n",
       "...     new_rate = rate + rate_increase\n",
       "...     return df * (1 - new_rate)\n",
       ">>> (\n",
       "...     df.pipe(subtract_federal_tax)\n",
       "...     .pipe(subtract_state_tax, rate=0.12)\n",
       "...     .pipe(\n",
       "...         (subtract_national_insurance, 'df'),\n",
       "...         rate=0.05,\n",
       "...         rate_increase=0.02\n",
       "...     )\n",
       "... )\n",
       "    Salary   Others\n",
       "0  5892.48   736.56\n",
       "1  6997.32      NaN\n",
       "2  3682.80  1473.12\n",
       "\u001b[1;31mFile:\u001b[0m      d:\\python\\lib\\site-packages\\pandas\\core\\generic.py\n",
       "\u001b[1;31mType:\u001b[0m      method"
      ]
     },
     "metadata": {},
     "output_type": "display_data"
    }
   ],
   "source": [
    "# Going to use the .pipe method a lot\n",
    "raw.pipe?"
   ]
  },
  {
   "cell_type": "code",
   "execution_count": 8,
   "id": "ac7528ad-7e59-48e1-bee0-5293c27426e8",
   "metadata": {},
   "outputs": [
    {
     "data": {
      "text/html": [
       "<div>\n",
       "<style scoped>\n",
       "    .dataframe tbody tr th:only-of-type {\n",
       "        vertical-align: middle;\n",
       "    }\n",
       "\n",
       "    .dataframe tbody tr th {\n",
       "        vertical-align: top;\n",
       "    }\n",
       "\n",
       "    .dataframe thead th {\n",
       "        text-align: right;\n",
       "    }\n",
       "</style>\n",
       "<table border=\"1\" class=\"dataframe\">\n",
       "  <thead>\n",
       "    <tr style=\"text-align: right;\">\n",
       "      <th></th>\n",
       "      <th>Adj Close</th>\n",
       "      <th>Close</th>\n",
       "      <th>High</th>\n",
       "      <th>Low</th>\n",
       "      <th>Open</th>\n",
       "      <th>Volume</th>\n",
       "    </tr>\n",
       "    <tr>\n",
       "      <th>Date</th>\n",
       "      <th></th>\n",
       "      <th></th>\n",
       "      <th></th>\n",
       "      <th></th>\n",
       "      <th></th>\n",
       "      <th></th>\n",
       "    </tr>\n",
       "  </thead>\n",
       "  <tbody>\n",
       "  </tbody>\n",
       "</table>\n",
       "</div>"
      ],
      "text/plain": [
       "Empty DataFrame\n",
       "Columns: [Adj Close, Close, High, Low, Open, Volume]\n",
       "Index: []"
      ]
     },
     "execution_count": 8,
     "metadata": {},
     "output_type": "execute_result"
    }
   ],
   "source": [
    "def fix_cols(df):\n",
    "    columns = df.columns\n",
    "    outer = [col[0] for col in columns]\n",
    "    df.columns = outer\n",
    "    return df\n",
    "\n",
    "(raw\n",
    " .iloc[:,::2]\n",
    " .pipe(fix_cols)\n",
    ")"
   ]
  },
  {
   "cell_type": "markdown",
   "id": "f5d0aee5-dd01-4507-91e1-3590b213b321",
   "metadata": {},
   "source": [
    "**Understanding the fix_cols function**\n",
    "- This function extracts the first element from each column name and sets it as the new column name.\n",
    "- It assumes that the column names are tuples or lists (multi-indexed columns).\n",
    "\n",
    "**Applying .iloc[:, ::2]**\n",
    "- iloc[:, ::2]: This selects every second column (i.e., 0, 2, 4, ...).\n",
    "- .pipe(fix_cols): Passes the result of .iloc into the fix_cols function.\n",
    "\n",
    "**Overall Explanation**\n",
    "- raw.iloc[:, ::2]: Selects every second column of raw.\n",
    "- pipe(fix_cols): Passes the subsetted DataFrame to fix_cols, renaming columns by extracting the first element from each column name."
   ]
  },
  {
   "cell_type": "code",
   "execution_count": 9,
   "id": "7dfe9c77-4b83-4a73-a3e4-a96655d09b17",
   "metadata": {},
   "outputs": [
    {
     "name": "stderr",
     "output_type": "stream",
     "text": [
      "[*********************100%***********************]  1 of 2 completed\n",
      "\n",
      "2 Failed downloads:\n",
      "['AAPL', 'SPY']: YFRateLimitError('Too Many Requests. Rate limited. Try after a while.')\n"
     ]
    },
    {
     "data": {
      "text/html": [
       "<div>\n",
       "<style scoped>\n",
       "    .dataframe tbody tr th:only-of-type {\n",
       "        vertical-align: middle;\n",
       "    }\n",
       "\n",
       "    .dataframe tbody tr th {\n",
       "        vertical-align: top;\n",
       "    }\n",
       "\n",
       "    .dataframe thead th {\n",
       "        text-align: right;\n",
       "    }\n",
       "</style>\n",
       "<table border=\"1\" class=\"dataframe\">\n",
       "  <thead>\n",
       "    <tr style=\"text-align: right;\">\n",
       "      <th></th>\n",
       "      <th>Adj Close</th>\n",
       "      <th>Close</th>\n",
       "      <th>High</th>\n",
       "      <th>Low</th>\n",
       "      <th>Open</th>\n",
       "      <th>Volume</th>\n",
       "    </tr>\n",
       "    <tr>\n",
       "      <th>Date</th>\n",
       "      <th></th>\n",
       "      <th></th>\n",
       "      <th></th>\n",
       "      <th></th>\n",
       "      <th></th>\n",
       "      <th></th>\n",
       "    </tr>\n",
       "  </thead>\n",
       "  <tbody>\n",
       "  </tbody>\n",
       "</table>\n",
       "</div>"
      ],
      "text/plain": [
       "Empty DataFrame\n",
       "Columns: [Adj Close, Close, High, Low, Open, Volume]\n",
       "Index: []"
      ]
     },
     "execution_count": 9,
     "metadata": {},
     "output_type": "execute_result"
    }
   ],
   "source": [
    "import yfinance as yf\n",
    "\n",
    "def fix_cols(df):\n",
    "    columns = df.columns\n",
    "    outer = [col[0] for col in columns]\n",
    "    df.columns = outer\n",
    "    return df\n",
    "\n",
    "def tweak_data():\n",
    "    raw = yf.download('SPY AAPL', start='2010-01-01', end='2019-12-31')\n",
    "\n",
    "    return (raw\n",
    "     .iloc[:,::2]\n",
    "     .pipe(fix_cols)\n",
    "    )\n",
    "\n",
    "tweak_data()"
   ]
  },
  {
   "cell_type": "markdown",
   "id": "4d9dbfee-0892-408d-8151-c07a9e2c0229",
   "metadata": {},
   "source": [
    "#### Line Plot"
   ]
  },
  {
   "cell_type": "markdown",
   "id": "5df3f7be-78b7-4ea4-947e-677175793118",
   "metadata": {},
   "source": [
    "Goals\n",
    "- Line plots\n",
    "- Matplotlib plots"
   ]
  },
  {
   "cell_type": "code",
   "execution_count": 10,
   "id": "56e84a4a-b8ec-48ee-8e48-a245d4ece755",
   "metadata": {},
   "outputs": [
    {
     "name": "stderr",
     "output_type": "stream",
     "text": [
      "[*********************100%***********************]  2 of 2 completed\n",
      "\n",
      "2 Failed downloads:\n",
      "['AAPL', 'SPY']: YFRateLimitError('Too Many Requests. Rate limited. Try after a while.')\n"
     ]
    }
   ],
   "source": [
    "raw = yf.download('SPY AAPL', start='2010-01-01', end='2019-12-31')"
   ]
  },
  {
   "cell_type": "code",
   "execution_count": 11,
   "id": "537013f4-f43b-466c-a429-709a0e52e2ff",
   "metadata": {},
   "outputs": [
    {
     "data": {
      "text/html": [
       "<div>\n",
       "<style scoped>\n",
       "    .dataframe tbody tr th:only-of-type {\n",
       "        vertical-align: middle;\n",
       "    }\n",
       "\n",
       "    .dataframe tbody tr th {\n",
       "        vertical-align: top;\n",
       "    }\n",
       "\n",
       "    .dataframe thead th {\n",
       "        text-align: right;\n",
       "    }\n",
       "</style>\n",
       "<table border=\"1\" class=\"dataframe\">\n",
       "  <thead>\n",
       "    <tr style=\"text-align: right;\">\n",
       "      <th></th>\n",
       "      <th>Adj Close</th>\n",
       "      <th>Close</th>\n",
       "      <th>High</th>\n",
       "      <th>Low</th>\n",
       "      <th>Open</th>\n",
       "    </tr>\n",
       "    <tr>\n",
       "      <th>Date</th>\n",
       "      <th></th>\n",
       "      <th></th>\n",
       "      <th></th>\n",
       "      <th></th>\n",
       "      <th></th>\n",
       "    </tr>\n",
       "  </thead>\n",
       "  <tbody>\n",
       "  </tbody>\n",
       "</table>\n",
       "</div>"
      ],
      "text/plain": [
       "Empty DataFrame\n",
       "Columns: [Adj Close, Close, High, Low, Open]\n",
       "Index: []"
      ]
     },
     "execution_count": 11,
     "metadata": {},
     "output_type": "execute_result"
    }
   ],
   "source": [
    "(raw\n",
    " .iloc[:,:-2:2]\n",
    " .pipe(fix_cols)\n",
    ")"
   ]
  },
  {
   "cell_type": "code",
   "execution_count": 12,
   "id": "d46a9cea-db08-40a1-8d9b-b1a16f5ee75c",
   "metadata": {},
   "outputs": [
    {
     "data": {
      "text/plain": [
       "<Axes: xlabel='Date'>"
      ]
     },
     "execution_count": 12,
     "metadata": {},
     "output_type": "execute_result"
    },
    {
     "data": {
      "image/png": "[encoded data removed]",
      "text/plain": [
       "<Figure size 640x480 with 1 Axes>"
      ]
     },
     "metadata": {},
     "output_type": "display_data"
    }
   ],
   "source": [
    "(raw\n",
    " .iloc[:,:-2:2]\n",
    " .pipe(fix_cols)\n",
    " .plot()\n",
    ")"
   ]
  },
  {
   "cell_type": "code",
   "execution_count": 13,
   "id": "02084d61-b863-449c-96e1-2ce6fdb14b65",
   "metadata": {},
   "outputs": [
    {
     "data": {
      "text/plain": [
       "<Axes: xlabel='Date'>"
      ]
     },
     "execution_count": 13,
     "metadata": {},
     "output_type": "execute_result"
    },
    {
     "data": {
      "image/png": "[encoded data removed]",
      "text/plain": [
       "<Figure size 640x480 with 1 Axes>"
      ]
     },
     "metadata": {},
     "output_type": "display_data"
    }
   ],
   "source": [
    "(raw\n",
    " .iloc[:,::2]\n",
    " .pipe(fix_cols)\n",
    " .Close\n",
    " .plot()\n",
    ")"
   ]
  },
  {
   "cell_type": "code",
   "execution_count": 14,
   "id": "40f5a904-fdc0-4678-9616-c5596373f750",
   "metadata": {},
   "outputs": [
    {
     "data": {
      "text/plain": [
       "<Axes: xlabel='Date'>"
      ]
     },
     "execution_count": 14,
     "metadata": {},
     "output_type": "execute_result"
    },
    {
     "data": {
      "image/png": "[encoded data removed]",
      "text/plain": [
       "<Figure size 1000x200 with 1 Axes>"
      ]
     },
     "metadata": {},
     "output_type": "display_data"
    }
   ],
   "source": [
    "(raw\n",
    " .iloc[:,::2]\n",
    " .pipe(fix_cols)\n",
    " .Volume\n",
    " .plot(figsize=(10,2))\n",
    ")"
   ]
  },
  {
   "cell_type": "markdown",
   "id": "66ced68f-74a9-41ce-bc72-b1331a314184",
   "metadata": {},
   "source": [
    "#### Resampling"
   ]
  },
  {
   "cell_type": "code",
   "execution_count": 15,
   "id": "480dc4f1-a8ea-46f2-afa4-5c9fa606413a",
   "metadata": {},
   "outputs": [
    {
     "data": {
      "text/plain": [
       "<Axes: xlabel='Date'>"
      ]
     },
     "execution_count": 15,
     "metadata": {},
     "output_type": "execute_result"
    },
    {
     "data": {
      "image/png": "[encoded data removed]",
      "text/plain": [
       "<Figure size 640x480 with 1 Axes>"
      ]
     },
     "metadata": {},
     "output_type": "display_data"
    }
   ],
   "source": [
    "(raw\n",
    " .iloc[:,::2]\n",
    " .pipe(fix_cols)\n",
    " .Close\n",
    " .plot()\n",
    ")"
   ]
  },
  {
   "cell_type": "code",
   "execution_count": 16,
   "id": "baa8f953-c30c-42f3-be8e-4f16e0f1b164",
   "metadata": {},
   "outputs": [
    {
     "data": {
      "text/plain": [
       "Series([], Name: Close, dtype: float64)"
      ]
     },
     "execution_count": 16,
     "metadata": {},
     "output_type": "execute_result"
    }
   ],
   "source": [
    "(raw\n",
    " .iloc[:,::2]\n",
    " .pipe(fix_cols)\n",
    " .Close\n",
    ")"
   ]
  },
  {
   "cell_type": "code",
   "execution_count": 17,
   "id": "57f718c4-f08f-4d57-b6f6-5655f6c6e948",
   "metadata": {},
   "outputs": [
    {
     "name": "stderr",
     "output_type": "stream",
     "text": [
      "C:\\Users\\Admin\\AppData\\Local\\Temp\\ipykernel_12716\\271770984.py:4: FutureWarning: 'M' is deprecated and will be removed in a future version, please use 'ME' instead.\n",
      "  .resample('M') #offset alias\n"
     ]
    },
    {
     "data": {
      "text/plain": [
       "<pandas.core.groupby.generic.SeriesGroupBy object at 0x00000150BAAD0AD0>"
      ]
     },
     "execution_count": 17,
     "metadata": {},
     "output_type": "execute_result"
    }
   ],
   "source": [
    "(raw\n",
    " .iloc[:,::2]\n",
    " .pipe(fix_cols)\n",
    " .resample('M') #offset alias\n",
    " .Close\n",
    ")"
   ]
  },
  {
   "cell_type": "code",
   "execution_count": 18,
   "id": "6174c764-d5c6-4f85-81bb-0141712aee96",
   "metadata": {},
   "outputs": [
    {
     "name": "stderr",
     "output_type": "stream",
     "text": [
      "C:\\Users\\Admin\\AppData\\Local\\Temp\\ipykernel_12716\\568485902.py:4: FutureWarning: 'M' is deprecated and will be removed in a future version, please use 'ME' instead.\n",
      "  .resample('M') #offset alias\n"
     ]
    },
    {
     "data": {
      "text/plain": [
       "Series([], Freq: ME, Name: Close, dtype: float64)"
      ]
     },
     "execution_count": 18,
     "metadata": {},
     "output_type": "execute_result"
    }
   ],
   "source": [
    "(raw\n",
    " .iloc[:,::2]\n",
    " .pipe(fix_cols)\n",
    " .resample('M') #offset alias\n",
    " .Close\n",
    " .mean()\n",
    ")"
   ]
  },
  {
   "cell_type": "code",
   "execution_count": 19,
   "id": "98221cdd-09a8-484e-9171-65bacc5d0782",
   "metadata": {},
   "outputs": [
    {
     "name": "stderr",
     "output_type": "stream",
     "text": [
      "C:\\Users\\Admin\\AppData\\Local\\Temp\\ipykernel_12716\\1015692560.py:4: FutureWarning: 'M' is deprecated and will be removed in a future version, please use 'ME' instead.\n",
      "  .resample('M') #offset alias\n"
     ]
    },
    {
     "ename": "ValueError",
     "evalue": "zero-size array to reduction operation fmin which has no identity",
     "output_type": "error",
     "traceback": [
      "\u001b[1;31m---------------------------------------------------------------------------\u001b[0m",
      "\u001b[1;31mValueError\u001b[0m                                Traceback (most recent call last)",
      "Cell \u001b[1;32mIn[19], line 7\u001b[0m\n\u001b[0;32m      1\u001b[0m (\u001b[43mraw\u001b[49m\n\u001b[0;32m      2\u001b[0m \u001b[43m \u001b[49m\u001b[38;5;241;43m.\u001b[39;49m\u001b[43miloc\u001b[49m\u001b[43m[\u001b[49m\u001b[43m:\u001b[49m\u001b[43m,\u001b[49m\u001b[43m:\u001b[49m\u001b[43m:\u001b[49m\u001b[38;5;241;43m2\u001b[39;49m\u001b[43m]\u001b[49m\n\u001b[0;32m      3\u001b[0m \u001b[43m \u001b[49m\u001b[38;5;241;43m.\u001b[39;49m\u001b[43mpipe\u001b[49m\u001b[43m(\u001b[49m\u001b[43mfix_cols\u001b[49m\u001b[43m)\u001b[49m\n\u001b[0;32m      4\u001b[0m \u001b[43m \u001b[49m\u001b[38;5;241;43m.\u001b[39;49m\u001b[43mresample\u001b[49m\u001b[43m(\u001b[49m\u001b[38;5;124;43m'\u001b[39;49m\u001b[38;5;124;43mM\u001b[39;49m\u001b[38;5;124;43m'\u001b[39;49m\u001b[43m)\u001b[49m\u001b[43m \u001b[49m\u001b[38;5;66;43;03m#offset alias\u001b[39;49;00m\n\u001b[0;32m      5\u001b[0m \u001b[43m \u001b[49m\u001b[38;5;241;43m.\u001b[39;49m\u001b[43mClose\u001b[49m\n\u001b[0;32m      6\u001b[0m \u001b[43m \u001b[49m\u001b[38;5;241;43m.\u001b[39;49m\u001b[43mmean\u001b[49m\u001b[43m(\u001b[49m\u001b[43m)\u001b[49m\n\u001b[1;32m----> 7\u001b[0m \u001b[43m \u001b[49m\u001b[38;5;241;43m.\u001b[39;49m\u001b[43mplot\u001b[49m\u001b[43m(\u001b[49m\u001b[43m)\u001b[49m\n\u001b[0;32m      8\u001b[0m )\n",
      "File \u001b[1;32mD:\\Python\\Lib\\site-packages\\pandas\\plotting\\_core.py:1030\u001b[0m, in \u001b[0;36mPlotAccessor.__call__\u001b[1;34m(self, *args, **kwargs)\u001b[0m\n\u001b[0;32m   1027\u001b[0m             label_name \u001b[38;5;241m=\u001b[39m label_kw \u001b[38;5;129;01mor\u001b[39;00m data\u001b[38;5;241m.\u001b[39mcolumns\n\u001b[0;32m   1028\u001b[0m             data\u001b[38;5;241m.\u001b[39mcolumns \u001b[38;5;241m=\u001b[39m label_name\n\u001b[1;32m-> 1030\u001b[0m \u001b[38;5;28;01mreturn\u001b[39;00m \u001b[43mplot_backend\u001b[49m\u001b[38;5;241;43m.\u001b[39;49m\u001b[43mplot\u001b[49m\u001b[43m(\u001b[49m\u001b[43mdata\u001b[49m\u001b[43m,\u001b[49m\u001b[43m \u001b[49m\u001b[43mkind\u001b[49m\u001b[38;5;241;43m=\u001b[39;49m\u001b[43mkind\u001b[49m\u001b[43m,\u001b[49m\u001b[43m \u001b[49m\u001b[38;5;241;43m*\u001b[39;49m\u001b[38;5;241;43m*\u001b[39;49m\u001b[43mkwargs\u001b[49m\u001b[43m)\u001b[49m\n",
      "File \u001b[1;32mD:\\Python\\Lib\\site-packages\\pandas\\plotting\\_matplotlib\\__init__.py:71\u001b[0m, in \u001b[0;36mplot\u001b[1;34m(data, kind, **kwargs)\u001b[0m\n\u001b[0;32m     69\u001b[0m         kwargs[\u001b[38;5;124m\"\u001b[39m\u001b[38;5;124max\u001b[39m\u001b[38;5;124m\"\u001b[39m] \u001b[38;5;241m=\u001b[39m \u001b[38;5;28mgetattr\u001b[39m(ax, \u001b[38;5;124m\"\u001b[39m\u001b[38;5;124mleft_ax\u001b[39m\u001b[38;5;124m\"\u001b[39m, ax)\n\u001b[0;32m     70\u001b[0m plot_obj \u001b[38;5;241m=\u001b[39m PLOT_CLASSES[kind](data, \u001b[38;5;241m*\u001b[39m\u001b[38;5;241m*\u001b[39mkwargs)\n\u001b[1;32m---> 71\u001b[0m \u001b[43mplot_obj\u001b[49m\u001b[38;5;241;43m.\u001b[39;49m\u001b[43mgenerate\u001b[49m\u001b[43m(\u001b[49m\u001b[43m)\u001b[49m\n\u001b[0;32m     72\u001b[0m plot_obj\u001b[38;5;241m.\u001b[39mdraw()\n\u001b[0;32m     73\u001b[0m \u001b[38;5;28;01mreturn\u001b[39;00m plot_obj\u001b[38;5;241m.\u001b[39mresult\n",
      "File \u001b[1;32mD:\\Python\\Lib\\site-packages\\pandas\\plotting\\_matplotlib\\core.py:501\u001b[0m, in \u001b[0;36mMPLPlot.generate\u001b[1;34m(self)\u001b[0m\n\u001b[0;32m    499\u001b[0m \u001b[38;5;28mself\u001b[39m\u001b[38;5;241m.\u001b[39m_compute_plot_data()\n\u001b[0;32m    500\u001b[0m fig \u001b[38;5;241m=\u001b[39m \u001b[38;5;28mself\u001b[39m\u001b[38;5;241m.\u001b[39mfig\n\u001b[1;32m--> 501\u001b[0m \u001b[38;5;28;43mself\u001b[39;49m\u001b[38;5;241;43m.\u001b[39;49m\u001b[43m_make_plot\u001b[49m\u001b[43m(\u001b[49m\u001b[43mfig\u001b[49m\u001b[43m)\u001b[49m\n\u001b[0;32m    502\u001b[0m \u001b[38;5;28mself\u001b[39m\u001b[38;5;241m.\u001b[39m_add_table()\n\u001b[0;32m    503\u001b[0m \u001b[38;5;28mself\u001b[39m\u001b[38;5;241m.\u001b[39m_make_legend()\n",
      "File \u001b[1;32mD:\\Python\\Lib\\site-packages\\pandas\\plotting\\_matplotlib\\core.py:1560\u001b[0m, in \u001b[0;36mLinePlot._make_plot\u001b[1;34m(self, fig)\u001b[0m\n\u001b[0;32m   1556\u001b[0m \u001b[38;5;28;01mif\u001b[39;00m \u001b[38;5;28mself\u001b[39m\u001b[38;5;241m.\u001b[39m_is_ts_plot():\n\u001b[0;32m   1557\u001b[0m     \u001b[38;5;66;03m# reset of xlim should be used for ts data\u001b[39;00m\n\u001b[0;32m   1558\u001b[0m     \u001b[38;5;66;03m# TODO: GH28021, should find a way to change view limit on xaxis\u001b[39;00m\n\u001b[0;32m   1559\u001b[0m     lines \u001b[38;5;241m=\u001b[39m get_all_lines(ax)\n\u001b[1;32m-> 1560\u001b[0m     left, right \u001b[38;5;241m=\u001b[39m \u001b[43mget_xlim\u001b[49m\u001b[43m(\u001b[49m\u001b[43mlines\u001b[49m\u001b[43m)\u001b[49m\n\u001b[0;32m   1561\u001b[0m     ax\u001b[38;5;241m.\u001b[39mset_xlim(left, right)\n",
      "File \u001b[1;32mD:\\Python\\Lib\\site-packages\\pandas\\plotting\\_matplotlib\\tools.py:490\u001b[0m, in \u001b[0;36mget_xlim\u001b[1;34m(lines)\u001b[0m\n\u001b[0;32m    488\u001b[0m \u001b[38;5;28;01mfor\u001b[39;00m line \u001b[38;5;129;01min\u001b[39;00m lines:\n\u001b[0;32m    489\u001b[0m     x \u001b[38;5;241m=\u001b[39m line\u001b[38;5;241m.\u001b[39mget_xdata(orig\u001b[38;5;241m=\u001b[39m\u001b[38;5;28;01mFalse\u001b[39;00m)\n\u001b[1;32m--> 490\u001b[0m     left \u001b[38;5;241m=\u001b[39m \u001b[38;5;28mmin\u001b[39m(\u001b[43mnp\u001b[49m\u001b[38;5;241;43m.\u001b[39;49m\u001b[43mnanmin\u001b[49m\u001b[43m(\u001b[49m\u001b[43mx\u001b[49m\u001b[43m)\u001b[49m, left)\n\u001b[0;32m    491\u001b[0m     right \u001b[38;5;241m=\u001b[39m \u001b[38;5;28mmax\u001b[39m(np\u001b[38;5;241m.\u001b[39mnanmax(x), right)\n\u001b[0;32m    492\u001b[0m \u001b[38;5;28;01mreturn\u001b[39;00m left, right\n",
      "File \u001b[1;32mD:\\Python\\Lib\\site-packages\\numpy\\lib\\nanfunctions.py:343\u001b[0m, in \u001b[0;36mnanmin\u001b[1;34m(a, axis, out, keepdims, initial, where)\u001b[0m\n\u001b[0;32m    338\u001b[0m     kwargs[\u001b[38;5;124m'\u001b[39m\u001b[38;5;124mwhere\u001b[39m\u001b[38;5;124m'\u001b[39m] \u001b[38;5;241m=\u001b[39m where\n\u001b[0;32m    340\u001b[0m \u001b[38;5;28;01mif\u001b[39;00m \u001b[38;5;28mtype\u001b[39m(a) \u001b[38;5;129;01mis\u001b[39;00m np\u001b[38;5;241m.\u001b[39mndarray \u001b[38;5;129;01mand\u001b[39;00m a\u001b[38;5;241m.\u001b[39mdtype \u001b[38;5;241m!=\u001b[39m np\u001b[38;5;241m.\u001b[39mobject_:\n\u001b[0;32m    341\u001b[0m     \u001b[38;5;66;03m# Fast, but not safe for subclasses of ndarray, or object arrays,\u001b[39;00m\n\u001b[0;32m    342\u001b[0m     \u001b[38;5;66;03m# which do not implement isnan (gh-9009), or fmin correctly (gh-8975)\u001b[39;00m\n\u001b[1;32m--> 343\u001b[0m     res \u001b[38;5;241m=\u001b[39m \u001b[43mnp\u001b[49m\u001b[38;5;241;43m.\u001b[39;49m\u001b[43mfmin\u001b[49m\u001b[38;5;241;43m.\u001b[39;49m\u001b[43mreduce\u001b[49m\u001b[43m(\u001b[49m\u001b[43ma\u001b[49m\u001b[43m,\u001b[49m\u001b[43m \u001b[49m\u001b[43maxis\u001b[49m\u001b[38;5;241;43m=\u001b[39;49m\u001b[43maxis\u001b[49m\u001b[43m,\u001b[49m\u001b[43m \u001b[49m\u001b[43mout\u001b[49m\u001b[38;5;241;43m=\u001b[39;49m\u001b[43mout\u001b[49m\u001b[43m,\u001b[49m\u001b[43m \u001b[49m\u001b[38;5;241;43m*\u001b[39;49m\u001b[38;5;241;43m*\u001b[39;49m\u001b[43mkwargs\u001b[49m\u001b[43m)\u001b[49m\n\u001b[0;32m    344\u001b[0m     \u001b[38;5;28;01mif\u001b[39;00m np\u001b[38;5;241m.\u001b[39misnan(res)\u001b[38;5;241m.\u001b[39many():\n\u001b[0;32m    345\u001b[0m         warnings\u001b[38;5;241m.\u001b[39mwarn(\u001b[38;5;124m\"\u001b[39m\u001b[38;5;124mAll-NaN slice encountered\u001b[39m\u001b[38;5;124m\"\u001b[39m, \u001b[38;5;167;01mRuntimeWarning\u001b[39;00m,\n\u001b[0;32m    346\u001b[0m                       stacklevel\u001b[38;5;241m=\u001b[39m\u001b[38;5;241m2\u001b[39m)\n",
      "\u001b[1;31mValueError\u001b[0m: zero-size array to reduction operation fmin which has no identity"
     ]
    },
    {
     "data": {
      "image/png": "[encoded data removed]",
      "text/plain": [
       "<Figure size 640x480 with 1 Axes>"
      ]
     },
     "metadata": {},
     "output_type": "display_data"
    }
   ],
   "source": [
    "(raw\n",
    " .iloc[:,::2]\n",
    " .pipe(fix_cols)\n",
    " .resample('M') #offset alias\n",
    " .Close\n",
    " .mean()\n",
    " .plot()\n",
    ")"
   ]
  },
  {
   "cell_type": "markdown",
   "id": "f659963d-e51a-4306-8c4a-3c2e62474c31",
   "metadata": {},
   "source": [
    "#### Candlestick Plot"
   ]
  },
  {
   "cell_type": "code",
   "execution_count": 20,
   "id": "197433cc-8a4e-44bc-81ab-a8451fd5d4b0",
   "metadata": {},
   "outputs": [
    {
     "data": {
      "text/html": [
       "<div>\n",
       "<style scoped>\n",
       "    .dataframe tbody tr th:only-of-type {\n",
       "        vertical-align: middle;\n",
       "    }\n",
       "\n",
       "    .dataframe tbody tr th {\n",
       "        vertical-align: top;\n",
       "    }\n",
       "\n",
       "    .dataframe thead th {\n",
       "        text-align: right;\n",
       "    }\n",
       "</style>\n",
       "<table border=\"1\" class=\"dataframe\">\n",
       "  <thead>\n",
       "    <tr style=\"text-align: right;\">\n",
       "      <th></th>\n",
       "      <th>Open</th>\n",
       "      <th>High</th>\n",
       "      <th>Low</th>\n",
       "      <th>Close</th>\n",
       "    </tr>\n",
       "    <tr>\n",
       "      <th>Date</th>\n",
       "      <th></th>\n",
       "      <th></th>\n",
       "      <th></th>\n",
       "      <th></th>\n",
       "    </tr>\n",
       "  </thead>\n",
       "  <tbody>\n",
       "  </tbody>\n",
       "</table>\n",
       "</div>"
      ],
      "text/plain": [
       "Empty DataFrame\n",
       "Columns: [Open, High, Low, Close]\n",
       "Index: []"
      ]
     },
     "execution_count": 20,
     "metadata": {},
     "output_type": "execute_result"
    },
    {
     "data": {
      "image/png": "[encoded data removed]",
      "text/plain": [
       "<Figure size 1000x500 with 1 Axes>"
      ]
     },
     "metadata": {},
     "output_type": "display_data"
    }
   ],
   "source": [
    "fig, ax=plt.subplots(figsize=(10,5))\n",
    "def plot_candle(df,ax):\n",
    "    #wick\n",
    "    ax.vlines(x=df.index,ymin=df.Low,ymax=df.High,colors=\"k\", linewidth=1)\n",
    "    #red - decrease\n",
    "    red=df.query('Open>Close')\n",
    "    ax.vlines(x=red.index,ymin=red.Close,ymax=red.Open,colors='r',linewidth=3)\n",
    "    #green - increase\n",
    "    green=df.query('Open<=Close')\n",
    "    ax.vlines(x=green.index,ymin=green.Close,ymax=green.Open,colors='g',linewidth=3)\n",
    "\n",
    "    ax.xaxis.set_major_locator(dates.MonthLocator())\n",
    "    ax.xaxis.set_major_formatter(dates.DateFormatter('%b-%y')) #b-month y-year\n",
    "    ax.xaxis.set_minor_locator(dates.DayLocator())\n",
    "\n",
    "    return df\n",
    "\n",
    "(raw\n",
    " .iloc[:,::2]\n",
    " .pipe(fix_cols)\n",
    " .resample('d') #w-week d-day m-month\n",
    " .agg({'Open':'first','High':'max','Low':'min','Close':'last'})\n",
    " .loc['jan 2018':'jun 2018']\n",
    " .pipe(plot_candle,ax)\n",
    ")"
   ]
  },
  {
   "cell_type": "markdown",
   "id": "dd91871e-4824-46f4-bf51-26b2ed621bcd",
   "metadata": {},
   "source": [
    "#### Challenge"
   ]
  },
  {
   "cell_type": "markdown",
   "id": "0a2d932f-5547-4d0a-8f2d-a58187475934",
   "metadata": {},
   "source": [
    "Plot the Candles for the time period of Sep 2019 to Dec 2019."
   ]
  },
  {
   "cell_type": "code",
   "execution_count": 21,
   "id": "5aaea0fc-b896-4574-84cf-b51ecef489f1",
   "metadata": {},
   "outputs": [
    {
     "data": {
      "text/html": [
       "<div>\n",
       "<style scoped>\n",
       "    .dataframe tbody tr th:only-of-type {\n",
       "        vertical-align: middle;\n",
       "    }\n",
       "\n",
       "    .dataframe tbody tr th {\n",
       "        vertical-align: top;\n",
       "    }\n",
       "\n",
       "    .dataframe thead th {\n",
       "        text-align: right;\n",
       "    }\n",
       "</style>\n",
       "<table border=\"1\" class=\"dataframe\">\n",
       "  <thead>\n",
       "    <tr style=\"text-align: right;\">\n",
       "      <th></th>\n",
       "      <th>Open</th>\n",
       "      <th>High</th>\n",
       "      <th>Low</th>\n",
       "      <th>Close</th>\n",
       "    </tr>\n",
       "    <tr>\n",
       "      <th>Date</th>\n",
       "      <th></th>\n",
       "      <th></th>\n",
       "      <th></th>\n",
       "      <th></th>\n",
       "    </tr>\n",
       "  </thead>\n",
       "  <tbody>\n",
       "  </tbody>\n",
       "</table>\n",
       "</div>"
      ],
      "text/plain": [
       "Empty DataFrame\n",
       "Columns: [Open, High, Low, Close]\n",
       "Index: []"
      ]
     },
     "execution_count": 21,
     "metadata": {},
     "output_type": "execute_result"
    },
    {
     "data": {
      "image/png": "[encoded data removed]",
      "text/plain": [
       "<Figure size 1000x500 with 1 Axes>"
      ]
     },
     "metadata": {},
     "output_type": "display_data"
    }
   ],
   "source": [
    "fig, ax=plt.subplots(figsize=(10,5))\n",
    "\n",
    "(raw\n",
    " .iloc[:,::2]\n",
    " .pipe(fix_cols)\n",
    " .resample('d') #w-week d-day m-month\n",
    " .agg({'Open':'first','High':'max','Low':'min','Close':'last'})\n",
    " .loc['sep 2019':'dec 2019'] #.loc['sep 2019':'2019'] will also work since it goes till end of the year\n",
    " .pipe(plot_candle,ax)\n",
    ")"
   ]
  },
  {
   "cell_type": "markdown",
   "id": "2e13ddd9-3a0c-4bf0-ba00-62aa3e96c88d",
   "metadata": {},
   "source": [
    "The instructor re-initialized the ax object because the initial plot was not displaying correctly. The issue was that Jupyter Notebook did not create a new ax object when reusing the previous code. By re-initializing ax, the instructor ensured that a new plotting area was created, allowing the candlestick plot to display properly. This step is crucial for troubleshooting and ensuring the plot reflects the correct data range."
   ]
  },
  {
   "cell_type": "markdown",
   "id": "c88af9a7-c6d3-4583-8d90-9e630e9a12dc",
   "metadata": {},
   "source": [
    "## Calculations"
   ]
  },
  {
   "cell_type": "markdown",
   "id": "c1a526df-eb8e-4233-b80c-d41b531e12cb",
   "metadata": {},
   "source": [
    "Goal\n",
    "- Explore Pandas methods like .pct_change\n",
    "- Plotting with Pandas\n",
    "- Refactoring to functions"
   ]
  },
  {
   "cell_type": "markdown",
   "id": "1ea6868f-ef97-4bbe-839a-5c5648d8a556",
   "metadata": {},
   "source": [
    "#### Returns"
   ]
  },
  {
   "cell_type": "code",
   "execution_count": 22,
   "id": "eb58b652-94d1-493a-9173-a07ff891df56",
   "metadata": {},
   "outputs": [
    {
     "data": {
      "text/html": [
       "<div>\n",
       "<style scoped>\n",
       "    .dataframe tbody tr th:only-of-type {\n",
       "        vertical-align: middle;\n",
       "    }\n",
       "\n",
       "    .dataframe tbody tr th {\n",
       "        vertical-align: top;\n",
       "    }\n",
       "\n",
       "    .dataframe thead th {\n",
       "        text-align: right;\n",
       "    }\n",
       "</style>\n",
       "<table border=\"1\" class=\"dataframe\">\n",
       "  <thead>\n",
       "    <tr style=\"text-align: right;\">\n",
       "      <th></th>\n",
       "      <th>Adj Close</th>\n",
       "      <th>Close</th>\n",
       "      <th>High</th>\n",
       "      <th>Low</th>\n",
       "      <th>Open</th>\n",
       "      <th>Volume</th>\n",
       "    </tr>\n",
       "    <tr>\n",
       "      <th>Date</th>\n",
       "      <th></th>\n",
       "      <th></th>\n",
       "      <th></th>\n",
       "      <th></th>\n",
       "      <th></th>\n",
       "      <th></th>\n",
       "    </tr>\n",
       "  </thead>\n",
       "  <tbody>\n",
       "  </tbody>\n",
       "</table>\n",
       "</div>"
      ],
      "text/plain": [
       "Empty DataFrame\n",
       "Columns: [Adj Close, Close, High, Low, Open, Volume]\n",
       "Index: []"
      ]
     },
     "execution_count": 22,
     "metadata": {},
     "output_type": "execute_result"
    }
   ],
   "source": [
    "aapl=(raw\n",
    "      .iloc[:,::2]\n",
    "      .pipe(fix_cols))\n",
    "\n",
    "aapl"
   ]
  },
  {
   "cell_type": "code",
   "execution_count": 23,
   "id": "e51a6a9d-0928-4fae-a422-87c36120b289",
   "metadata": {},
   "outputs": [
    {
     "data": {
      "text/html": [
       "<div>\n",
       "<style scoped>\n",
       "    .dataframe tbody tr th:only-of-type {\n",
       "        vertical-align: middle;\n",
       "    }\n",
       "\n",
       "    .dataframe tbody tr th {\n",
       "        vertical-align: top;\n",
       "    }\n",
       "\n",
       "    .dataframe thead th {\n",
       "        text-align: right;\n",
       "    }\n",
       "</style>\n",
       "<table border=\"1\" class=\"dataframe\">\n",
       "  <thead>\n",
       "    <tr style=\"text-align: right;\">\n",
       "      <th></th>\n",
       "      <th>Adj Close</th>\n",
       "      <th>Close</th>\n",
       "      <th>High</th>\n",
       "      <th>Low</th>\n",
       "      <th>Open</th>\n",
       "      <th>Volume</th>\n",
       "    </tr>\n",
       "    <tr>\n",
       "      <th>Date</th>\n",
       "      <th></th>\n",
       "      <th></th>\n",
       "      <th></th>\n",
       "      <th></th>\n",
       "      <th></th>\n",
       "      <th></th>\n",
       "    </tr>\n",
       "  </thead>\n",
       "  <tbody>\n",
       "  </tbody>\n",
       "</table>\n",
       "</div>"
      ],
      "text/plain": [
       "Empty DataFrame\n",
       "Columns: [Adj Close, Close, High, Low, Open, Volume]\n",
       "Index: []"
      ]
     },
     "execution_count": 23,
     "metadata": {},
     "output_type": "execute_result"
    }
   ],
   "source": [
    "#Returns\n",
    "aapl.pct_change()"
   ]
  },
  {
   "cell_type": "code",
   "execution_count": 24,
   "id": "3f7c68a6-6dae-4de5-89c9-cf5fa01e0690",
   "metadata": {},
   "outputs": [
    {
     "data": {
      "text/plain": [
       "\u001b[1;31mSignature:\u001b[0m\n",
       "\u001b[0maapl\u001b[0m\u001b[1;33m.\u001b[0m\u001b[0mpct_change\u001b[0m\u001b[1;33m(\u001b[0m\u001b[1;33m\n",
       "\u001b[0m    \u001b[0mperiods\u001b[0m\u001b[1;33m:\u001b[0m \u001b[1;34m'int'\u001b[0m \u001b[1;33m=\u001b[0m \u001b[1;36m1\u001b[0m\u001b[1;33m,\u001b[0m\u001b[1;33m\n",
       "\u001b[0m    \u001b[0mfill_method\u001b[0m\u001b[1;33m:\u001b[0m \u001b[1;34m'FillnaOptions | None | lib.NoDefault'\u001b[0m \u001b[1;33m=\u001b[0m \u001b[1;33m<\u001b[0m\u001b[0mno_default\u001b[0m\u001b[1;33m>\u001b[0m\u001b[1;33m,\u001b[0m\u001b[1;33m\n",
       "\u001b[0m    \u001b[0mlimit\u001b[0m\u001b[1;33m:\u001b[0m \u001b[1;34m'int | None | lib.NoDefault'\u001b[0m \u001b[1;33m=\u001b[0m \u001b[1;33m<\u001b[0m\u001b[0mno_default\u001b[0m\u001b[1;33m>\u001b[0m\u001b[1;33m,\u001b[0m\u001b[1;33m\n",
       "\u001b[0m    \u001b[0mfreq\u001b[0m\u001b[1;33m=\u001b[0m\u001b[1;32mNone\u001b[0m\u001b[1;33m,\u001b[0m\u001b[1;33m\n",
       "\u001b[0m    \u001b[1;33m**\u001b[0m\u001b[0mkwargs\u001b[0m\u001b[1;33m,\u001b[0m\u001b[1;33m\n",
       "\u001b[0m\u001b[1;33m)\u001b[0m \u001b[1;33m->\u001b[0m \u001b[1;34m'Self'\u001b[0m\u001b[1;33m\u001b[0m\u001b[1;33m\u001b[0m\u001b[0m\n",
       "\u001b[1;31mDocstring:\u001b[0m\n",
       "Fractional change between the current and a prior element.\n",
       "\n",
       "Computes the fractional change from the immediately previous row by\n",
       "default. This is useful in comparing the fraction of change in a time\n",
       "series of elements.\n",
       "\n",
       ".. note::\n",
       "\n",
       "    Despite the name of this method, it calculates fractional change\n",
       "    (also known as per unit change or relative change) and not\n",
       "    percentage change. If you need the percentage change, multiply\n",
       "    these values by 100.\n",
       "\n",
       "Parameters\n",
       "----------\n",
       "periods : int, default 1\n",
       "    Periods to shift for forming percent change.\n",
       "fill_method : {'backfill', 'bfill', 'pad', 'ffill', None}, default 'pad'\n",
       "    How to handle NAs **before** computing percent changes.\n",
       "\n",
       "    .. deprecated:: 2.1\n",
       "        All options of `fill_method` are deprecated except `fill_method=None`.\n",
       "\n",
       "limit : int, default None\n",
       "    The number of consecutive NAs to fill before stopping.\n",
       "\n",
       "    .. deprecated:: 2.1\n",
       "\n",
       "freq : DateOffset, timedelta, or str, optional\n",
       "    Increment to use from time series API (e.g. 'ME' or BDay()).\n",
       "**kwargs\n",
       "    Additional keyword arguments are passed into\n",
       "    `DataFrame.shift` or `Series.shift`.\n",
       "\n",
       "Returns\n",
       "-------\n",
       "Series or DataFrame\n",
       "    The same type as the calling object.\n",
       "\n",
       "See Also\n",
       "--------\n",
       "Series.diff : Compute the difference of two elements in a Series.\n",
       "DataFrame.diff : Compute the difference of two elements in a DataFrame.\n",
       "Series.shift : Shift the index by some number of periods.\n",
       "DataFrame.shift : Shift the index by some number of periods.\n",
       "\n",
       "Examples\n",
       "--------\n",
       "**Series**\n",
       "\n",
       ">>> s = pd.Series([90, 91, 85])\n",
       ">>> s\n",
       "0    90\n",
       "1    91\n",
       "2    85\n",
       "dtype: int64\n",
       "\n",
       ">>> s.pct_change()\n",
       "0         NaN\n",
       "1    0.011111\n",
       "2   -0.065934\n",
       "dtype: float64\n",
       "\n",
       ">>> s.pct_change(periods=2)\n",
       "0         NaN\n",
       "1         NaN\n",
       "2   -0.055556\n",
       "dtype: float64\n",
       "\n",
       "See the percentage change in a Series where filling NAs with last\n",
       "valid observation forward to next valid.\n",
       "\n",
       ">>> s = pd.Series([90, 91, None, 85])\n",
       ">>> s\n",
       "0    90.0\n",
       "1    91.0\n",
       "2     NaN\n",
       "3    85.0\n",
       "dtype: float64\n",
       "\n",
       ">>> s.ffill().pct_change()\n",
       "0         NaN\n",
       "1    0.011111\n",
       "2    0.000000\n",
       "3   -0.065934\n",
       "dtype: float64\n",
       "\n",
       "**DataFrame**\n",
       "\n",
       "Percentage change in French franc, Deutsche Mark, and Italian lira from\n",
       "1980-01-01 to 1980-03-01.\n",
       "\n",
       ">>> df = pd.DataFrame({\n",
       "...     'FR': [4.0405, 4.0963, 4.3149],\n",
       "...     'GR': [1.7246, 1.7482, 1.8519],\n",
       "...     'IT': [804.74, 810.01, 860.13]},\n",
       "...     index=['1980-01-01', '1980-02-01', '1980-03-01'])\n",
       ">>> df\n",
       "                FR      GR      IT\n",
       "1980-01-01  4.0405  1.7246  804.74\n",
       "1980-02-01  4.0963  1.7482  810.01\n",
       "1980-03-01  4.3149  1.8519  860.13\n",
       "\n",
       ">>> df.pct_change()\n",
       "                  FR        GR        IT\n",
       "1980-01-01       NaN       NaN       NaN\n",
       "1980-02-01  0.013810  0.013684  0.006549\n",
       "1980-03-01  0.053365  0.059318  0.061876\n",
       "\n",
       "Percentage of change in GOOG and APPL stock volume. Shows computing\n",
       "the percentage change between columns.\n",
       "\n",
       ">>> df = pd.DataFrame({\n",
       "...     '2016': [1769950, 30586265],\n",
       "...     '2015': [1500923, 40912316],\n",
       "...     '2014': [1371819, 41403351]},\n",
       "...     index=['GOOG', 'APPL'])\n",
       ">>> df\n",
       "          2016      2015      2014\n",
       "GOOG   1769950   1500923   1371819\n",
       "APPL  30586265  40912316  41403351\n",
       "\n",
       ">>> df.pct_change(axis='columns', periods=-1)\n",
       "          2016      2015  2014\n",
       "GOOG  0.179241  0.094112   NaN\n",
       "APPL -0.252395 -0.011860   NaN\n",
       "\u001b[1;31mFile:\u001b[0m      d:\\python\\lib\\site-packages\\pandas\\core\\generic.py\n",
       "\u001b[1;31mType:\u001b[0m      method"
      ]
     },
     "metadata": {},
     "output_type": "display_data"
    }
   ],
   "source": [
    "aapl.pct_change?"
   ]
  },
  {
   "cell_type": "markdown",
   "id": "99f0a521-864a-461f-b355-183557a26f47",
   "metadata": {},
   "source": [
    "#### Plotting Returns"
   ]
  },
  {
   "cell_type": "code",
   "execution_count": 25,
   "id": "c01b601b-027b-4627-877b-da2e189f6de5",
   "metadata": {},
   "outputs": [
    {
     "data": {
      "text/plain": [
       "<Axes: xlabel='Date'>"
      ]
     },
     "execution_count": 25,
     "metadata": {},
     "output_type": "execute_result"
    },
    {
     "data": {
      "image/png": "[encoded data removed]",
      "text/plain": [
       "<Figure size 640x480 with 1 Axes>"
      ]
     },
     "metadata": {},
     "output_type": "display_data"
    }
   ],
   "source": [
    "# Plot Returns\n",
    "(aapl\n",
    " .pct_change()\n",
    " .Close\n",
    " .plot()\n",
    ")"
   ]
  },
  {
   "cell_type": "code",
   "execution_count": 26,
   "id": "65ec90b1-c37a-42e0-8f57-397ff3490711",
   "metadata": {},
   "outputs": [
    {
     "data": {
      "text/plain": [
       "<Axes: >"
      ]
     },
     "execution_count": 26,
     "metadata": {},
     "output_type": "execute_result"
    },
    {
     "data": {
      "image/png": "[encoded data removed]",
      "text/plain": [
       "<Figure size 640x480 with 1 Axes>"
      ]
     },
     "metadata": {},
     "output_type": "display_data"
    }
   ],
   "source": [
    "# Histogram of Returns\n",
    "(aapl\n",
    " .pct_change()\n",
    " .Close\n",
    " .hist()\n",
    ")"
   ]
  },
  {
   "cell_type": "code",
   "execution_count": 27,
   "id": "4d73a139-9cc8-4fd7-afb9-3766d1fd464a",
   "metadata": {},
   "outputs": [
    {
     "data": {
      "text/plain": [
       "<Axes: >"
      ]
     },
     "execution_count": 27,
     "metadata": {},
     "output_type": "execute_result"
    },
    {
     "data": {
      "image/png": "[encoded data removed]",
      "text/plain": [
       "<Figure size 640x480 with 1 Axes>"
      ]
     },
     "metadata": {},
     "output_type": "display_data"
    }
   ],
   "source": [
    "# Change bins\n",
    "(aapl\n",
    " .pct_change()\n",
    " .Close\n",
    " .hist(bins=30)\n",
    ")"
   ]
  },
  {
   "cell_type": "code",
   "execution_count": 28,
   "id": "a689a3ca-a0aa-45d1-aeab-152284050cba",
   "metadata": {},
   "outputs": [
    {
     "ename": "IndexError",
     "evalue": "index 0 is out of bounds for axis 0 with size 0",
     "output_type": "error",
     "traceback": [
      "\u001b[1;31m---------------------------------------------------------------------------\u001b[0m",
      "\u001b[1;31mIndexError\u001b[0m                                Traceback (most recent call last)",
      "Cell \u001b[1;32mIn[28], line 7\u001b[0m\n\u001b[0;32m      1\u001b[0m \u001b[38;5;66;03m# Understanding plotting in Pandas is a huge lever\u001b[39;00m\n\u001b[0;32m      2\u001b[0m \u001b[38;5;66;03m# Bar Plot Returns\u001b[39;00m\n\u001b[0;32m      3\u001b[0m (\u001b[43maapl\u001b[49m\n\u001b[0;32m      4\u001b[0m \u001b[43m \u001b[49m\u001b[38;5;241;43m.\u001b[39;49m\u001b[43mpct_change\u001b[49m\u001b[43m(\u001b[49m\u001b[43m)\u001b[49m\n\u001b[0;32m      5\u001b[0m \u001b[43m \u001b[49m\u001b[38;5;241;43m.\u001b[39;49m\u001b[43mClose\u001b[49m\n\u001b[0;32m      6\u001b[0m \u001b[43m \u001b[49m\u001b[38;5;241;43m.\u001b[39;49m\u001b[43miloc\u001b[49m\u001b[43m[\u001b[49m\u001b[38;5;241;43m-\u001b[39;49m\u001b[38;5;241;43m100\u001b[39;49m\u001b[43m:\u001b[49m\u001b[43m]\u001b[49m\u001b[43m \u001b[49m\u001b[38;5;66;43;03m#last 100 rows\u001b[39;49;00m\n\u001b[1;32m----> 7\u001b[0m \u001b[43m \u001b[49m\u001b[38;5;241;43m.\u001b[39;49m\u001b[43mplot\u001b[49m\u001b[38;5;241;43m.\u001b[39;49m\u001b[43mbar\u001b[49m\u001b[43m(\u001b[49m\u001b[43m)\u001b[49m\n\u001b[0;32m      8\u001b[0m )\n",
      "File \u001b[1;32mD:\\Python\\Lib\\site-packages\\pandas\\plotting\\_core.py:1192\u001b[0m, in \u001b[0;36mPlotAccessor.bar\u001b[1;34m(self, x, y, **kwargs)\u001b[0m\n\u001b[0;32m   1102\u001b[0m \u001b[38;5;129m@Appender\u001b[39m(\n\u001b[0;32m   1103\u001b[0m \u001b[38;5;250m    \u001b[39m\u001b[38;5;124;03m\"\"\"\u001b[39;00m\n\u001b[0;32m   1104\u001b[0m \u001b[38;5;124;03m    See Also\u001b[39;00m\n\u001b[1;32m   (...)\u001b[0m\n\u001b[0;32m   1181\u001b[0m     \u001b[38;5;28mself\u001b[39m, x: Hashable \u001b[38;5;241m|\u001b[39m \u001b[38;5;28;01mNone\u001b[39;00m \u001b[38;5;241m=\u001b[39m \u001b[38;5;28;01mNone\u001b[39;00m, y: Hashable \u001b[38;5;241m|\u001b[39m \u001b[38;5;28;01mNone\u001b[39;00m \u001b[38;5;241m=\u001b[39m \u001b[38;5;28;01mNone\u001b[39;00m, \u001b[38;5;241m*\u001b[39m\u001b[38;5;241m*\u001b[39mkwargs\n\u001b[0;32m   1182\u001b[0m ) \u001b[38;5;241m-\u001b[39m\u001b[38;5;241m>\u001b[39m PlotAccessor:\n\u001b[0;32m   1183\u001b[0m \u001b[38;5;250m    \u001b[39m\u001b[38;5;124;03m\"\"\"\u001b[39;00m\n\u001b[0;32m   1184\u001b[0m \u001b[38;5;124;03m    Vertical bar plot.\u001b[39;00m\n\u001b[0;32m   1185\u001b[0m \n\u001b[1;32m   (...)\u001b[0m\n\u001b[0;32m   1190\u001b[0m \u001b[38;5;124;03m    other axis represents a measured value.\u001b[39;00m\n\u001b[0;32m   1191\u001b[0m \u001b[38;5;124;03m    \"\"\"\u001b[39;00m\n\u001b[1;32m-> 1192\u001b[0m     \u001b[38;5;28;01mreturn\u001b[39;00m \u001b[38;5;28;43mself\u001b[39;49m\u001b[43m(\u001b[49m\u001b[43mkind\u001b[49m\u001b[38;5;241;43m=\u001b[39;49m\u001b[38;5;124;43m\"\u001b[39;49m\u001b[38;5;124;43mbar\u001b[39;49m\u001b[38;5;124;43m\"\u001b[39;49m\u001b[43m,\u001b[49m\u001b[43m \u001b[49m\u001b[43mx\u001b[49m\u001b[38;5;241;43m=\u001b[39;49m\u001b[43mx\u001b[49m\u001b[43m,\u001b[49m\u001b[43m \u001b[49m\u001b[43my\u001b[49m\u001b[38;5;241;43m=\u001b[39;49m\u001b[43my\u001b[49m\u001b[43m,\u001b[49m\u001b[43m \u001b[49m\u001b[38;5;241;43m*\u001b[39;49m\u001b[38;5;241;43m*\u001b[39;49m\u001b[43mkwargs\u001b[49m\u001b[43m)\u001b[49m\n",
      "File \u001b[1;32mD:\\Python\\Lib\\site-packages\\pandas\\plotting\\_core.py:1030\u001b[0m, in \u001b[0;36mPlotAccessor.__call__\u001b[1;34m(self, *args, **kwargs)\u001b[0m\n\u001b[0;32m   1027\u001b[0m             label_name \u001b[38;5;241m=\u001b[39m label_kw \u001b[38;5;129;01mor\u001b[39;00m data\u001b[38;5;241m.\u001b[39mcolumns\n\u001b[0;32m   1028\u001b[0m             data\u001b[38;5;241m.\u001b[39mcolumns \u001b[38;5;241m=\u001b[39m label_name\n\u001b[1;32m-> 1030\u001b[0m \u001b[38;5;28;01mreturn\u001b[39;00m \u001b[43mplot_backend\u001b[49m\u001b[38;5;241;43m.\u001b[39;49m\u001b[43mplot\u001b[49m\u001b[43m(\u001b[49m\u001b[43mdata\u001b[49m\u001b[43m,\u001b[49m\u001b[43m \u001b[49m\u001b[43mkind\u001b[49m\u001b[38;5;241;43m=\u001b[39;49m\u001b[43mkind\u001b[49m\u001b[43m,\u001b[49m\u001b[43m \u001b[49m\u001b[38;5;241;43m*\u001b[39;49m\u001b[38;5;241;43m*\u001b[39;49m\u001b[43mkwargs\u001b[49m\u001b[43m)\u001b[49m\n",
      "File \u001b[1;32mD:\\Python\\Lib\\site-packages\\pandas\\plotting\\_matplotlib\\__init__.py:71\u001b[0m, in \u001b[0;36mplot\u001b[1;34m(data, kind, **kwargs)\u001b[0m\n\u001b[0;32m     69\u001b[0m         kwargs[\u001b[38;5;124m\"\u001b[39m\u001b[38;5;124max\u001b[39m\u001b[38;5;124m\"\u001b[39m] \u001b[38;5;241m=\u001b[39m \u001b[38;5;28mgetattr\u001b[39m(ax, \u001b[38;5;124m\"\u001b[39m\u001b[38;5;124mleft_ax\u001b[39m\u001b[38;5;124m\"\u001b[39m, ax)\n\u001b[0;32m     70\u001b[0m plot_obj \u001b[38;5;241m=\u001b[39m PLOT_CLASSES[kind](data, \u001b[38;5;241m*\u001b[39m\u001b[38;5;241m*\u001b[39mkwargs)\n\u001b[1;32m---> 71\u001b[0m \u001b[43mplot_obj\u001b[49m\u001b[38;5;241;43m.\u001b[39;49m\u001b[43mgenerate\u001b[49m\u001b[43m(\u001b[49m\u001b[43m)\u001b[49m\n\u001b[0;32m     72\u001b[0m plot_obj\u001b[38;5;241m.\u001b[39mdraw()\n\u001b[0;32m     73\u001b[0m \u001b[38;5;28;01mreturn\u001b[39;00m plot_obj\u001b[38;5;241m.\u001b[39mresult\n",
      "File \u001b[1;32mD:\\Python\\Lib\\site-packages\\pandas\\plotting\\_matplotlib\\core.py:508\u001b[0m, in \u001b[0;36mMPLPlot.generate\u001b[1;34m(self)\u001b[0m\n\u001b[0;32m    506\u001b[0m \u001b[38;5;28;01mfor\u001b[39;00m ax \u001b[38;5;129;01min\u001b[39;00m \u001b[38;5;28mself\u001b[39m\u001b[38;5;241m.\u001b[39maxes:\n\u001b[0;32m    507\u001b[0m     \u001b[38;5;28mself\u001b[39m\u001b[38;5;241m.\u001b[39m_post_plot_logic_common(ax)\n\u001b[1;32m--> 508\u001b[0m     \u001b[38;5;28;43mself\u001b[39;49m\u001b[38;5;241;43m.\u001b[39;49m\u001b[43m_post_plot_logic\u001b[49m\u001b[43m(\u001b[49m\u001b[43max\u001b[49m\u001b[43m,\u001b[49m\u001b[43m \u001b[49m\u001b[38;5;28;43mself\u001b[39;49m\u001b[38;5;241;43m.\u001b[39;49m\u001b[43mdata\u001b[49m\u001b[43m)\u001b[49m\n",
      "File \u001b[1;32mD:\\Python\\Lib\\site-packages\\pandas\\plotting\\_matplotlib\\core.py:1966\u001b[0m, in \u001b[0;36mBarPlot._post_plot_logic\u001b[1;34m(self, ax, data)\u001b[0m\n\u001b[0;32m   1963\u001b[0m \u001b[38;5;28;01melse\u001b[39;00m:\n\u001b[0;32m   1964\u001b[0m     str_index \u001b[38;5;241m=\u001b[39m [pprint_thing(key) \u001b[38;5;28;01mfor\u001b[39;00m key \u001b[38;5;129;01min\u001b[39;00m \u001b[38;5;28mrange\u001b[39m(data\u001b[38;5;241m.\u001b[39mshape[\u001b[38;5;241m0\u001b[39m])]\n\u001b[1;32m-> 1966\u001b[0m s_edge \u001b[38;5;241m=\u001b[39m \u001b[38;5;28;43mself\u001b[39;49m\u001b[38;5;241;43m.\u001b[39;49m\u001b[43max_pos\u001b[49m\u001b[43m[\u001b[49m\u001b[38;5;241;43m0\u001b[39;49m\u001b[43m]\u001b[49m \u001b[38;5;241m-\u001b[39m \u001b[38;5;241m0.25\u001b[39m \u001b[38;5;241m+\u001b[39m \u001b[38;5;28mself\u001b[39m\u001b[38;5;241m.\u001b[39mlim_offset\n\u001b[0;32m   1967\u001b[0m e_edge \u001b[38;5;241m=\u001b[39m \u001b[38;5;28mself\u001b[39m\u001b[38;5;241m.\u001b[39max_pos[\u001b[38;5;241m-\u001b[39m\u001b[38;5;241m1\u001b[39m] \u001b[38;5;241m+\u001b[39m \u001b[38;5;241m0.25\u001b[39m \u001b[38;5;241m+\u001b[39m \u001b[38;5;28mself\u001b[39m\u001b[38;5;241m.\u001b[39mbar_width \u001b[38;5;241m+\u001b[39m \u001b[38;5;28mself\u001b[39m\u001b[38;5;241m.\u001b[39mlim_offset\n\u001b[0;32m   1969\u001b[0m \u001b[38;5;28mself\u001b[39m\u001b[38;5;241m.\u001b[39m_decorate_ticks(ax, \u001b[38;5;28mself\u001b[39m\u001b[38;5;241m.\u001b[39m_get_index_name(), str_index, s_edge, e_edge)\n",
      "\u001b[1;31mIndexError\u001b[0m: index 0 is out of bounds for axis 0 with size 0"
     ]
    },
    {
     "data": {
      "image/png": "[encoded data removed]",
      "text/plain": [
       "<Figure size 640x480 with 1 Axes>"
      ]
     },
     "metadata": {},
     "output_type": "display_data"
    }
   ],
   "source": [
    "# Understanding plotting in Pandas is a huge lever\n",
    "# Bar Plot Returns\n",
    "(aapl\n",
    " .pct_change()\n",
    " .Close\n",
    " .iloc[-100:] #last 100 rows\n",
    " .plot.bar()\n",
    ")"
   ]
  },
  {
   "cell_type": "code",
   "execution_count": 29,
   "id": "6d42bdcb-9203-44f0-8e90-fe32b0a7ae78",
   "metadata": {},
   "outputs": [
    {
     "ename": "IndexError",
     "evalue": "index 0 is out of bounds for axis 0 with size 0",
     "output_type": "error",
     "traceback": [
      "\u001b[1;31m---------------------------------------------------------------------------\u001b[0m",
      "\u001b[1;31mIndexError\u001b[0m                                Traceback (most recent call last)",
      "Cell \u001b[1;32mIn[29], line 9\u001b[0m\n\u001b[0;32m      1\u001b[0m \u001b[38;5;66;03m# Bar Plot of Returns\u001b[39;00m\n\u001b[0;32m      2\u001b[0m \u001b[38;5;66;03m# Sadly dates are broken with pandas bar plots\u001b[39;00m\n\u001b[0;32m      3\u001b[0m \u001b[38;5;66;03m# 1970s?\u001b[39;00m\n\u001b[0;32m      4\u001b[0m fig, ax\u001b[38;5;241m=\u001b[39mplt\u001b[38;5;241m.\u001b[39msubplots(figsize\u001b[38;5;241m=\u001b[39m(\u001b[38;5;241m10\u001b[39m,\u001b[38;5;241m4\u001b[39m))\n\u001b[0;32m      5\u001b[0m (\u001b[43maapl\u001b[49m\n\u001b[0;32m      6\u001b[0m \u001b[43m \u001b[49m\u001b[38;5;241;43m.\u001b[39;49m\u001b[43mpct_change\u001b[49m\u001b[43m(\u001b[49m\u001b[43m)\u001b[49m\n\u001b[0;32m      7\u001b[0m \u001b[43m \u001b[49m\u001b[38;5;241;43m.\u001b[39;49m\u001b[43mClose\u001b[49m\n\u001b[0;32m      8\u001b[0m \u001b[43m \u001b[49m\u001b[38;5;241;43m.\u001b[39;49m\u001b[43miloc\u001b[49m\u001b[43m[\u001b[49m\u001b[38;5;241;43m-\u001b[39;49m\u001b[38;5;241;43m100\u001b[39;49m\u001b[43m:\u001b[49m\u001b[43m]\u001b[49m\u001b[43m \u001b[49m\u001b[38;5;66;43;03m#last 100 rows\u001b[39;49;00m\n\u001b[1;32m----> 9\u001b[0m \u001b[43m \u001b[49m\u001b[38;5;241;43m.\u001b[39;49m\u001b[43mplot\u001b[49m\u001b[38;5;241;43m.\u001b[39;49m\u001b[43mbar\u001b[49m\u001b[43m(\u001b[49m\u001b[43max\u001b[49m\u001b[38;5;241;43m=\u001b[39;49m\u001b[43max\u001b[49m\u001b[43m)\u001b[49m\n\u001b[0;32m     10\u001b[0m )\n\u001b[0;32m     12\u001b[0m ax\u001b[38;5;241m.\u001b[39mxaxis\u001b[38;5;241m.\u001b[39mset_major_locator(dates\u001b[38;5;241m.\u001b[39mMonthLocator())\n\u001b[0;32m     13\u001b[0m ax\u001b[38;5;241m.\u001b[39mxaxis\u001b[38;5;241m.\u001b[39mset_major_formatter(dates\u001b[38;5;241m.\u001b[39mDateFormatter(\u001b[38;5;124m'\u001b[39m\u001b[38;5;124m%\u001b[39m\u001b[38;5;124mb-\u001b[39m\u001b[38;5;124m%\u001b[39m\u001b[38;5;124my\u001b[39m\u001b[38;5;124m'\u001b[39m))\n",
      "File \u001b[1;32mD:\\Python\\Lib\\site-packages\\pandas\\plotting\\_core.py:1192\u001b[0m, in \u001b[0;36mPlotAccessor.bar\u001b[1;34m(self, x, y, **kwargs)\u001b[0m\n\u001b[0;32m   1102\u001b[0m \u001b[38;5;129m@Appender\u001b[39m(\n\u001b[0;32m   1103\u001b[0m \u001b[38;5;250m    \u001b[39m\u001b[38;5;124;03m\"\"\"\u001b[39;00m\n\u001b[0;32m   1104\u001b[0m \u001b[38;5;124;03m    See Also\u001b[39;00m\n\u001b[1;32m   (...)\u001b[0m\n\u001b[0;32m   1181\u001b[0m     \u001b[38;5;28mself\u001b[39m, x: Hashable \u001b[38;5;241m|\u001b[39m \u001b[38;5;28;01mNone\u001b[39;00m \u001b[38;5;241m=\u001b[39m \u001b[38;5;28;01mNone\u001b[39;00m, y: Hashable \u001b[38;5;241m|\u001b[39m \u001b[38;5;28;01mNone\u001b[39;00m \u001b[38;5;241m=\u001b[39m \u001b[38;5;28;01mNone\u001b[39;00m, \u001b[38;5;241m*\u001b[39m\u001b[38;5;241m*\u001b[39mkwargs\n\u001b[0;32m   1182\u001b[0m ) \u001b[38;5;241m-\u001b[39m\u001b[38;5;241m>\u001b[39m PlotAccessor:\n\u001b[0;32m   1183\u001b[0m \u001b[38;5;250m    \u001b[39m\u001b[38;5;124;03m\"\"\"\u001b[39;00m\n\u001b[0;32m   1184\u001b[0m \u001b[38;5;124;03m    Vertical bar plot.\u001b[39;00m\n\u001b[0;32m   1185\u001b[0m \n\u001b[1;32m   (...)\u001b[0m\n\u001b[0;32m   1190\u001b[0m \u001b[38;5;124;03m    other axis represents a measured value.\u001b[39;00m\n\u001b[0;32m   1191\u001b[0m \u001b[38;5;124;03m    \"\"\"\u001b[39;00m\n\u001b[1;32m-> 1192\u001b[0m     \u001b[38;5;28;01mreturn\u001b[39;00m \u001b[38;5;28;43mself\u001b[39;49m\u001b[43m(\u001b[49m\u001b[43mkind\u001b[49m\u001b[38;5;241;43m=\u001b[39;49m\u001b[38;5;124;43m\"\u001b[39;49m\u001b[38;5;124;43mbar\u001b[39;49m\u001b[38;5;124;43m\"\u001b[39;49m\u001b[43m,\u001b[49m\u001b[43m \u001b[49m\u001b[43mx\u001b[49m\u001b[38;5;241;43m=\u001b[39;49m\u001b[43mx\u001b[49m\u001b[43m,\u001b[49m\u001b[43m \u001b[49m\u001b[43my\u001b[49m\u001b[38;5;241;43m=\u001b[39;49m\u001b[43my\u001b[49m\u001b[43m,\u001b[49m\u001b[43m \u001b[49m\u001b[38;5;241;43m*\u001b[39;49m\u001b[38;5;241;43m*\u001b[39;49m\u001b[43mkwargs\u001b[49m\u001b[43m)\u001b[49m\n",
      "File \u001b[1;32mD:\\Python\\Lib\\site-packages\\pandas\\plotting\\_core.py:1030\u001b[0m, in \u001b[0;36mPlotAccessor.__call__\u001b[1;34m(self, *args, **kwargs)\u001b[0m\n\u001b[0;32m   1027\u001b[0m             label_name \u001b[38;5;241m=\u001b[39m label_kw \u001b[38;5;129;01mor\u001b[39;00m data\u001b[38;5;241m.\u001b[39mcolumns\n\u001b[0;32m   1028\u001b[0m             data\u001b[38;5;241m.\u001b[39mcolumns \u001b[38;5;241m=\u001b[39m label_name\n\u001b[1;32m-> 1030\u001b[0m \u001b[38;5;28;01mreturn\u001b[39;00m \u001b[43mplot_backend\u001b[49m\u001b[38;5;241;43m.\u001b[39;49m\u001b[43mplot\u001b[49m\u001b[43m(\u001b[49m\u001b[43mdata\u001b[49m\u001b[43m,\u001b[49m\u001b[43m \u001b[49m\u001b[43mkind\u001b[49m\u001b[38;5;241;43m=\u001b[39;49m\u001b[43mkind\u001b[49m\u001b[43m,\u001b[49m\u001b[43m \u001b[49m\u001b[38;5;241;43m*\u001b[39;49m\u001b[38;5;241;43m*\u001b[39;49m\u001b[43mkwargs\u001b[49m\u001b[43m)\u001b[49m\n",
      "File \u001b[1;32mD:\\Python\\Lib\\site-packages\\pandas\\plotting\\_matplotlib\\__init__.py:71\u001b[0m, in \u001b[0;36mplot\u001b[1;34m(data, kind, **kwargs)\u001b[0m\n\u001b[0;32m     69\u001b[0m         kwargs[\u001b[38;5;124m\"\u001b[39m\u001b[38;5;124max\u001b[39m\u001b[38;5;124m\"\u001b[39m] \u001b[38;5;241m=\u001b[39m \u001b[38;5;28mgetattr\u001b[39m(ax, \u001b[38;5;124m\"\u001b[39m\u001b[38;5;124mleft_ax\u001b[39m\u001b[38;5;124m\"\u001b[39m, ax)\n\u001b[0;32m     70\u001b[0m plot_obj \u001b[38;5;241m=\u001b[39m PLOT_CLASSES[kind](data, \u001b[38;5;241m*\u001b[39m\u001b[38;5;241m*\u001b[39mkwargs)\n\u001b[1;32m---> 71\u001b[0m \u001b[43mplot_obj\u001b[49m\u001b[38;5;241;43m.\u001b[39;49m\u001b[43mgenerate\u001b[49m\u001b[43m(\u001b[49m\u001b[43m)\u001b[49m\n\u001b[0;32m     72\u001b[0m plot_obj\u001b[38;5;241m.\u001b[39mdraw()\n\u001b[0;32m     73\u001b[0m \u001b[38;5;28;01mreturn\u001b[39;00m plot_obj\u001b[38;5;241m.\u001b[39mresult\n",
      "File \u001b[1;32mD:\\Python\\Lib\\site-packages\\pandas\\plotting\\_matplotlib\\core.py:508\u001b[0m, in \u001b[0;36mMPLPlot.generate\u001b[1;34m(self)\u001b[0m\n\u001b[0;32m    506\u001b[0m \u001b[38;5;28;01mfor\u001b[39;00m ax \u001b[38;5;129;01min\u001b[39;00m \u001b[38;5;28mself\u001b[39m\u001b[38;5;241m.\u001b[39maxes:\n\u001b[0;32m    507\u001b[0m     \u001b[38;5;28mself\u001b[39m\u001b[38;5;241m.\u001b[39m_post_plot_logic_common(ax)\n\u001b[1;32m--> 508\u001b[0m     \u001b[38;5;28;43mself\u001b[39;49m\u001b[38;5;241;43m.\u001b[39;49m\u001b[43m_post_plot_logic\u001b[49m\u001b[43m(\u001b[49m\u001b[43max\u001b[49m\u001b[43m,\u001b[49m\u001b[43m \u001b[49m\u001b[38;5;28;43mself\u001b[39;49m\u001b[38;5;241;43m.\u001b[39;49m\u001b[43mdata\u001b[49m\u001b[43m)\u001b[49m\n",
      "File \u001b[1;32mD:\\Python\\Lib\\site-packages\\pandas\\plotting\\_matplotlib\\core.py:1966\u001b[0m, in \u001b[0;36mBarPlot._post_plot_logic\u001b[1;34m(self, ax, data)\u001b[0m\n\u001b[0;32m   1963\u001b[0m \u001b[38;5;28;01melse\u001b[39;00m:\n\u001b[0;32m   1964\u001b[0m     str_index \u001b[38;5;241m=\u001b[39m [pprint_thing(key) \u001b[38;5;28;01mfor\u001b[39;00m key \u001b[38;5;129;01min\u001b[39;00m \u001b[38;5;28mrange\u001b[39m(data\u001b[38;5;241m.\u001b[39mshape[\u001b[38;5;241m0\u001b[39m])]\n\u001b[1;32m-> 1966\u001b[0m s_edge \u001b[38;5;241m=\u001b[39m \u001b[38;5;28;43mself\u001b[39;49m\u001b[38;5;241;43m.\u001b[39;49m\u001b[43max_pos\u001b[49m\u001b[43m[\u001b[49m\u001b[38;5;241;43m0\u001b[39;49m\u001b[43m]\u001b[49m \u001b[38;5;241m-\u001b[39m \u001b[38;5;241m0.25\u001b[39m \u001b[38;5;241m+\u001b[39m \u001b[38;5;28mself\u001b[39m\u001b[38;5;241m.\u001b[39mlim_offset\n\u001b[0;32m   1967\u001b[0m e_edge \u001b[38;5;241m=\u001b[39m \u001b[38;5;28mself\u001b[39m\u001b[38;5;241m.\u001b[39max_pos[\u001b[38;5;241m-\u001b[39m\u001b[38;5;241m1\u001b[39m] \u001b[38;5;241m+\u001b[39m \u001b[38;5;241m0.25\u001b[39m \u001b[38;5;241m+\u001b[39m \u001b[38;5;28mself\u001b[39m\u001b[38;5;241m.\u001b[39mbar_width \u001b[38;5;241m+\u001b[39m \u001b[38;5;28mself\u001b[39m\u001b[38;5;241m.\u001b[39mlim_offset\n\u001b[0;32m   1969\u001b[0m \u001b[38;5;28mself\u001b[39m\u001b[38;5;241m.\u001b[39m_decorate_ticks(ax, \u001b[38;5;28mself\u001b[39m\u001b[38;5;241m.\u001b[39m_get_index_name(), str_index, s_edge, e_edge)\n",
      "\u001b[1;31mIndexError\u001b[0m: index 0 is out of bounds for axis 0 with size 0"
     ]
    },
    {
     "data": {
      "image/png": "[encoded data removed]",
      "text/plain": [
       "<Figure size 1000x400 with 1 Axes>"
      ]
     },
     "metadata": {},
     "output_type": "display_data"
    }
   ],
   "source": [
    "# Bar Plot of Returns\n",
    "# Sadly dates are broken with pandas bar plots\n",
    "# 1970s?\n",
    "fig, ax=plt.subplots(figsize=(10,4))\n",
    "(aapl\n",
    " .pct_change()\n",
    " .Close\n",
    " .iloc[-100:] #last 100 rows\n",
    " .plot.bar(ax=ax)\n",
    ")\n",
    "\n",
    "ax.xaxis.set_major_locator(dates.MonthLocator())\n",
    "ax.xaxis.set_major_formatter(dates.DateFormatter('%b-%y'))\n",
    "ax.xaxis.set_minor_locator(dates.DayLocator())"
   ]
  },
  {
   "cell_type": "markdown",
   "id": "4c07663b-adfd-4e95-a171-57f73669abeb",
   "metadata": {},
   "source": [
    "In the \"Plotting returns\" video, the instructor mentions a bug in Pandas related to bar plots. When you create a bar plot in Pandas, it converts the dates in the index to categorical values. This can cause issues with date formatting on the x-axis, making the plot less readable. To address this, the instructor suggests using Matplotlib directly for bar plots, as it handles date formatting correctly."
   ]
  },
  {
   "cell_type": "code",
   "execution_count": 30,
   "id": "4df005dd-895f-4db2-8415-653b3eee5158",
   "metadata": {},
   "outputs": [
    {
     "data": {
      "image/png": "[encoded data removed]",
      "text/plain": [
       "<Figure size 1000x400 with 1 Axes>"
      ]
     },
     "metadata": {},
     "output_type": "display_data"
    }
   ],
   "source": [
    "# Returns - using matplotlib\n",
    "def my_bar(ser, ax):\n",
    "    ax.bar(ser.index, ser)\n",
    "    ax.xaxis.set_major_locator(dates.MonthLocator())\n",
    "    ax.xaxis.set_major_formatter(dates.DateFormatter('%b-%y'))\n",
    "    ax.xaxis.set_minor_locator(dates.DayLocator())\n",
    "\n",
    "    return ser\n",
    "\n",
    "fig, ax=plt.subplots(figsize=(10,4))\n",
    "_ = (aapl\n",
    " .pct_change()\n",
    " .Close\n",
    " .iloc[-100:] #last 100 rows\n",
    " .pipe(my_bar,ax)\n",
    ")"
   ]
  },
  {
   "cell_type": "markdown",
   "id": "2f1ba6be-cb51-43cc-80b0-c30feb45989b",
   "metadata": {},
   "source": [
    "#### Cumulative Returns"
   ]
  },
  {
   "cell_type": "markdown",
   "id": "8b67ea34-3236-4270-891e-9ab4acb7fce6",
   "metadata": {},
   "source": [
    "Goal:\n",
    "- More complicated Pandas\n",
    "- Refactoring into a function\n",
    "- Explore source\n",
    "- Creating new columns with .assign\n",
    "- Illustrate lambda\n",
    "\n",
    "Cumulative Returns is the amount that investment has gained or lost over time:\n",
    "$$\\frac{\\text{current\\_price} - \\text{original\\_price}}{\\text{original\\_price}}$$\n"
   ]
  },
  {
   "cell_type": "code",
   "execution_count": 31,
   "id": "9c05c891-638b-452a-a9c1-d98ef92f121a",
   "metadata": {},
   "outputs": [
    {
     "data": {
      "text/plain": [
       "<Axes: xlabel='Date'>"
      ]
     },
     "execution_count": 31,
     "metadata": {},
     "output_type": "execute_result"
    },
    {
     "data": {
      "image/png": "[encoded data removed]",
      "text/plain": [
       "<Figure size 640x480 with 1 Axes>"
      ]
     },
     "metadata": {},
     "output_type": "display_data"
    }
   ],
   "source": [
    "(aapl\n",
    " .Close\n",
    " .plot()\n",
    ")"
   ]
  },
  {
   "cell_type": "code",
   "execution_count": 32,
   "id": "c6830e5b-2a63-4939-ba80-d4c1bd06a8c0",
   "metadata": {},
   "outputs": [
    {
     "name": "stderr",
     "output_type": "stream",
     "text": [
      "C:\\Users\\Admin\\AppData\\Local\\Temp\\ipykernel_12716\\2621645589.py:3: FutureWarning: Series.__getitem__ treating keys as positions is deprecated. In a future version, integer keys will always be treated as labels (consistent with DataFrame behavior). To access a value by position, use `ser.iloc[pos]`\n",
      "  .sub(aapl.Close[0])\n"
     ]
    },
    {
     "ename": "IndexError",
     "evalue": "index 0 is out of bounds for axis 0 with size 0",
     "output_type": "error",
     "traceback": [
      "\u001b[1;31m---------------------------------------------------------------------------\u001b[0m",
      "\u001b[1;31mIndexError\u001b[0m                                Traceback (most recent call last)",
      "Cell \u001b[1;32mIn[32], line 3\u001b[0m\n\u001b[0;32m      1\u001b[0m (aapl\n\u001b[0;32m      2\u001b[0m  \u001b[38;5;241m.\u001b[39mClose\n\u001b[1;32m----> 3\u001b[0m  \u001b[38;5;241m.\u001b[39msub(\u001b[43maapl\u001b[49m\u001b[38;5;241;43m.\u001b[39;49m\u001b[43mClose\u001b[49m\u001b[43m[\u001b[49m\u001b[38;5;241;43m0\u001b[39;49m\u001b[43m]\u001b[49m)\n\u001b[0;32m      4\u001b[0m  \u001b[38;5;241m.\u001b[39mdiv(aapl\u001b[38;5;241m.\u001b[39mClose[\u001b[38;5;241m0\u001b[39m])\n\u001b[0;32m      5\u001b[0m  \u001b[38;5;241m.\u001b[39mplot()\n\u001b[0;32m      6\u001b[0m )\n",
      "File \u001b[1;32mD:\\Python\\Lib\\site-packages\\pandas\\core\\series.py:1118\u001b[0m, in \u001b[0;36mSeries.__getitem__\u001b[1;34m(self, key)\u001b[0m\n\u001b[0;32m   1108\u001b[0m \u001b[38;5;28;01mif\u001b[39;00m is_integer(key) \u001b[38;5;129;01mand\u001b[39;00m \u001b[38;5;28mself\u001b[39m\u001b[38;5;241m.\u001b[39mindex\u001b[38;5;241m.\u001b[39m_should_fallback_to_positional:\n\u001b[0;32m   1109\u001b[0m     warnings\u001b[38;5;241m.\u001b[39mwarn(\n\u001b[0;32m   1110\u001b[0m         \u001b[38;5;66;03m# GH#50617\u001b[39;00m\n\u001b[0;32m   1111\u001b[0m         \u001b[38;5;124m\"\u001b[39m\u001b[38;5;124mSeries.__getitem__ treating keys as positions is deprecated. \u001b[39m\u001b[38;5;124m\"\u001b[39m\n\u001b[1;32m   (...)\u001b[0m\n\u001b[0;32m   1116\u001b[0m         stacklevel\u001b[38;5;241m=\u001b[39mfind_stack_level(),\n\u001b[0;32m   1117\u001b[0m     )\n\u001b[1;32m-> 1118\u001b[0m     \u001b[38;5;28;01mreturn\u001b[39;00m \u001b[38;5;28;43mself\u001b[39;49m\u001b[38;5;241;43m.\u001b[39;49m\u001b[43m_values\u001b[49m\u001b[43m[\u001b[49m\u001b[43mkey\u001b[49m\u001b[43m]\u001b[49m\n\u001b[0;32m   1120\u001b[0m \u001b[38;5;28;01melif\u001b[39;00m key_is_scalar:\n\u001b[0;32m   1121\u001b[0m     \u001b[38;5;28;01mreturn\u001b[39;00m \u001b[38;5;28mself\u001b[39m\u001b[38;5;241m.\u001b[39m_get_value(key)\n",
      "\u001b[1;31mIndexError\u001b[0m: index 0 is out of bounds for axis 0 with size 0"
     ]
    }
   ],
   "source": [
    "(aapl\n",
    " .Close\n",
    " .sub(aapl.Close[0])\n",
    " .div(aapl.Close[0])\n",
    " .plot()\n",
    ")"
   ]
  },
  {
   "cell_type": "code",
   "execution_count": null,
   "id": "1c0d4713-2f10-46d2-9c7a-a0796f15c03a",
   "metadata": {},
   "outputs": [],
   "source": [
    "# alternate calculation\n",
    "(aapl\n",
    " .Close\n",
    " .pct_change()\n",
    " .add(1)\n",
    " .cumprod()\n",
    " .sub(1)\n",
    " .plot()\n",
    ")"
   ]
  },
  {
   "cell_type": "code",
   "execution_count": null,
   "id": "e572ba62-4397-4b12-a1e2-8a631c5d7bd6",
   "metadata": {},
   "outputs": [],
   "source": [
    "aapl.cumprod??"
   ]
  },
  {
   "cell_type": "code",
   "execution_count": null,
   "id": "34fc6cfe-8cbe-4e6d-9805-44ada44ac3c4",
   "metadata": {},
   "outputs": [],
   "source": [
    "pd.core.generic.NDFrame.cumprod??"
   ]
  },
  {
   "cell_type": "code",
   "execution_count": null,
   "id": "60827171-7429-4cb0-80c2-a6097642fb27",
   "metadata": {},
   "outputs": [],
   "source": [
    "np.cumprod??"
   ]
  },
  {
   "cell_type": "markdown",
   "id": "3a4935c9-f6de-4435-8236-12ece550a121",
   "metadata": {},
   "source": [
    "In Jupyter Notebook, using double question marks (??) is a handy way to pull up the source code of a function or method. Here's how it works:\n",
    "\n",
    "When you type function_name?? and run the cell, Jupyter Notebook will display the source code of that function.\n",
    "This is useful for understanding how a function works internally, especially if you want to see the implementation details.\n",
    "\n",
    "For example, if you want to see the source code for the cumprod method in pandas, you would type:\n",
    "python\n",
    "pd.Series.cumprod??\n",
    "\n",
    "This will show you the actual code behind the cumprod method, helping you understand its inner workings.\n"
   ]
  },
  {
   "cell_type": "code",
   "execution_count": null,
   "id": "33c67c52-764b-458f-b975-0352278453d9",
   "metadata": {},
   "outputs": [],
   "source": [
    "# create a function for calculating\n",
    "def calc_cum_returns(df,col):\n",
    "    ser=df[col]\n",
    "    return (ser\n",
    "            .sub(ser[0])\n",
    "            .div(ser[0])\n",
    "           )\n",
    "\n",
    "(aapl\n",
    " .pipe(calc_cum_returns, 'Close')\n",
    " .plot()\n",
    ")"
   ]
  },
  {
   "cell_type": "code",
   "execution_count": null,
   "id": "7f2b303b-29d0-47b3-9c3f-a7fd268ae180",
   "metadata": {},
   "outputs": [],
   "source": [
    "def get_returns(df):\n",
    "    return calc_cum_returns(df,'Close')\n",
    "\n",
    "get_returns(aapl)"
   ]
  },
  {
   "cell_type": "code",
   "execution_count": null,
   "id": "f029751e-f48e-4889-a42c-5a708ffd6e1e",
   "metadata": {},
   "outputs": [],
   "source": [
    "# Lambda is an \"anonymous function\"\n",
    "\n",
    "(lambda df: get_returns(df))(aapl)"
   ]
  },
  {
   "cell_type": "code",
   "execution_count": null,
   "id": "6203181f-dd8f-4d3e-874d-7ef3cf83210b",
   "metadata": {},
   "outputs": [],
   "source": [
    "# Create a new column\n",
    "(aapl\n",
    " .assign(cum_returns=lambda df:calc_cum_returns(df,'Close'))\n",
    ")"
   ]
  },
  {
   "cell_type": "code",
   "execution_count": null,
   "id": "3e8ec2b5-b80d-42f5-a86c-da4b2d6fd4f0",
   "metadata": {},
   "outputs": [],
   "source": [
    "# Returns - using matplotlib\n",
    "def my_bar(ser, ax):\n",
    "    ax.bar(ser.index, ser)\n",
    "    ax.xaxis.set_major_locator(dates.MonthLocator())\n",
    "    ax.xaxis.set_major_formatter(dates.DateFormatter('%b-%y'))\n",
    "    ax.xaxis.set_minor_locator(dates.DayLocator())\n",
    "    return ser\n",
    "\n",
    "fig, ax=plt.subplots(figsize=(10,4))\n",
    "_=(aapl\n",
    "   .pipe(calc_cum_returns,'Close')\n",
    "   .iloc[-100:]\n",
    "   .pipe(my_bar,ax)\n",
    "  )"
   ]
  },
  {
   "cell_type": "markdown",
   "id": "5752b88a-c727-4820-a2fe-09b3fb9cd982",
   "metadata": {},
   "source": [
    "#### Volatility"
   ]
  },
  {
   "cell_type": "markdown",
   "id": "9ad2f6bb-6071-467e-b919-e26e8f30f0e1",
   "metadata": {},
   "source": [
    "Goals\n",
    "- More complicated Pandas\n",
    "- Learn about rolling operations"
   ]
  },
  {
   "cell_type": "code",
   "execution_count": null,
   "id": "f8e33a57-a1ba-4a20-a950-d93db4ec94d5",
   "metadata": {},
   "outputs": [],
   "source": [
    "(aapl\n",
    " .Close\n",
    " .mean()\n",
    ")"
   ]
  },
  {
   "cell_type": "code",
   "execution_count": null,
   "id": "a4f635b2-13b4-4d2e-adc3-47e1e0a609ca",
   "metadata": {},
   "outputs": [],
   "source": [
    "(aapl\n",
    " .Close\n",
    " .std() # Standard Deviation\n",
    ")"
   ]
  },
  {
   "cell_type": "code",
   "execution_count": null,
   "id": "a69d7e40-932c-4b78-b4a3-4a918b41a919",
   "metadata": {},
   "outputs": [],
   "source": [
    "(aapl\n",
    " .assign(pct_change_close=aapl.Close.pct_change())\n",
    " .pct_change_close\n",
    " .std()\n",
    ")"
   ]
  },
  {
   "cell_type": "code",
   "execution_count": null,
   "id": "bcc6cf53-7482-48cb-8a94-7e466f8098ea",
   "metadata": {},
   "outputs": [],
   "source": [
    "(aapl\n",
    " .assign(close_vol=aapl.rolling(30).Close.std(),\n",
    "         per_vol=aapl.Close.pct_change().rolling(30).std())\n",
    " .iloc[:, -2:]\n",
    " .plot(subplots=True)\n",
    ")"
   ]
  },
  {
   "cell_type": "code",
   "execution_count": null,
   "id": "e12d538d-cd8f-4593-9083-36f365c03ff9",
   "metadata": {},
   "outputs": [],
   "source": [
    "# 15 day grouping volatility\n",
    "(aapl\n",
    " .assign(pct_change_close=aapl.Close.pct_change())\n",
    " .resample('15D')\n",
    " .std()\n",
    ")"
   ]
  },
  {
   "cell_type": "code",
   "execution_count": null,
   "id": "bad654e1-b670-4ba6-a049-893191fb49a8",
   "metadata": {},
   "outputs": [],
   "source": [
    "# 15 day rolling volatility\n",
    "(aapl\n",
    " .assign(pct_change_close=aapl.Close.pct_change())\n",
    " .rolling(window=15, min_periods=15)\n",
    " .std()\n",
    ")"
   ]
  },
  {
   "cell_type": "markdown",
   "id": "dee0c75c-900d-40d0-adef-8656d1dacfc9",
   "metadata": {},
   "source": [
    "- **Window**: This parameter specifies the size of the moving window. For example, if you set window=30, it means the rolling calculation will consider the last 30 data points for each computation.\n",
    "- **min_periods**: This parameter specifies the minimum number of observations in the window required to have a value. For example, if you set min_periods=1, the rolling calculation will produce a result even if there's only one data point in the window. If not specified, it defaults to the window size.\n",
    "\n",
    "\n",
    "These parameters help in customizing the rolling calculations to suit your data analysis needs."
   ]
  },
  {
   "cell_type": "code",
   "execution_count": null,
   "id": "75f686a8-fb6e-4dba-984e-0fb28a25562b",
   "metadata": {},
   "outputs": [],
   "source": [
    "# 15 day volatility\n",
    "# note if column name conflicts with method need to use\n",
    "# index access ([])\n",
    "(aapl\n",
    " .assign(pct_change=aapl.Close.pct_change())\n",
    " .rolling(window=15,min_periods=15)\n",
    " .std()\n",
    " # .pct_change\n",
    " ['pct_change']\n",
    " .plot()\n",
    ")"
   ]
  },
  {
   "cell_type": "markdown",
   "id": "cb78aa74-c7c2-4c40-9562-60193ab05ebe",
   "metadata": {},
   "source": [
    "In the \"Volatility\" video, the instructor uses df['pct_change'] instead of df.pct_change because pct_change is a built-in method of the pandas DataFrame. Using df.pct_change would call the method instead of accessing the column. To avoid this conflict and correctly access the column, the ['pct_change'] syntax is used. This ensures you're referring to the column and not the method."
   ]
  },
  {
   "cell_type": "markdown",
   "id": "546ae774-f39b-497f-a8e5-c84349749a75",
   "metadata": {},
   "source": [
    "#### Challenge"
   ]
  },
  {
   "cell_type": "markdown",
   "id": "c17453e1-86b0-479a-8532-1467fc187452",
   "metadata": {},
   "source": [
    "Plot the rolling volatility over 30-day sliding windows for 2015-2019"
   ]
  },
  {
   "cell_type": "code",
   "execution_count": null,
   "id": "47b287a3-8c17-464f-8345-0be66ef54d8e",
   "metadata": {},
   "outputs": [],
   "source": [
    "(aapl\n",
    " .assign(pct_change=aapl.Close.pct_change())\n",
    " .loc['2015':'2019']\n",
    " .rolling(window=30,min_periods=30) # .rolling(30,min_periods=30)\n",
    " .std()\n",
    " ['pct_change']\n",
    " .plot()\n",
    ")"
   ]
  },
  {
   "cell_type": "markdown",
   "id": "1dbeece6-6966-4ef5-ace4-7be336bff5bd",
   "metadata": {},
   "source": [
    "## Rolling Windows"
   ]
  },
  {
   "cell_type": "markdown",
   "id": "16565425-58cf-4816-a984-f280330d0be9",
   "metadata": {},
   "source": [
    "#### Simple Moving Average"
   ]
  },
  {
   "cell_type": "markdown",
   "id": "074dce76-0c26-45ea-9af5-88e49b6d87a8",
   "metadata": {},
   "source": [
    "Goals:\n",
    "- Build intuition for rolling\n",
    "- Illustrate lamba\n",
    "- Slicing"
   ]
  },
  {
   "cell_type": "code",
   "execution_count": null,
   "id": "bed3d18a-e91d-43f5-ab25-a668d386f730",
   "metadata": {},
   "outputs": [],
   "source": [
    "(aapl\n",
    " .assign(s1=appl.Close.shift(1),\n",
    "         s2=aapl.Close.shift(2),\n",
    "         ma3=lambda df_:df_.loc[:.['Close','s1','s2']].mean(axis='columns'),\n",
    "         ma3_builtin=aapl.Close.rolling(3).mean()\n",
    "        )\n",
    ")"
   ]
  },
  {
   "cell_type": "markdown",
   "id": "2b5a2791-4dfb-492a-97e5-a5c570eaca6d",
   "metadata": {},
   "source": [
    "#### Moving Averages Plotting"
   ]
  },
  {
   "cell_type": "code",
   "execution_count": null,
   "id": "6cb6ed2d-7f26-4b5d-ab68-bb1d936d531a",
   "metadata": {},
   "outputs": [],
   "source": [
    "(aapl\n",
    " .assign(s1=appl.Close.shift(1),\n",
    "         s2=aapl.Close.shift(2),\n",
    "         ma3=lambda df_:df_.loc[:.['Close','s1','s2']].mean(axis='columns'),\n",
    "         ma3_builtin=aapl.Close.rolling(3).mean()\n",
    "        )\n",
    " .plot()\n",
    ")"
   ]
  },
  {
   "cell_type": "code",
   "execution_count": null,
   "id": "9462d15b-1dbe-42d8-8d0c-ccf720dc6654",
   "metadata": {},
   "outputs": [],
   "source": [
    "(aapl\n",
    " .assign(s1=appl.Close.shift(1),\n",
    "         s2=aapl.Close.shift(2),\n",
    "         ma3=lambda df_:df_.loc[:.['Close','s1','s2']].mean(axis='columns'),\n",
    "         ma3_builtin=aapl.Close.rolling(3).mean()\n",
    "        )\n",
    " [['Close','ma3']]\n",
    " .iloc[-200:]\n",
    " .plot()\n",
    ")"
   ]
  },
  {
   "cell_type": "code",
   "execution_count": null,
   "id": "0778ce80-f930-4756-9d92-309fc596c26a",
   "metadata": {},
   "outputs": [],
   "source": [
    "# Golden Cross\n",
    "(aapl\n",
    " .assign(\n",
    "         ma50=aapl.Close.rolling(50).mean(),\n",
    "         ma200=aapl.Close.rolling(200).mean(),\n",
    "        )\n",
    " [['Close','ma50','ma200']]\n",
    " .iloc[-400:]\n",
    " .plot()\n",
    ")"
   ]
  },
  {
   "cell_type": "markdown",
   "id": "28ee2be5-8660-4d1c-95ac-39ff3fab1a9a",
   "metadata": {},
   "source": [
    "#### Challenge: Exponential moving average"
   ]
  },
  {
   "cell_type": "markdown",
   "id": "730b628b-b789-4b59-9bf9-c76049802275",
   "metadata": {},
   "source": [
    "Create a plot with three lines:\n",
    "- AAPL close price in 2015\n",
    "- Exponential moving average with alpha=.0392\n",
    "- Exponential moving average with alpha=.00995\n",
    "\n",
    "Hint:\n",
    "- Use the .ewm method to create a rolling aggregator."
   ]
  },
  {
   "cell_type": "code",
   "execution_count": 33,
   "id": "df980e45-17e8-437f-aacc-85459d332c68",
   "metadata": {},
   "outputs": [
    {
     "data": {
      "text/plain": [
       "\u001b[1;31mSignature:\u001b[0m\n",
       "\u001b[0maapl\u001b[0m\u001b[1;33m.\u001b[0m\u001b[0mewm\u001b[0m\u001b[1;33m(\u001b[0m\u001b[1;33m\n",
       "\u001b[0m    \u001b[0mcom\u001b[0m\u001b[1;33m:\u001b[0m \u001b[1;34m'float | None'\u001b[0m \u001b[1;33m=\u001b[0m \u001b[1;32mNone\u001b[0m\u001b[1;33m,\u001b[0m\u001b[1;33m\n",
       "\u001b[0m    \u001b[0mspan\u001b[0m\u001b[1;33m:\u001b[0m \u001b[1;34m'float | None'\u001b[0m \u001b[1;33m=\u001b[0m \u001b[1;32mNone\u001b[0m\u001b[1;33m,\u001b[0m\u001b[1;33m\n",
       "\u001b[0m    \u001b[0mhalflife\u001b[0m\u001b[1;33m:\u001b[0m \u001b[1;34m'float | TimedeltaConvertibleTypes | None'\u001b[0m \u001b[1;33m=\u001b[0m \u001b[1;32mNone\u001b[0m\u001b[1;33m,\u001b[0m\u001b[1;33m\n",
       "\u001b[0m    \u001b[0malpha\u001b[0m\u001b[1;33m:\u001b[0m \u001b[1;34m'float | None'\u001b[0m \u001b[1;33m=\u001b[0m \u001b[1;32mNone\u001b[0m\u001b[1;33m,\u001b[0m\u001b[1;33m\n",
       "\u001b[0m    \u001b[0mmin_periods\u001b[0m\u001b[1;33m:\u001b[0m \u001b[1;34m'int | None'\u001b[0m \u001b[1;33m=\u001b[0m \u001b[1;36m0\u001b[0m\u001b[1;33m,\u001b[0m\u001b[1;33m\n",
       "\u001b[0m    \u001b[0madjust\u001b[0m\u001b[1;33m:\u001b[0m \u001b[1;34m'bool_t'\u001b[0m \u001b[1;33m=\u001b[0m \u001b[1;32mTrue\u001b[0m\u001b[1;33m,\u001b[0m\u001b[1;33m\n",
       "\u001b[0m    \u001b[0mignore_na\u001b[0m\u001b[1;33m:\u001b[0m \u001b[1;34m'bool_t'\u001b[0m \u001b[1;33m=\u001b[0m \u001b[1;32mFalse\u001b[0m\u001b[1;33m,\u001b[0m\u001b[1;33m\n",
       "\u001b[0m    \u001b[0maxis\u001b[0m\u001b[1;33m:\u001b[0m \u001b[1;34m'Axis | lib.NoDefault'\u001b[0m \u001b[1;33m=\u001b[0m \u001b[1;33m<\u001b[0m\u001b[0mno_default\u001b[0m\u001b[1;33m>\u001b[0m\u001b[1;33m,\u001b[0m\u001b[1;33m\n",
       "\u001b[0m    \u001b[0mtimes\u001b[0m\u001b[1;33m:\u001b[0m \u001b[1;34m'np.ndarray | DataFrame | Series | None'\u001b[0m \u001b[1;33m=\u001b[0m \u001b[1;32mNone\u001b[0m\u001b[1;33m,\u001b[0m\u001b[1;33m\n",
       "\u001b[0m    \u001b[0mmethod\u001b[0m\u001b[1;33m:\u001b[0m \u001b[1;34m\"Literal['single', 'table']\"\u001b[0m \u001b[1;33m=\u001b[0m \u001b[1;34m'single'\u001b[0m\u001b[1;33m,\u001b[0m\u001b[1;33m\n",
       "\u001b[0m\u001b[1;33m)\u001b[0m \u001b[1;33m->\u001b[0m \u001b[1;34m'ExponentialMovingWindow'\u001b[0m\u001b[1;33m\u001b[0m\u001b[1;33m\u001b[0m\u001b[0m\n",
       "\u001b[1;31mDocstring:\u001b[0m\n",
       "Provide exponentially weighted (EW) calculations.\n",
       "\n",
       "Exactly one of ``com``, ``span``, ``halflife``, or ``alpha`` must be\n",
       "provided if ``times`` is not provided. If ``times`` is provided,\n",
       "``halflife`` and one of ``com``, ``span`` or ``alpha`` may be provided.\n",
       "\n",
       "Parameters\n",
       "----------\n",
       "com : float, optional\n",
       "    Specify decay in terms of center of mass\n",
       "\n",
       "    :math:`\\alpha = 1 / (1 + com)`, for :math:`com \\geq 0`.\n",
       "\n",
       "span : float, optional\n",
       "    Specify decay in terms of span\n",
       "\n",
       "    :math:`\\alpha = 2 / (span + 1)`, for :math:`span \\geq 1`.\n",
       "\n",
       "halflife : float, str, timedelta, optional\n",
       "    Specify decay in terms of half-life\n",
       "\n",
       "    :math:`\\alpha = 1 - \\exp\\left(-\\ln(2) / halflife\\right)`, for\n",
       "    :math:`halflife > 0`.\n",
       "\n",
       "    If ``times`` is specified, a timedelta convertible unit over which an\n",
       "    observation decays to half its value. Only applicable to ``mean()``,\n",
       "    and halflife value will not apply to the other functions.\n",
       "\n",
       "alpha : float, optional\n",
       "    Specify smoothing factor :math:`\\alpha` directly\n",
       "\n",
       "    :math:`0 < \\alpha \\leq 1`.\n",
       "\n",
       "min_periods : int, default 0\n",
       "    Minimum number of observations in window required to have a value;\n",
       "    otherwise, result is ``np.nan``.\n",
       "\n",
       "adjust : bool, default True\n",
       "    Divide by decaying adjustment factor in beginning periods to account\n",
       "    for imbalance in relative weightings (viewing EWMA as a moving average).\n",
       "\n",
       "    - When ``adjust=True`` (default), the EW function is calculated using weights\n",
       "      :math:`w_i = (1 - \\alpha)^i`. For example, the EW moving average of the series\n",
       "      [:math:`x_0, x_1, ..., x_t`] would be:\n",
       "\n",
       "    .. math::\n",
       "        y_t = \\frac{x_t + (1 - \\alpha)x_{t-1} + (1 - \\alpha)^2 x_{t-2} + ... + (1 -\n",
       "        \\alpha)^t x_0}{1 + (1 - \\alpha) + (1 - \\alpha)^2 + ... + (1 - \\alpha)^t}\n",
       "\n",
       "    - When ``adjust=False``, the exponentially weighted function is calculated\n",
       "      recursively:\n",
       "\n",
       "    .. math::\n",
       "        \\begin{split}\n",
       "            y_0 &= x_0\\\\\n",
       "            y_t &= (1 - \\alpha) y_{t-1} + \\alpha x_t,\n",
       "        \\end{split}\n",
       "ignore_na : bool, default False\n",
       "    Ignore missing values when calculating weights.\n",
       "\n",
       "    - When ``ignore_na=False`` (default), weights are based on absolute positions.\n",
       "      For example, the weights of :math:`x_0` and :math:`x_2` used in calculating\n",
       "      the final weighted average of [:math:`x_0`, None, :math:`x_2`] are\n",
       "      :math:`(1-\\alpha)^2` and :math:`1` if ``adjust=True``, and\n",
       "      :math:`(1-\\alpha)^2` and :math:`\\alpha` if ``adjust=False``.\n",
       "\n",
       "    - When ``ignore_na=True``, weights are based\n",
       "      on relative positions. For example, the weights of :math:`x_0` and :math:`x_2`\n",
       "      used in calculating the final weighted average of\n",
       "      [:math:`x_0`, None, :math:`x_2`] are :math:`1-\\alpha` and :math:`1` if\n",
       "      ``adjust=True``, and :math:`1-\\alpha` and :math:`\\alpha` if ``adjust=False``.\n",
       "\n",
       "axis : {0, 1}, default 0\n",
       "    If ``0`` or ``'index'``, calculate across the rows.\n",
       "\n",
       "    If ``1`` or ``'columns'``, calculate across the columns.\n",
       "\n",
       "    For `Series` this parameter is unused and defaults to 0.\n",
       "\n",
       "times : np.ndarray, Series, default None\n",
       "\n",
       "    Only applicable to ``mean()``.\n",
       "\n",
       "    Times corresponding to the observations. Must be monotonically increasing and\n",
       "    ``datetime64[ns]`` dtype.\n",
       "\n",
       "    If 1-D array like, a sequence with the same shape as the observations.\n",
       "\n",
       "method : str {'single', 'table'}, default 'single'\n",
       "    .. versionadded:: 1.4.0\n",
       "\n",
       "    Execute the rolling operation per single column or row (``'single'``)\n",
       "    or over the entire object (``'table'``).\n",
       "\n",
       "    This argument is only implemented when specifying ``engine='numba'``\n",
       "    in the method call.\n",
       "\n",
       "    Only applicable to ``mean()``\n",
       "\n",
       "Returns\n",
       "-------\n",
       "pandas.api.typing.ExponentialMovingWindow\n",
       "\n",
       "See Also\n",
       "--------\n",
       "rolling : Provides rolling window calculations.\n",
       "expanding : Provides expanding transformations.\n",
       "\n",
       "Notes\n",
       "-----\n",
       "See :ref:`Windowing Operations <window.exponentially_weighted>`\n",
       "for further usage details and examples.\n",
       "\n",
       "Examples\n",
       "--------\n",
       ">>> df = pd.DataFrame({'B': [0, 1, 2, np.nan, 4]})\n",
       ">>> df\n",
       "     B\n",
       "0  0.0\n",
       "1  1.0\n",
       "2  2.0\n",
       "3  NaN\n",
       "4  4.0\n",
       "\n",
       ">>> df.ewm(com=0.5).mean()\n",
       "          B\n",
       "0  0.000000\n",
       "1  0.750000\n",
       "2  1.615385\n",
       "3  1.615385\n",
       "4  3.670213\n",
       ">>> df.ewm(alpha=2 / 3).mean()\n",
       "          B\n",
       "0  0.000000\n",
       "1  0.750000\n",
       "2  1.615385\n",
       "3  1.615385\n",
       "4  3.670213\n",
       "\n",
       "**adjust**\n",
       "\n",
       ">>> df.ewm(com=0.5, adjust=True).mean()\n",
       "          B\n",
       "0  0.000000\n",
       "1  0.750000\n",
       "2  1.615385\n",
       "3  1.615385\n",
       "4  3.670213\n",
       ">>> df.ewm(com=0.5, adjust=False).mean()\n",
       "          B\n",
       "0  0.000000\n",
       "1  0.666667\n",
       "2  1.555556\n",
       "3  1.555556\n",
       "4  3.650794\n",
       "\n",
       "**ignore_na**\n",
       "\n",
       ">>> df.ewm(com=0.5, ignore_na=True).mean()\n",
       "          B\n",
       "0  0.000000\n",
       "1  0.750000\n",
       "2  1.615385\n",
       "3  1.615385\n",
       "4  3.225000\n",
       ">>> df.ewm(com=0.5, ignore_na=False).mean()\n",
       "          B\n",
       "0  0.000000\n",
       "1  0.750000\n",
       "2  1.615385\n",
       "3  1.615385\n",
       "4  3.670213\n",
       "\n",
       "**times**\n",
       "\n",
       "Exponentially weighted mean with weights calculated with a timedelta ``halflife``\n",
       "relative to ``times``.\n",
       "\n",
       ">>> times = ['2020-01-01', '2020-01-03', '2020-01-10', '2020-01-15', '2020-01-17']\n",
       ">>> df.ewm(halflife='4 days', times=pd.DatetimeIndex(times)).mean()\n",
       "          B\n",
       "0  0.000000\n",
       "1  0.585786\n",
       "2  1.523889\n",
       "3  1.523889\n",
       "4  3.233686\n",
       "\u001b[1;31mFile:\u001b[0m      d:\\python\\lib\\site-packages\\pandas\\core\\generic.py\n",
       "\u001b[1;31mType:\u001b[0m      method"
      ]
     },
     "metadata": {},
     "output_type": "display_data"
    }
   ],
   "source": [
    "aapl.ewm?  "
   ]
  },
  {
   "cell_type": "code",
   "execution_count": 35,
   "id": "852173ad-9b2c-4daa-83cc-821734c81229",
   "metadata": {},
   "outputs": [
    {
     "ename": "SyntaxError",
     "evalue": "closing parenthesis ']' does not match opening parenthesis '(' on line 2 (3853214415.py, line 7)",
     "output_type": "error",
     "traceback": [
      "\u001b[1;36m  Cell \u001b[1;32mIn[35], line 7\u001b[1;36m\u001b[0m\n\u001b[1;33m    .loc['2015':'2015'], ['Close','ewm_0392','ewm_00995']]\u001b[0m\n\u001b[1;37m                                                         ^\u001b[0m\n\u001b[1;31mSyntaxError\u001b[0m\u001b[1;31m:\u001b[0m closing parenthesis ']' does not match opening parenthesis '(' on line 2\n"
     ]
    }
   ],
   "source": [
    "# Golden Cross\n",
    "(aapl\n",
    " .assign(\n",
    "         ewm_0392=aapl.Close.ewm(alpha=.0392).mean(), # alpha is the smoothing factor\n",
    "         ewm_00995=aapl.Close.ewm(alpha=.00995).mean(),\n",
    "        )\n",
    " .loc['2015':'2015'], ['Close','ewm_0392','ewm_00995']]\n",
    " .plot()\n",
    ")"
   ]
  },
  {
   "cell_type": "markdown",
   "id": "e803280a-6cda-44bf-91f3-33c6cf2f66f6",
   "metadata": {},
   "source": [
    "## Technical Analysis"
   ]
  },
  {
   "cell_type": "markdown",
   "id": "6cff9fe3-68ba-4386-ba0e-ecca5a40311e",
   "metadata": {},
   "source": [
    "Goals:\n",
    "- Show if/else in Pandas\n",
    "- Refactoring to functions"
   ]
  },
  {
   "cell_type": "markdown",
   "id": "5143a353-faf1-481b-abe1-3c7079dd4ebb",
   "metadata": {},
   "source": [
    "#### On-balance Volume (OBV)\n",
    "Indicator of momentum using volume\n",
    "\n",
    "$$\n",
    "OBV = OBV_{prev} + \n",
    "\\begin{cases} \n",
    "\\text{volume}, & \\text{if } close > close_{prev} \\\\\n",
    "0, & \\text{if } close = close_{prev} \\\\\n",
    "-\\text{volume}, & \\text{if } close < close_{prev} \n",
    "\\end{cases}\n",
    "$$\n",
    "\n",
    "$$\n",
    "\\mathbf{where:}\n",
    "$$\n",
    "\n",
    "$$\n",
    "OBV = \\text{Current on-balance volume level}\n",
    "$$\n",
    "\n",
    "$$\n",
    "OBV_{prev} = \\text{Previous on-balance volume level}\n",
    "$$\n",
    "\n",
    "$$\n",
    "\\text{volume} = \\text{Latest trading volume amount}\n",
    "$$"
   ]
  },
  {
   "cell_type": "code",
   "execution_count": null,
   "id": "6bc625a5-5bf6-4b3a-8b41-cb0affbd47d3",
   "metadata": {},
   "outputs": [],
   "source": [
    "aapl.Close"
   ]
  },
  {
   "cell_type": "code",
   "execution_count": null,
   "id": "b376bac0-e1d5-46a0-9090-46ea5971c235",
   "metadata": {},
   "outputs": [],
   "source": [
    "aapl.Close.shift(1)"
   ]
  },
  {
   "cell_type": "code",
   "execution_count": null,
   "id": "85dba8fc-528a-4061-8791-5d26c2a3ae00",
   "metadata": {},
   "outputs": [],
   "source": [
    "# naive\n",
    "\n",
    "def calc_obv(df):\n",
    "    df = df.copy()\n",
    "    df[\"OBV\"] = 0.0\n",
    "\n",
    "    # loop through the data and calculate OBV\n",
    "    for i in range(1, len(df)):\n",
    "        if df[\"Close\"][i] > df[\"Close\"][i - 1]:\n",
    "            df[\"OBV\" ][i] = df[\"OBV\"][i - 1] + df[\"Volume\"][i]\n",
    "        elif df[\"Close\"][i] < df[\"Close\"][i - 1]:\n",
    "            df[\"OBV\"][i] = df[\"OBV\"][i - 1] - df[\"Volume\"][i]\n",
    "        else:\n",
    "            df[\"OBV\"][i] = df[\"OBV\"] [i - 1]\n",
    "    return df\n",
    "\n",
    "calc_obv(aapl)"
   ]
  },
  {
   "cell_type": "code",
   "execution_count": null,
   "id": "a412f8a3-1efb-4496-b36f-8a29f6444798",
   "metadata": {},
   "outputs": [],
   "source": [
    "%%timeit\n",
    "calc_obv(aapl)"
   ]
  },
  {
   "cell_type": "code",
   "execution_count": null,
   "id": "0ba7d6b2-177b-4028-9bd2-ecab8a312ae1",
   "metadata": {},
   "outputs": [],
   "source": [
    "aao., Volume, where?\n",
    "X%timeit\n",
    "# This is painfull\n",
    "(aapl\n",
    "• assign(close_prev=aapl.Close.shift(1),\n",
    "vol=0,\n",
    "obv=lambda adf: adf.vol.where(cond=adf.Close == adf.close_prev,\n",
    "other=adf. Volume-where(cond=adf.Close › adf.close_prev,\n",
    "other=-adf.Volume.where(cond=adf.Close < adf.close_prev, other=0)\n",
    ")) - cumsum()"
   ]
  }
 ],
 "metadata": {
  "kernelspec": {
   "display_name": "Python 3 (ipykernel)",
   "language": "python",
   "name": "python3"
  },
  "language_info": {
   "codemirror_mode": {
    "name": "ipython",
    "version": 3
   },
   "file_extension": ".py",
   "mimetype": "text/x-python",
   "name": "python",
   "nbconvert_exporter": "python",
   "pygments_lexer": "ipython3",
   "version": "3.11.9"
  }
 },
 "nbformat": 4,
 "nbformat_minor": 5
}
